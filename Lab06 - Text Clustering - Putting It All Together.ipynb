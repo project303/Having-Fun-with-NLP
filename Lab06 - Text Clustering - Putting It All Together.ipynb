{
  "cells": [
    {
      "cell_type": "markdown",
      "metadata": {
        "id": "Am-_A8L24id7"
      },
      "source": [
        "# Lab 06 - DOCUMENT CLUSTERING\n",
        "\n",
        "Notebook version: 1.2402.0601\n",
        "\n",
        "<br>\n",
        "<br>"
      ]
    },
    {
      "cell_type": "markdown",
      "metadata": {
        "id": "8QWNHbRedyuM"
      },
      "source": [
        "## Library Preparation"
      ]
    },
    {
      "cell_type": "markdown",
      "metadata": {
        "id": "iqN-SnP8Z-Zw"
      },
      "source": [
        "<br>\n",
        "\n",
        "***If you use Google Colab, install sastrawi package***"
      ]
    },
    {
      "cell_type": "code",
      "execution_count": 1,
      "metadata": {
        "colab": {
          "base_uri": "https://localhost:8080/"
        },
        "id": "vZLJn6Ry7IBv",
        "outputId": "1ab45095-bc00-4812-ce1b-bb247e50f1d3"
      },
      "outputs": [
        {
          "output_type": "stream",
          "name": "stdout",
          "text": [
            "Collecting sastrawi\n",
            "  Downloading Sastrawi-1.0.1-py2.py3-none-any.whl (209 kB)\n",
            "\u001b[?25l     \u001b[90m━━━━━━━━━━━━━━━━━━━━━━━━━━━━━━━━━━━━━━━━\u001b[0m \u001b[32m0.0/209.7 kB\u001b[0m \u001b[31m?\u001b[0m eta \u001b[36m-:--:--\u001b[0m\r\u001b[2K     \u001b[91m━━━━━━━━━━━━━━━━━━━━━━━━━━━━━━━━━━━━━━━\u001b[0m\u001b[90m╺\u001b[0m \u001b[32m204.8/209.7 kB\u001b[0m \u001b[31m7.2 MB/s\u001b[0m eta \u001b[36m0:00:01\u001b[0m\r\u001b[2K     \u001b[90m━━━━━━━━━━━━━━━━━━━━━━━━━━━━━━━━━━━━━━━━\u001b[0m \u001b[32m209.7/209.7 kB\u001b[0m \u001b[31m5.6 MB/s\u001b[0m eta \u001b[36m0:00:00\u001b[0m\n",
            "\u001b[?25hInstalling collected packages: sastrawi\n",
            "Successfully installed sastrawi-1.0.1\n"
          ]
        }
      ],
      "source": [
        "!pip install sastrawi"
      ]
    },
    {
      "cell_type": "markdown",
      "metadata": {
        "id": "wXFx2tZK4ifN"
      },
      "source": [
        "<br>\n",
        "\n",
        "#### Import required library"
      ]
    },
    {
      "cell_type": "code",
      "execution_count": 2,
      "metadata": {
        "id": "CejV7KDD4ifY"
      },
      "outputs": [],
      "source": [
        "import nltk\n",
        "import re\n",
        "from Sastrawi.Stemmer.StemmerFactory import StemmerFactory\n",
        "\n",
        "from bs4 import BeautifulSoup\n",
        "\n",
        "import pandas as pd\n",
        "\n",
        "from sklearn.feature_extraction.text import TfidfVectorizer\n",
        "from sklearn.metrics.pairwise import cosine_similarity\n",
        "from sklearn.cluster import KMeans\n",
        "from sklearn.manifold import MDS\n",
        "\n",
        "import matplotlib.pyplot as plt"
      ]
    },
    {
      "cell_type": "markdown",
      "metadata": {
        "id": "BQ0t-sAleDVP"
      },
      "source": [
        "<br>\n",
        "\n",
        "#### Download punctuation"
      ]
    },
    {
      "cell_type": "markdown",
      "metadata": {
        "id": "wnMijOCkZEsA"
      },
      "source": [
        "<br>\n",
        "\n",
        "***If you use Google Colab, download stopwords dan punkt package***"
      ]
    },
    {
      "cell_type": "code",
      "execution_count": 3,
      "metadata": {
        "colab": {
          "base_uri": "https://localhost:8080/"
        },
        "id": "BfbPHY8f5CXB",
        "outputId": "e996655f-b716-4cff-f1bf-8dbe870f2443"
      },
      "outputs": [
        {
          "output_type": "stream",
          "name": "stderr",
          "text": [
            "[nltk_data] Downloading package stopwords to /root/nltk_data...\n",
            "[nltk_data]   Unzipping corpora/stopwords.zip.\n",
            "[nltk_data] Downloading package punkt to /root/nltk_data...\n",
            "[nltk_data]   Unzipping tokenizers/punkt.zip.\n"
          ]
        },
        {
          "output_type": "execute_result",
          "data": {
            "text/plain": [
              "True"
            ]
          },
          "metadata": {},
          "execution_count": 3
        }
      ],
      "source": [
        "nltk.download('stopwords')\n",
        "nltk.download('punkt')"
      ]
    },
    {
      "cell_type": "markdown",
      "source": [
        "<br>\n",
        "<br>"
      ],
      "metadata": {
        "id": "JTZLhrfMkT-U"
      }
    },
    {
      "cell_type": "markdown",
      "metadata": {
        "id": "1wCb-uk4eKCH"
      },
      "source": [
        "## Helper Function"
      ]
    },
    {
      "cell_type": "code",
      "execution_count": 4,
      "metadata": {
        "id": "2ddSVT9PeQNZ"
      },
      "outputs": [],
      "source": [
        "def tokenize_clean(text):\n",
        "\n",
        "    #tokenisasi\n",
        "    tokens = [word.lower() for sent in nltk.sent_tokenize(text) for word\n",
        "        in nltk.word_tokenize(sent)]\n",
        "\n",
        "    #clean token from numeric and other character like puntuation\n",
        "    filtered_tokens = []\n",
        "    for token in tokens:\n",
        "        if re.search('[a-zA-Z]', token):\n",
        "            filtered_tokens.append(token)\n",
        "\n",
        "    return filtered_tokens"
      ]
    },
    {
      "cell_type": "code",
      "execution_count": 5,
      "metadata": {
        "id": "mGNZ1XQEgDP7"
      },
      "outputs": [],
      "source": [
        "stopwords = nltk.corpus.stopwords.words('indonesian')\n",
        "\n",
        "def remove_stopwords(tokenized_text):\n",
        "\n",
        "    cleaned_token = []\n",
        "    for token in tokenized_text:\n",
        "        if token not in stopwords:\n",
        "            cleaned_token.append(token)\n",
        "\n",
        "    return cleaned_token"
      ]
    },
    {
      "cell_type": "code",
      "execution_count": 6,
      "metadata": {
        "id": "cBWuiz7KsTJZ"
      },
      "outputs": [],
      "source": [
        "#stem using Sastrawi StemmerFactory\n",
        "factory = StemmerFactory()\n",
        "stemmer = factory.create_stemmer()"
      ]
    },
    {
      "cell_type": "code",
      "execution_count": 7,
      "metadata": {
        "id": "WJCRTxkLgJ2a"
      },
      "outputs": [],
      "source": [
        "def stemming_text(tokenized_text):\n",
        "    stems = []\n",
        "    for token in tokenized_text:\n",
        "        stems.append(stemmer.stem(token))\n",
        "\n",
        "    return stems\n"
      ]
    },
    {
      "cell_type": "code",
      "execution_count": 8,
      "metadata": {
        "id": "NTXBhCEqgNC1"
      },
      "outputs": [],
      "source": [
        "def text_preprocessing(text):\n",
        "    result_step1 = tokenize_clean(text)\n",
        "    result_step2 = remove_stopwords(result_step1)\n",
        "    result = stemming_text(result_step2)\n",
        "\n",
        "    return result"
      ]
    },
    {
      "cell_type": "markdown",
      "metadata": {
        "id": "--whSIZjEfoJ"
      },
      "source": [
        "#### text_preprocessing Function Test"
      ]
    },
    {
      "cell_type": "code",
      "execution_count": 9,
      "metadata": {
        "id": "oUM4E0EkEpNR"
      },
      "outputs": [],
      "source": [
        "dataset = 'Di daerah, alokasi anggaran Transfer ke Daerah dan Dana Desa (TKDD) ditetapkan sebesar Rp766,16 triliun pada APBN 2018'"
      ]
    },
    {
      "cell_type": "code",
      "execution_count": 10,
      "metadata": {
        "id": "KmR6faqDttXl"
      },
      "outputs": [],
      "source": [
        "text_prep_result = text_preprocessing(dataset)"
      ]
    },
    {
      "cell_type": "code",
      "execution_count": 11,
      "metadata": {
        "id": "PkZEo9NGuByR",
        "colab": {
          "base_uri": "https://localhost:8080/"
        },
        "outputId": "ee6a1de3-c212-4fb3-f09d-c05b7b7e4c48"
      },
      "outputs": [
        {
          "output_type": "execute_result",
          "data": {
            "text/plain": [
              "12"
            ]
          },
          "metadata": {},
          "execution_count": 11
        }
      ],
      "source": [
        "len(text_prep_result)"
      ]
    },
    {
      "cell_type": "code",
      "execution_count": 13,
      "metadata": {
        "id": "bGptUe89uD7G",
        "colab": {
          "base_uri": "https://localhost:8080/"
        },
        "outputId": "ec999697-2fab-4ae0-8cec-4e0c177ff07e"
      },
      "outputs": [
        {
          "output_type": "stream",
          "name": "stdout",
          "text": [
            "['daerah', 'alokasi', 'anggar', 'transfer', 'daerah', 'dana', 'desa', 'tkdd', 'tetap', 'rp766 16', 'triliun', 'apbn']\n"
          ]
        }
      ],
      "source": [
        "print(text_prep_result)"
      ]
    },
    {
      "cell_type": "markdown",
      "source": [
        "<br>\n",
        "<br>"
      ],
      "metadata": {
        "id": "4ETRztIljvWc"
      }
    },
    {
      "cell_type": "markdown",
      "metadata": {
        "id": "mEQ8uvueeZGg"
      },
      "source": [
        "<br>\n",
        "\n",
        "## Dataset Collection"
      ]
    },
    {
      "cell_type": "markdown",
      "metadata": {
        "id": "GjpI9QIGtKlq"
      },
      "source": [
        "<br>\n",
        "\n",
        "#### Download dataset from github"
      ]
    },
    {
      "cell_type": "code",
      "execution_count": 14,
      "metadata": {
        "id": "vQAC2WpSK54J"
      },
      "outputs": [],
      "source": [
        "!mkdir -p dataset"
      ]
    },
    {
      "cell_type": "code",
      "execution_count": 15,
      "metadata": {
        "id": "MvPQX6UTJvKk",
        "colab": {
          "base_uri": "https://localhost:8080/"
        },
        "outputId": "2df3336d-ae17-4ee0-e898-e8f570a8fbee"
      },
      "outputs": [
        {
          "output_type": "stream",
          "name": "stdout",
          "text": [
            "--2024-02-06 17:59:06--  https://raw.githubusercontent.com/project303/dataset/master/Berita.txt\n",
            "Resolving raw.githubusercontent.com (raw.githubusercontent.com)... 185.199.111.133, 185.199.110.133, 185.199.108.133, ...\n",
            "Connecting to raw.githubusercontent.com (raw.githubusercontent.com)|185.199.111.133|:443... connected.\n",
            "HTTP request sent, awaiting response... 200 OK\n",
            "Length: 76212 (74K) [text/plain]\n",
            "Saving to: ‘dataset/Berita.txt’\n",
            "\n",
            "Berita.txt          100%[===================>]  74.43K  --.-KB/s    in 0.008s  \n",
            "\n",
            "2024-02-06 17:59:07 (8.89 MB/s) - ‘dataset/Berita.txt’ saved [76212/76212]\n",
            "\n"
          ]
        }
      ],
      "source": [
        "!wget https://raw.githubusercontent.com/project303/dataset/master/Berita.txt -P dataset"
      ]
    },
    {
      "cell_type": "code",
      "execution_count": 16,
      "metadata": {
        "id": "ZZL1CSpdLipk",
        "colab": {
          "base_uri": "https://localhost:8080/"
        },
        "outputId": "268b62e3-0b4b-48ad-80f4-10c70115d272"
      },
      "outputs": [
        {
          "output_type": "stream",
          "name": "stdout",
          "text": [
            "--2024-02-06 17:59:10--  https://raw.githubusercontent.com/project303/dataset/master/Judul-Berita.txt\n",
            "Resolving raw.githubusercontent.com (raw.githubusercontent.com)... 185.199.108.133, 185.199.111.133, 185.199.109.133, ...\n",
            "Connecting to raw.githubusercontent.com (raw.githubusercontent.com)|185.199.108.133|:443... connected.\n",
            "HTTP request sent, awaiting response... 200 OK\n",
            "Length: 1751 (1.7K) [text/plain]\n",
            "Saving to: ‘dataset/Judul-Berita.txt’\n",
            "\n",
            "\rJudul-Berita.txt      0%[                    ]       0  --.-KB/s               \rJudul-Berita.txt    100%[===================>]   1.71K  --.-KB/s    in 0s      \n",
            "\n",
            "2024-02-06 17:59:10 (13.7 MB/s) - ‘dataset/Judul-Berita.txt’ saved [1751/1751]\n",
            "\n"
          ]
        }
      ],
      "source": [
        "!wget https://raw.githubusercontent.com/project303/dataset/master/Judul-Berita.txt -P dataset"
      ]
    },
    {
      "cell_type": "code",
      "execution_count": 17,
      "metadata": {
        "id": "0WFyI9lL7ymG",
        "colab": {
          "base_uri": "https://localhost:8080/"
        },
        "outputId": "0713a878-c287-4443-bdd4-9b13ba8b9824"
      },
      "outputs": [
        {
          "output_type": "stream",
          "name": "stdout",
          "text": [
            "Berita.txt  Judul-Berita.txt\n"
          ]
        }
      ],
      "source": [
        "!ls dataset"
      ]
    },
    {
      "cell_type": "code",
      "execution_count": 18,
      "metadata": {
        "id": "deC2gfLIFf9I",
        "colab": {
          "base_uri": "https://localhost:8080/"
        },
        "outputId": "d210f417-0068-4ae9-a873-3d9e19bbc799"
      },
      "outputs": [
        {
          "output_type": "stream",
          "name": "stdout",
          "text": [
            "Nasabah Bank Mandiri Mengaku Uangnya Raib Rp49 Juta\r\n",
            "Mata Uang dan Bursa Saham Asia Ciut Jelang Pengumuman The Fed\r\n",
            "Polisi Tindaklanjuti Kasus Dugaan Pemukulan Herman Hery\r\n",
            "Terduga Teroris di Bandung Barat Dibekuk di Rumah Makan Sunda\r\n",
            "Lloris: Kemenangan Atas Peru Bakal Beri Kepercayaan Diri\r\n",
            "Klasemen Sementara Grup A Piala Dunia 2018\r\n",
            "Kebijakan Suku Bunga ECB Lemahkan Euro dan Bursa Eropa\r\n",
            "2019, Bantuan Program Keluarga Harapan Naik jadi Rp3,5 Juta\r\n",
            "Habiburokhman Lapor Balik ke Bareskrim soal Mudik 'Neraka'\r\n",
            "Novel Ungkit Lagi Dugaan Oknum Jenderal dalam Teror Air Keras\r\n"
          ]
        }
      ],
      "source": [
        "! head dataset/Judul-Berita.txt"
      ]
    },
    {
      "cell_type": "markdown",
      "metadata": {
        "id": "SJIo40osesJ-"
      },
      "source": [
        "## Data Preprocessing"
      ]
    },
    {
      "cell_type": "markdown",
      "metadata": {
        "id": "AqVDukxJ4if3"
      },
      "source": [
        "<br>\n",
        "\n",
        "### Step 01 - Read dataset"
      ]
    },
    {
      "cell_type": "code",
      "execution_count": 19,
      "metadata": {
        "id": "5gxOXZNS4igD",
        "colab": {
          "base_uri": "https://localhost:8080/"
        },
        "outputId": "307af021-aee4-4ba0-ec0e-64db72c94688"
      },
      "outputs": [
        {
          "output_type": "execute_result",
          "data": {
            "text/plain": [
              "31"
            ]
          },
          "metadata": {},
          "execution_count": 19
        }
      ],
      "source": [
        "#load titles\n",
        "article_titles = open('dataset/Judul-Berita.txt').read().split('\\n')\n",
        "len(article_titles)"
      ]
    },
    {
      "cell_type": "code",
      "execution_count": 20,
      "metadata": {
        "id": "aeGmF-y_4igb",
        "colab": {
          "base_uri": "https://localhost:8080/"
        },
        "outputId": "6e99a71d-0aa7-499c-f786-1d79cc2bb645"
      },
      "outputs": [
        {
          "output_type": "execute_result",
          "data": {
            "text/plain": [
              "['Nasabah Bank Mandiri Mengaku Uangnya Raib Rp49 Juta',\n",
              " 'Mata Uang dan Bursa Saham Asia Ciut Jelang Pengumuman The Fed',\n",
              " 'Polisi Tindaklanjuti Kasus Dugaan Pemukulan Herman Hery',\n",
              " 'Terduga Teroris di Bandung Barat Dibekuk di Rumah Makan Sunda',\n",
              " 'Lloris: Kemenangan Atas Peru Bakal Beri Kepercayaan Diri',\n",
              " 'Klasemen Sementara Grup A Piala Dunia 2018',\n",
              " 'Kebijakan Suku Bunga ECB Lemahkan Euro dan Bursa Eropa',\n",
              " '2019, Bantuan Program Keluarga Harapan Naik jadi Rp3,5 Juta',\n",
              " \"Habiburokhman Lapor Balik ke Bareskrim soal Mudik 'Neraka'\",\n",
              " 'Novel Ungkit Lagi Dugaan Oknum Jenderal dalam Teror Air Keras']"
            ]
          },
          "metadata": {},
          "execution_count": 20
        }
      ],
      "source": [
        "article_titles[:10]"
      ]
    },
    {
      "cell_type": "code",
      "execution_count": 21,
      "metadata": {
        "id": "kPclpSke4ihP",
        "colab": {
          "base_uri": "https://localhost:8080/"
        },
        "outputId": "2c54c09e-259d-4592-b3bb-c6ec6db83917"
      },
      "outputs": [
        {
          "output_type": "execute_result",
          "data": {
            "text/plain": [
              "31"
            ]
          },
          "metadata": {},
          "execution_count": 21
        }
      ],
      "source": [
        "article_content = open('dataset/Berita.txt', encoding=\"utf8\").read().split('BERHENTI DISINI')\n",
        "len(article_content)"
      ]
    },
    {
      "cell_type": "code",
      "execution_count": 22,
      "metadata": {
        "id": "nMM-TW2DfaCo",
        "colab": {
          "base_uri": "https://localhost:8080/",
          "height": 122
        },
        "outputId": "6047730d-b258-48c6-8b5c-39e3bb7829c2"
      },
      "outputs": [
        {
          "output_type": "execute_result",
          "data": {
            "text/plain": [
              "'<html lang=\"en\">\\n\\n    <head>\\n    <title>Nasabah Bank Mandiri Mengaku Uangnya Raib Rp49 Juta</title>\\n<meta charset=\"utf-8\">\\n<meta http-equiv=\"X-UA-Compatible\" content=\"IE=edge\">\\n<meta name=\"robots\" content=\"index, follow\" />\\n\\n<body>\\n<p>Jakarta, CNN Indonesia -- Agung Rahman, seorang nasabah Bank Mandiri di Karawang mengaku tiba-tiba kehilangan uang di rekening banknya. Akibat kejadian tersebut dia mengalami kerugian hampir Rp49 juta.</p>\\n\\n<p>Agung mengatakan sebelum kejadian tersebut saldo tabungan yang telah dihimpunnya selama setahun tersebut mencapai Rp49.667.000. Pada 10 Juni lalu, dia terakhir kali mengecek tabungan tersebut.</p>\\n\\n<p>Namun, sontak ia kaget. Pasalnya, sisa saldo di tabungannya tinggal Rp832.324.</p>\\n\\n<p>\"Jadi, tiba- tiba hilang,\" katanya seperti dikutip dari Antara, Selasa (12/6).</p>\\n\\n<p>Agung kaget karena saldo tersebut berkurang banyak tanpa ia melakukan transaksi sama sekali. Ia mengklaim sudah berupaya mengecek ke Bank Mandiri.\\n\\nDari hasil pengecekan tersebut Bank Mandiri menyatakan bahwa berkurangnya saldo tabungan Agung terjadi akibat transaksi di rekeningnya.\\n\\n\"Tapi ini janggal, karena saya merasa tidak pernah melakukan transaksi selama ini,\" katanya.\\n\\nAtas kejadian dan kejanggalan tersebut Agung memutuskan untuk melapor ke Polres Karawang. Kini kasus tersebut ditangani pihak kepolisian setempat.</p>\\n\\nSementara ketika dikonfirmasi, Sekretaris Perusahaan Bank Mandiri Rohan Hafas mengaku masih harus mengecek kasus tersebut. \\n\\n\"Kami masih telusuri dan nasabah tidak perlu khawatir. Kalau nasabah tidak melakukan transaksi, dana akan kami kembalikan,\" tegas Rohan kepada CNNIndonesia.com.\\n\\nNamun, dalam penelusurannya, sambung Rohan, manajemen belum bisa mengidentifikasi nasabah terkait karena kurangnya data dan nomor rekening yang bersangkutan.\\n\\n\"Tapi, kalau terbukti nasabahnya tidak melakukan transaksi tersebut, akan segera kami ganti,\" tandasnya. (Antara/bir) \\n</body>\\n\\n'"
            ],
            "application/vnd.google.colaboratory.intrinsic+json": {
              "type": "string"
            }
          },
          "metadata": {},
          "execution_count": 22
        }
      ],
      "source": [
        "article_content[0]"
      ]
    },
    {
      "cell_type": "markdown",
      "metadata": {
        "id": "IbeYLFPq0BWu"
      },
      "source": [
        "<br>\n",
        "\n",
        "### Step 02 - Cleanup dataset\n"
      ]
    },
    {
      "cell_type": "markdown",
      "metadata": {
        "id": "nU8Bb2htD0Iv"
      },
      "source": [
        "Cleanup dataset from HTML tags using BeautifulSoup"
      ]
    },
    {
      "cell_type": "code",
      "execution_count": 23,
      "metadata": {
        "id": "9zCFipv24iiA"
      },
      "outputs": [],
      "source": [
        "article_clean = []\n",
        "for text in article_content:\n",
        "    text = BeautifulSoup(text, 'html.parser').getText()\n",
        "    article_clean.append(text)\n",
        "\n",
        "article_content = article_clean"
      ]
    },
    {
      "cell_type": "code",
      "execution_count": 24,
      "metadata": {
        "id": "SyeIrdfA0RVl",
        "colab": {
          "base_uri": "https://localhost:8080/",
          "height": 122
        },
        "outputId": "552bdf9e-f70c-496b-f915-a7fa584ef683"
      },
      "outputs": [
        {
          "output_type": "execute_result",
          "data": {
            "text/plain": [
              "'\\n\\nNasabah Bank Mandiri Mengaku Uangnya Raib Rp49 Juta\\n\\n\\n\\n\\nJakarta, CNN Indonesia -- Agung Rahman, seorang nasabah Bank Mandiri di Karawang mengaku tiba-tiba kehilangan uang di rekening banknya. Akibat kejadian tersebut dia mengalami kerugian hampir Rp49 juta.\\nAgung mengatakan sebelum kejadian tersebut saldo tabungan yang telah dihimpunnya selama setahun tersebut mencapai Rp49.667.000. Pada 10 Juni lalu, dia terakhir kali mengecek tabungan tersebut.\\nNamun, sontak ia kaget. Pasalnya, sisa saldo di tabungannya tinggal Rp832.324.\\n\"Jadi, tiba- tiba hilang,\" katanya seperti dikutip dari Antara, Selasa (12/6).\\nAgung kaget karena saldo tersebut berkurang banyak tanpa ia melakukan transaksi sama sekali. Ia mengklaim sudah berupaya mengecek ke Bank Mandiri.\\n\\nDari hasil pengecekan tersebut Bank Mandiri menyatakan bahwa berkurangnya saldo tabungan Agung terjadi akibat transaksi di rekeningnya.\\n\\n\"Tapi ini janggal, karena saya merasa tidak pernah melakukan transaksi selama ini,\" katanya.\\n\\nAtas kejadian dan kejanggalan tersebut Agung memutuskan untuk melapor ke Polres Karawang. Kini kasus tersebut ditangani pihak kepolisian setempat.\\n\\nSementara ketika dikonfirmasi, Sekretaris Perusahaan Bank Mandiri Rohan Hafas mengaku masih harus mengecek kasus tersebut. \\n\\n\"Kami masih telusuri dan nasabah tidak perlu khawatir. Kalau nasabah tidak melakukan transaksi, dana akan kami kembalikan,\" tegas Rohan kepada CNNIndonesia.com.\\n\\nNamun, dalam penelusurannya, sambung Rohan, manajemen belum bisa mengidentifikasi nasabah terkait karena kurangnya data dan nomor rekening yang bersangkutan.\\n\\n\"Tapi, kalau terbukti nasabahnya tidak melakukan transaksi tersebut, akan segera kami ganti,\" tandasnya. (Antara/bir) \\n\\n'"
            ],
            "application/vnd.google.colaboratory.intrinsic+json": {
              "type": "string"
            }
          },
          "metadata": {},
          "execution_count": 24
        }
      ],
      "source": [
        "article_content[0]"
      ]
    },
    {
      "cell_type": "markdown",
      "source": [
        "<br>\n",
        "<br>"
      ],
      "metadata": {
        "id": "skLdjJoAjo_N"
      }
    },
    {
      "cell_type": "markdown",
      "metadata": {
        "id": "UeaC7HBk0uHZ"
      },
      "source": [
        "## Feature Extraction"
      ]
    },
    {
      "cell_type": "markdown",
      "metadata": {
        "id": "UGeNwTPP4imU"
      },
      "source": [
        "<br>\n",
        "\n",
        "### Step 03 - TF-IDF"
      ]
    },
    {
      "cell_type": "code",
      "execution_count": 25,
      "metadata": {
        "id": "vvq1LyX6q-yh"
      },
      "outputs": [],
      "source": [
        "tfidf_vectorizer = TfidfVectorizer(max_df=0.9, min_df=0.1,\n",
        "                                   max_features=200000,\n",
        "                                   use_idf=True,\n",
        "                                   tokenizer=text_preprocessing,\n",
        "                                   ngram_range=(1,3))"
      ]
    },
    {
      "cell_type": "code",
      "execution_count": 26,
      "metadata": {
        "id": "ckykQ9854inE",
        "colab": {
          "base_uri": "https://localhost:8080/"
        },
        "outputId": "5446df34-a308-4f18-d248-6c978f26187c"
      },
      "outputs": [
        {
          "output_type": "stream",
          "name": "stderr",
          "text": [
            "/usr/local/lib/python3.10/dist-packages/sklearn/feature_extraction/text.py:528: UserWarning: The parameter 'token_pattern' will not be used since 'tokenizer' is not None'\n",
            "  warnings.warn(\n"
          ]
        },
        {
          "output_type": "stream",
          "name": "stdout",
          "text": [
            "CPU times: user 1min 55s, sys: 347 ms, total: 1min 56s\n",
            "Wall time: 1min 58s\n"
          ]
        }
      ],
      "source": [
        "get_ipython().magic(u'time tfidf_features = tfidf_vectorizer.fit_transform(article_content)')"
      ]
    },
    {
      "cell_type": "code",
      "execution_count": 27,
      "metadata": {
        "id": "-EvaIW_B4inQ",
        "colab": {
          "base_uri": "https://localhost:8080/"
        },
        "outputId": "b6dfd207-e7a7-4dee-b323-ef6290c6bcb0"
      },
      "outputs": [
        {
          "output_type": "stream",
          "name": "stdout",
          "text": [
            "(31, 185)\n"
          ]
        }
      ],
      "source": [
        "print(tfidf_features.shape)"
      ]
    },
    {
      "cell_type": "code",
      "execution_count": 28,
      "metadata": {
        "id": "xn_8Dy6Y4inq",
        "colab": {
          "base_uri": "https://localhost:8080/"
        },
        "outputId": "9af2406d-4bec-472f-8fdd-6ce749ee7b0f"
      },
      "outputs": [
        {
          "output_type": "execute_result",
          "data": {
            "text/plain": [
              "185"
            ]
          },
          "metadata": {},
          "execution_count": 28
        }
      ],
      "source": [
        "bag_of_words = tfidf_vectorizer.get_feature_names_out()\n",
        "len(bag_of_words)"
      ]
    },
    {
      "cell_type": "code",
      "execution_count": 29,
      "metadata": {
        "id": "XSHxAUAwjh93",
        "colab": {
          "base_uri": "https://localhost:8080/"
        },
        "outputId": "456ff457-af9d-4d2e-fceb-c3f359d5209f"
      },
      "outputs": [
        {
          "output_type": "execute_result",
          "data": {
            "text/plain": [
              "array(['acara', 'ajang', 'aksi', 'aku', 'alami', 'alias', 'amerika',\n",
              "       'amerika serikat', 'anggota', 'angka'], dtype=object)"
            ]
          },
          "metadata": {},
          "execution_count": 29
        }
      ],
      "source": [
        "bag_of_words[:10]"
      ]
    },
    {
      "cell_type": "markdown",
      "source": [
        "<br>\n",
        "<br>"
      ],
      "metadata": {
        "id": "5FQlUwPojic3"
      }
    },
    {
      "cell_type": "markdown",
      "metadata": {
        "id": "GlNz96eN10SZ"
      },
      "source": [
        "## Model Building"
      ]
    },
    {
      "cell_type": "markdown",
      "metadata": {
        "id": "MZqZ7cVK4ioT"
      },
      "source": [
        "<br>\n",
        "\n",
        "### Step 04 - K-Means Modelling"
      ]
    },
    {
      "cell_type": "code",
      "execution_count": 30,
      "metadata": {
        "id": "1ZqngwsH4ioY",
        "colab": {
          "base_uri": "https://localhost:8080/",
          "height": 164
        },
        "outputId": "37d9b09e-1a21-4b26-98c8-c9acbbb5ca36"
      },
      "outputs": [
        {
          "output_type": "stream",
          "name": "stdout",
          "text": [
            "CPU times: user 72.7 ms, sys: 7.97 ms, total: 80.7 ms\n",
            "Wall time: 83.8 ms\n"
          ]
        },
        {
          "output_type": "stream",
          "name": "stderr",
          "text": [
            "/usr/local/lib/python3.10/dist-packages/sklearn/cluster/_kmeans.py:870: FutureWarning: The default value of `n_init` will change from 10 to 'auto' in 1.4. Set the value of `n_init` explicitly to suppress the warning\n",
            "  warnings.warn(\n"
          ]
        },
        {
          "output_type": "execute_result",
          "data": {
            "text/plain": [
              "KMeans(n_clusters=3, random_state=1000)"
            ],
            "text/html": [
              "<style>#sk-container-id-1 {color: black;background-color: white;}#sk-container-id-1 pre{padding: 0;}#sk-container-id-1 div.sk-toggleable {background-color: white;}#sk-container-id-1 label.sk-toggleable__label {cursor: pointer;display: block;width: 100%;margin-bottom: 0;padding: 0.3em;box-sizing: border-box;text-align: center;}#sk-container-id-1 label.sk-toggleable__label-arrow:before {content: \"▸\";float: left;margin-right: 0.25em;color: #696969;}#sk-container-id-1 label.sk-toggleable__label-arrow:hover:before {color: black;}#sk-container-id-1 div.sk-estimator:hover label.sk-toggleable__label-arrow:before {color: black;}#sk-container-id-1 div.sk-toggleable__content {max-height: 0;max-width: 0;overflow: hidden;text-align: left;background-color: #f0f8ff;}#sk-container-id-1 div.sk-toggleable__content pre {margin: 0.2em;color: black;border-radius: 0.25em;background-color: #f0f8ff;}#sk-container-id-1 input.sk-toggleable__control:checked~div.sk-toggleable__content {max-height: 200px;max-width: 100%;overflow: auto;}#sk-container-id-1 input.sk-toggleable__control:checked~label.sk-toggleable__label-arrow:before {content: \"▾\";}#sk-container-id-1 div.sk-estimator input.sk-toggleable__control:checked~label.sk-toggleable__label {background-color: #d4ebff;}#sk-container-id-1 div.sk-label input.sk-toggleable__control:checked~label.sk-toggleable__label {background-color: #d4ebff;}#sk-container-id-1 input.sk-hidden--visually {border: 0;clip: rect(1px 1px 1px 1px);clip: rect(1px, 1px, 1px, 1px);height: 1px;margin: -1px;overflow: hidden;padding: 0;position: absolute;width: 1px;}#sk-container-id-1 div.sk-estimator {font-family: monospace;background-color: #f0f8ff;border: 1px dotted black;border-radius: 0.25em;box-sizing: border-box;margin-bottom: 0.5em;}#sk-container-id-1 div.sk-estimator:hover {background-color: #d4ebff;}#sk-container-id-1 div.sk-parallel-item::after {content: \"\";width: 100%;border-bottom: 1px solid gray;flex-grow: 1;}#sk-container-id-1 div.sk-label:hover label.sk-toggleable__label {background-color: #d4ebff;}#sk-container-id-1 div.sk-serial::before {content: \"\";position: absolute;border-left: 1px solid gray;box-sizing: border-box;top: 0;bottom: 0;left: 50%;z-index: 0;}#sk-container-id-1 div.sk-serial {display: flex;flex-direction: column;align-items: center;background-color: white;padding-right: 0.2em;padding-left: 0.2em;position: relative;}#sk-container-id-1 div.sk-item {position: relative;z-index: 1;}#sk-container-id-1 div.sk-parallel {display: flex;align-items: stretch;justify-content: center;background-color: white;position: relative;}#sk-container-id-1 div.sk-item::before, #sk-container-id-1 div.sk-parallel-item::before {content: \"\";position: absolute;border-left: 1px solid gray;box-sizing: border-box;top: 0;bottom: 0;left: 50%;z-index: -1;}#sk-container-id-1 div.sk-parallel-item {display: flex;flex-direction: column;z-index: 1;position: relative;background-color: white;}#sk-container-id-1 div.sk-parallel-item:first-child::after {align-self: flex-end;width: 50%;}#sk-container-id-1 div.sk-parallel-item:last-child::after {align-self: flex-start;width: 50%;}#sk-container-id-1 div.sk-parallel-item:only-child::after {width: 0;}#sk-container-id-1 div.sk-dashed-wrapped {border: 1px dashed gray;margin: 0 0.4em 0.5em 0.4em;box-sizing: border-box;padding-bottom: 0.4em;background-color: white;}#sk-container-id-1 div.sk-label label {font-family: monospace;font-weight: bold;display: inline-block;line-height: 1.2em;}#sk-container-id-1 div.sk-label-container {text-align: center;}#sk-container-id-1 div.sk-container {/* jupyter's `normalize.less` sets `[hidden] { display: none; }` but bootstrap.min.css set `[hidden] { display: none !important; }` so we also need the `!important` here to be able to override the default hidden behavior on the sphinx rendered scikit-learn.org. See: https://github.com/scikit-learn/scikit-learn/issues/21755 */display: inline-block !important;position: relative;}#sk-container-id-1 div.sk-text-repr-fallback {display: none;}</style><div id=\"sk-container-id-1\" class=\"sk-top-container\"><div class=\"sk-text-repr-fallback\"><pre>KMeans(n_clusters=3, random_state=1000)</pre><b>In a Jupyter environment, please rerun this cell to show the HTML representation or trust the notebook. <br />On GitHub, the HTML representation is unable to render, please try loading this page with nbviewer.org.</b></div><div class=\"sk-container\" hidden><div class=\"sk-item\"><div class=\"sk-estimator sk-toggleable\"><input class=\"sk-toggleable__control sk-hidden--visually\" id=\"sk-estimator-id-1\" type=\"checkbox\" checked><label for=\"sk-estimator-id-1\" class=\"sk-toggleable__label sk-toggleable__label-arrow\">KMeans</label><div class=\"sk-toggleable__content\"><pre>KMeans(n_clusters=3, random_state=1000)</pre></div></div></div></div></div>"
            ]
          },
          "metadata": {},
          "execution_count": 30
        }
      ],
      "source": [
        "num_clusters = 3\n",
        "model_km = KMeans(n_clusters=num_clusters, random_state=1000)\n",
        "\n",
        "#train the model\n",
        "get_ipython().magic(u'time model_km.fit(tfidf_features)')"
      ]
    },
    {
      "cell_type": "code",
      "execution_count": 31,
      "metadata": {
        "id": "VSGO7HIJHydK"
      },
      "outputs": [],
      "source": [
        "clusters = model_km.labels_.tolist()"
      ]
    },
    {
      "cell_type": "markdown",
      "metadata": {
        "id": "397Kw44gI4tp"
      },
      "source": [
        "<br>\n",
        "\n",
        "### Step 05 - View The Result"
      ]
    },
    {
      "cell_type": "code",
      "execution_count": 32,
      "metadata": {
        "id": "bjG9ToYUIBFt"
      },
      "outputs": [],
      "source": [
        "article_no = []\n",
        "for i in range(1, len(article_titles)+1):\n",
        "    article_no.append(i)"
      ]
    },
    {
      "cell_type": "code",
      "execution_count": 33,
      "metadata": {
        "id": "J1nJ4nlD4ioj",
        "colab": {
          "base_uri": "https://localhost:8080/",
          "height": 1000
        },
        "outputId": "8d6c3108-b632-42aa-97c5-69f898d53207"
      },
      "outputs": [
        {
          "output_type": "execute_result",
          "data": {
            "text/plain": [
              "   no                                                          title  cluster\n",
              "0   1            Nasabah Bank Mandiri Mengaku Uangnya Raib Rp49 Juta        0\n",
              "0   3        Polisi Tindaklanjuti Kasus Dugaan Pemukulan Herman Hery        0\n",
              "0   4  Terduga Teroris di Bandung Barat Dibekuk di Rumah Makan Sunda        0\n",
              "0   8    2019, Bantuan Program Keluarga Harapan Naik jadi Rp3,5 Juta        0\n",
              "0   9     Habiburokhman Lapor Balik ke Bareskrim soal Mudik 'Neraka'        0\n",
              "0  10  Novel Ungkit Lagi Dugaan Oknum Jenderal dalam Teror Air Keras        0\n",
              "0  14         Masih Banyak Perusahaan Tunggak Bayar THR Usai Lebaran        0\n",
              "0  16   KPK Periksa Pejabat Agung Podomoro Terkait Kasus Bupati Rita        0\n",
              "0  17           Tiga Bos First Travel Hadapi Tuntutan Jaksa Hari Ini        0\n",
              "0  18           Aman Abdurrahman Pasrah Hadapi Vonis Kasus Terorisme        0\n",
              "0  25    Dua Anggota Polisi Dikeroyok Terduga Oknum TNI di Cijantung        0\n",
              "0  26  Satu Anggota TNI Tewas Usai Alami Penusukan di Tempat Biliard        0\n",
              "0  27      Rumah Diubrak-abrik, Anggota TNI Tikam Warga Hingga Tewas        0\n",
              "1   5       Lloris: Kemenangan Atas Peru Bakal Beri Kepercayaan Diri        1\n",
              "1   6                     Klasemen Sementara Grup A Piala Dunia 2018        1\n",
              "1  11     Lemparan Salto Gagal Bek Timnas Iran Viral di Media Sosial        1\n",
              "1  12         Target McIlroy Menjadi Pegolf Terbaik dari Generasinya        1\n",
              "1  19       Juara British Terbuka, Stenson Lampaui Rekor Tiger Woods        1\n",
              "1  20                  Tiger Woods Putuskan Vakum dari Turnamen Golf        1\n",
              "1  21        Juara GP Kanada, Vettel Kembali Pimpin Klasemen F1 2018        1\n",
              "1  28          Sebastian Vettel Menjuarai Grand Prix F1 di Singapura        1\n",
              "1  29        Kroasia: Melawan Argentina adalah Pertandingan Termudah        1\n",
              "2   2  Mata Uang dan Bursa Saham Asia Ciut Jelang Pengumuman The Fed        2\n",
              "2   7         Kebijakan Suku Bunga ECB Lemahkan Euro dan Bursa Eropa        2\n",
              "2  13       Dibuka Rp14.107 per Dolar AS, Rupiah Bakal Betah Melemah        2\n",
              "2  15  Asing Jual Bersih Rp2 Triliun, IHSG Ditutup Anjlok 1,8 Persen        2\n",
              "2  22      Darmin Nyatakan, Pelemahan Rupiah Tak Perlu Dikhawatirkan        2\n",
              "2  23                           Pesta Diskon Lebaran Masih Berlanjut        2\n",
              "2  24                     Incar Kantong Orang Asing, BTN Rilis Felas        2\n",
              "2  30  Konsumsi Lebaran Bisa Dorong Ekonomi Kuartal II ke 5,2 Persen        2\n",
              "2  31              Kementerian Kesehatan Serap Belanja Paling Tinggi        2"
            ],
            "text/html": [
              "\n",
              "  <div id=\"df-58d1a4b2-dec1-4050-85e2-2e0b49dd6df2\" class=\"colab-df-container\">\n",
              "    <div>\n",
              "<style scoped>\n",
              "    .dataframe tbody tr th:only-of-type {\n",
              "        vertical-align: middle;\n",
              "    }\n",
              "\n",
              "    .dataframe tbody tr th {\n",
              "        vertical-align: top;\n",
              "    }\n",
              "\n",
              "    .dataframe thead th {\n",
              "        text-align: right;\n",
              "    }\n",
              "</style>\n",
              "<table border=\"1\" class=\"dataframe\">\n",
              "  <thead>\n",
              "    <tr style=\"text-align: right;\">\n",
              "      <th></th>\n",
              "      <th>no</th>\n",
              "      <th>title</th>\n",
              "      <th>cluster</th>\n",
              "    </tr>\n",
              "  </thead>\n",
              "  <tbody>\n",
              "    <tr>\n",
              "      <th>0</th>\n",
              "      <td>1</td>\n",
              "      <td>Nasabah Bank Mandiri Mengaku Uangnya Raib Rp49 Juta</td>\n",
              "      <td>0</td>\n",
              "    </tr>\n",
              "    <tr>\n",
              "      <th>0</th>\n",
              "      <td>3</td>\n",
              "      <td>Polisi Tindaklanjuti Kasus Dugaan Pemukulan Herman Hery</td>\n",
              "      <td>0</td>\n",
              "    </tr>\n",
              "    <tr>\n",
              "      <th>0</th>\n",
              "      <td>4</td>\n",
              "      <td>Terduga Teroris di Bandung Barat Dibekuk di Rumah Makan Sunda</td>\n",
              "      <td>0</td>\n",
              "    </tr>\n",
              "    <tr>\n",
              "      <th>0</th>\n",
              "      <td>8</td>\n",
              "      <td>2019, Bantuan Program Keluarga Harapan Naik jadi Rp3,5 Juta</td>\n",
              "      <td>0</td>\n",
              "    </tr>\n",
              "    <tr>\n",
              "      <th>0</th>\n",
              "      <td>9</td>\n",
              "      <td>Habiburokhman Lapor Balik ke Bareskrim soal Mudik 'Neraka'</td>\n",
              "      <td>0</td>\n",
              "    </tr>\n",
              "    <tr>\n",
              "      <th>0</th>\n",
              "      <td>10</td>\n",
              "      <td>Novel Ungkit Lagi Dugaan Oknum Jenderal dalam Teror Air Keras</td>\n",
              "      <td>0</td>\n",
              "    </tr>\n",
              "    <tr>\n",
              "      <th>0</th>\n",
              "      <td>14</td>\n",
              "      <td>Masih Banyak Perusahaan Tunggak Bayar THR Usai Lebaran</td>\n",
              "      <td>0</td>\n",
              "    </tr>\n",
              "    <tr>\n",
              "      <th>0</th>\n",
              "      <td>16</td>\n",
              "      <td>KPK Periksa Pejabat Agung Podomoro Terkait Kasus Bupati Rita</td>\n",
              "      <td>0</td>\n",
              "    </tr>\n",
              "    <tr>\n",
              "      <th>0</th>\n",
              "      <td>17</td>\n",
              "      <td>Tiga Bos First Travel Hadapi Tuntutan Jaksa Hari Ini</td>\n",
              "      <td>0</td>\n",
              "    </tr>\n",
              "    <tr>\n",
              "      <th>0</th>\n",
              "      <td>18</td>\n",
              "      <td>Aman Abdurrahman Pasrah Hadapi Vonis Kasus Terorisme</td>\n",
              "      <td>0</td>\n",
              "    </tr>\n",
              "    <tr>\n",
              "      <th>0</th>\n",
              "      <td>25</td>\n",
              "      <td>Dua Anggota Polisi Dikeroyok Terduga Oknum TNI di Cijantung</td>\n",
              "      <td>0</td>\n",
              "    </tr>\n",
              "    <tr>\n",
              "      <th>0</th>\n",
              "      <td>26</td>\n",
              "      <td>Satu Anggota TNI Tewas Usai Alami Penusukan di Tempat Biliard</td>\n",
              "      <td>0</td>\n",
              "    </tr>\n",
              "    <tr>\n",
              "      <th>0</th>\n",
              "      <td>27</td>\n",
              "      <td>Rumah Diubrak-abrik, Anggota TNI Tikam Warga Hingga Tewas</td>\n",
              "      <td>0</td>\n",
              "    </tr>\n",
              "    <tr>\n",
              "      <th>1</th>\n",
              "      <td>5</td>\n",
              "      <td>Lloris: Kemenangan Atas Peru Bakal Beri Kepercayaan Diri</td>\n",
              "      <td>1</td>\n",
              "    </tr>\n",
              "    <tr>\n",
              "      <th>1</th>\n",
              "      <td>6</td>\n",
              "      <td>Klasemen Sementara Grup A Piala Dunia 2018</td>\n",
              "      <td>1</td>\n",
              "    </tr>\n",
              "    <tr>\n",
              "      <th>1</th>\n",
              "      <td>11</td>\n",
              "      <td>Lemparan Salto Gagal Bek Timnas Iran Viral di Media Sosial</td>\n",
              "      <td>1</td>\n",
              "    </tr>\n",
              "    <tr>\n",
              "      <th>1</th>\n",
              "      <td>12</td>\n",
              "      <td>Target McIlroy Menjadi Pegolf Terbaik dari Generasinya</td>\n",
              "      <td>1</td>\n",
              "    </tr>\n",
              "    <tr>\n",
              "      <th>1</th>\n",
              "      <td>19</td>\n",
              "      <td>Juara British Terbuka, Stenson Lampaui Rekor Tiger Woods</td>\n",
              "      <td>1</td>\n",
              "    </tr>\n",
              "    <tr>\n",
              "      <th>1</th>\n",
              "      <td>20</td>\n",
              "      <td>Tiger Woods Putuskan Vakum dari Turnamen Golf</td>\n",
              "      <td>1</td>\n",
              "    </tr>\n",
              "    <tr>\n",
              "      <th>1</th>\n",
              "      <td>21</td>\n",
              "      <td>Juara GP Kanada, Vettel Kembali Pimpin Klasemen F1 2018</td>\n",
              "      <td>1</td>\n",
              "    </tr>\n",
              "    <tr>\n",
              "      <th>1</th>\n",
              "      <td>28</td>\n",
              "      <td>Sebastian Vettel Menjuarai Grand Prix F1 di Singapura</td>\n",
              "      <td>1</td>\n",
              "    </tr>\n",
              "    <tr>\n",
              "      <th>1</th>\n",
              "      <td>29</td>\n",
              "      <td>Kroasia: Melawan Argentina adalah Pertandingan Termudah</td>\n",
              "      <td>1</td>\n",
              "    </tr>\n",
              "    <tr>\n",
              "      <th>2</th>\n",
              "      <td>2</td>\n",
              "      <td>Mata Uang dan Bursa Saham Asia Ciut Jelang Pengumuman The Fed</td>\n",
              "      <td>2</td>\n",
              "    </tr>\n",
              "    <tr>\n",
              "      <th>2</th>\n",
              "      <td>7</td>\n",
              "      <td>Kebijakan Suku Bunga ECB Lemahkan Euro dan Bursa Eropa</td>\n",
              "      <td>2</td>\n",
              "    </tr>\n",
              "    <tr>\n",
              "      <th>2</th>\n",
              "      <td>13</td>\n",
              "      <td>Dibuka Rp14.107 per Dolar AS, Rupiah Bakal Betah Melemah</td>\n",
              "      <td>2</td>\n",
              "    </tr>\n",
              "    <tr>\n",
              "      <th>2</th>\n",
              "      <td>15</td>\n",
              "      <td>Asing Jual Bersih Rp2 Triliun, IHSG Ditutup Anjlok 1,8 Persen</td>\n",
              "      <td>2</td>\n",
              "    </tr>\n",
              "    <tr>\n",
              "      <th>2</th>\n",
              "      <td>22</td>\n",
              "      <td>Darmin Nyatakan, Pelemahan Rupiah Tak Perlu Dikhawatirkan</td>\n",
              "      <td>2</td>\n",
              "    </tr>\n",
              "    <tr>\n",
              "      <th>2</th>\n",
              "      <td>23</td>\n",
              "      <td>Pesta Diskon Lebaran Masih Berlanjut</td>\n",
              "      <td>2</td>\n",
              "    </tr>\n",
              "    <tr>\n",
              "      <th>2</th>\n",
              "      <td>24</td>\n",
              "      <td>Incar Kantong Orang Asing, BTN Rilis Felas</td>\n",
              "      <td>2</td>\n",
              "    </tr>\n",
              "    <tr>\n",
              "      <th>2</th>\n",
              "      <td>30</td>\n",
              "      <td>Konsumsi Lebaran Bisa Dorong Ekonomi Kuartal II ke 5,2 Persen</td>\n",
              "      <td>2</td>\n",
              "    </tr>\n",
              "    <tr>\n",
              "      <th>2</th>\n",
              "      <td>31</td>\n",
              "      <td>Kementerian Kesehatan Serap Belanja Paling Tinggi</td>\n",
              "      <td>2</td>\n",
              "    </tr>\n",
              "  </tbody>\n",
              "</table>\n",
              "</div>\n",
              "    <div class=\"colab-df-buttons\">\n",
              "\n",
              "  <div class=\"colab-df-container\">\n",
              "    <button class=\"colab-df-convert\" onclick=\"convertToInteractive('df-58d1a4b2-dec1-4050-85e2-2e0b49dd6df2')\"\n",
              "            title=\"Convert this dataframe to an interactive table.\"\n",
              "            style=\"display:none;\">\n",
              "\n",
              "  <svg xmlns=\"http://www.w3.org/2000/svg\" height=\"24px\" viewBox=\"0 -960 960 960\">\n",
              "    <path d=\"M120-120v-720h720v720H120Zm60-500h600v-160H180v160Zm220 220h160v-160H400v160Zm0 220h160v-160H400v160ZM180-400h160v-160H180v160Zm440 0h160v-160H620v160ZM180-180h160v-160H180v160Zm440 0h160v-160H620v160Z\"/>\n",
              "  </svg>\n",
              "    </button>\n",
              "\n",
              "  <style>\n",
              "    .colab-df-container {\n",
              "      display:flex;\n",
              "      gap: 12px;\n",
              "    }\n",
              "\n",
              "    .colab-df-convert {\n",
              "      background-color: #E8F0FE;\n",
              "      border: none;\n",
              "      border-radius: 50%;\n",
              "      cursor: pointer;\n",
              "      display: none;\n",
              "      fill: #1967D2;\n",
              "      height: 32px;\n",
              "      padding: 0 0 0 0;\n",
              "      width: 32px;\n",
              "    }\n",
              "\n",
              "    .colab-df-convert:hover {\n",
              "      background-color: #E2EBFA;\n",
              "      box-shadow: 0px 1px 2px rgba(60, 64, 67, 0.3), 0px 1px 3px 1px rgba(60, 64, 67, 0.15);\n",
              "      fill: #174EA6;\n",
              "    }\n",
              "\n",
              "    .colab-df-buttons div {\n",
              "      margin-bottom: 4px;\n",
              "    }\n",
              "\n",
              "    [theme=dark] .colab-df-convert {\n",
              "      background-color: #3B4455;\n",
              "      fill: #D2E3FC;\n",
              "    }\n",
              "\n",
              "    [theme=dark] .colab-df-convert:hover {\n",
              "      background-color: #434B5C;\n",
              "      box-shadow: 0px 1px 3px 1px rgba(0, 0, 0, 0.15);\n",
              "      filter: drop-shadow(0px 1px 2px rgba(0, 0, 0, 0.3));\n",
              "      fill: #FFFFFF;\n",
              "    }\n",
              "  </style>\n",
              "\n",
              "    <script>\n",
              "      const buttonEl =\n",
              "        document.querySelector('#df-58d1a4b2-dec1-4050-85e2-2e0b49dd6df2 button.colab-df-convert');\n",
              "      buttonEl.style.display =\n",
              "        google.colab.kernel.accessAllowed ? 'block' : 'none';\n",
              "\n",
              "      async function convertToInteractive(key) {\n",
              "        const element = document.querySelector('#df-58d1a4b2-dec1-4050-85e2-2e0b49dd6df2');\n",
              "        const dataTable =\n",
              "          await google.colab.kernel.invokeFunction('convertToInteractive',\n",
              "                                                    [key], {});\n",
              "        if (!dataTable) return;\n",
              "\n",
              "        const docLinkHtml = 'Like what you see? Visit the ' +\n",
              "          '<a target=\"_blank\" href=https://colab.research.google.com/notebooks/data_table.ipynb>data table notebook</a>'\n",
              "          + ' to learn more about interactive tables.';\n",
              "        element.innerHTML = '';\n",
              "        dataTable['output_type'] = 'display_data';\n",
              "        await google.colab.output.renderOutput(dataTable, element);\n",
              "        const docLink = document.createElement('div');\n",
              "        docLink.innerHTML = docLinkHtml;\n",
              "        element.appendChild(docLink);\n",
              "      }\n",
              "    </script>\n",
              "  </div>\n",
              "\n",
              "\n",
              "<div id=\"df-bc658107-32aa-4205-b9d9-9487047bb3c2\">\n",
              "  <button class=\"colab-df-quickchart\" onclick=\"quickchart('df-bc658107-32aa-4205-b9d9-9487047bb3c2')\"\n",
              "            title=\"Suggest charts\"\n",
              "            style=\"display:none;\">\n",
              "\n",
              "<svg xmlns=\"http://www.w3.org/2000/svg\" height=\"24px\"viewBox=\"0 0 24 24\"\n",
              "     width=\"24px\">\n",
              "    <g>\n",
              "        <path d=\"M19 3H5c-1.1 0-2 .9-2 2v14c0 1.1.9 2 2 2h14c1.1 0 2-.9 2-2V5c0-1.1-.9-2-2-2zM9 17H7v-7h2v7zm4 0h-2V7h2v10zm4 0h-2v-4h2v4z\"/>\n",
              "    </g>\n",
              "</svg>\n",
              "  </button>\n",
              "\n",
              "<style>\n",
              "  .colab-df-quickchart {\n",
              "      --bg-color: #E8F0FE;\n",
              "      --fill-color: #1967D2;\n",
              "      --hover-bg-color: #E2EBFA;\n",
              "      --hover-fill-color: #174EA6;\n",
              "      --disabled-fill-color: #AAA;\n",
              "      --disabled-bg-color: #DDD;\n",
              "  }\n",
              "\n",
              "  [theme=dark] .colab-df-quickchart {\n",
              "      --bg-color: #3B4455;\n",
              "      --fill-color: #D2E3FC;\n",
              "      --hover-bg-color: #434B5C;\n",
              "      --hover-fill-color: #FFFFFF;\n",
              "      --disabled-bg-color: #3B4455;\n",
              "      --disabled-fill-color: #666;\n",
              "  }\n",
              "\n",
              "  .colab-df-quickchart {\n",
              "    background-color: var(--bg-color);\n",
              "    border: none;\n",
              "    border-radius: 50%;\n",
              "    cursor: pointer;\n",
              "    display: none;\n",
              "    fill: var(--fill-color);\n",
              "    height: 32px;\n",
              "    padding: 0;\n",
              "    width: 32px;\n",
              "  }\n",
              "\n",
              "  .colab-df-quickchart:hover {\n",
              "    background-color: var(--hover-bg-color);\n",
              "    box-shadow: 0 1px 2px rgba(60, 64, 67, 0.3), 0 1px 3px 1px rgba(60, 64, 67, 0.15);\n",
              "    fill: var(--button-hover-fill-color);\n",
              "  }\n",
              "\n",
              "  .colab-df-quickchart-complete:disabled,\n",
              "  .colab-df-quickchart-complete:disabled:hover {\n",
              "    background-color: var(--disabled-bg-color);\n",
              "    fill: var(--disabled-fill-color);\n",
              "    box-shadow: none;\n",
              "  }\n",
              "\n",
              "  .colab-df-spinner {\n",
              "    border: 2px solid var(--fill-color);\n",
              "    border-color: transparent;\n",
              "    border-bottom-color: var(--fill-color);\n",
              "    animation:\n",
              "      spin 1s steps(1) infinite;\n",
              "  }\n",
              "\n",
              "  @keyframes spin {\n",
              "    0% {\n",
              "      border-color: transparent;\n",
              "      border-bottom-color: var(--fill-color);\n",
              "      border-left-color: var(--fill-color);\n",
              "    }\n",
              "    20% {\n",
              "      border-color: transparent;\n",
              "      border-left-color: var(--fill-color);\n",
              "      border-top-color: var(--fill-color);\n",
              "    }\n",
              "    30% {\n",
              "      border-color: transparent;\n",
              "      border-left-color: var(--fill-color);\n",
              "      border-top-color: var(--fill-color);\n",
              "      border-right-color: var(--fill-color);\n",
              "    }\n",
              "    40% {\n",
              "      border-color: transparent;\n",
              "      border-right-color: var(--fill-color);\n",
              "      border-top-color: var(--fill-color);\n",
              "    }\n",
              "    60% {\n",
              "      border-color: transparent;\n",
              "      border-right-color: var(--fill-color);\n",
              "    }\n",
              "    80% {\n",
              "      border-color: transparent;\n",
              "      border-right-color: var(--fill-color);\n",
              "      border-bottom-color: var(--fill-color);\n",
              "    }\n",
              "    90% {\n",
              "      border-color: transparent;\n",
              "      border-bottom-color: var(--fill-color);\n",
              "    }\n",
              "  }\n",
              "</style>\n",
              "\n",
              "  <script>\n",
              "    async function quickchart(key) {\n",
              "      const quickchartButtonEl =\n",
              "        document.querySelector('#' + key + ' button');\n",
              "      quickchartButtonEl.disabled = true;  // To prevent multiple clicks.\n",
              "      quickchartButtonEl.classList.add('colab-df-spinner');\n",
              "      try {\n",
              "        const charts = await google.colab.kernel.invokeFunction(\n",
              "            'suggestCharts', [key], {});\n",
              "      } catch (error) {\n",
              "        console.error('Error during call to suggestCharts:', error);\n",
              "      }\n",
              "      quickchartButtonEl.classList.remove('colab-df-spinner');\n",
              "      quickchartButtonEl.classList.add('colab-df-quickchart-complete');\n",
              "    }\n",
              "    (() => {\n",
              "      let quickchartButtonEl =\n",
              "        document.querySelector('#df-bc658107-32aa-4205-b9d9-9487047bb3c2 button');\n",
              "      quickchartButtonEl.style.display =\n",
              "        google.colab.kernel.accessAllowed ? 'block' : 'none';\n",
              "    })();\n",
              "  </script>\n",
              "</div>\n",
              "    </div>\n",
              "  </div>\n"
            ]
          },
          "metadata": {},
          "execution_count": 33
        }
      ],
      "source": [
        "article_cluster = { 'title': article_titles, 'no': article_no, 'article': article_content, 'cluster': clusters }\n",
        "pd.set_option('display.max_colwidth', None)\n",
        "df = pd.DataFrame(article_cluster, index = [clusters] , columns = ['no', 'title', 'cluster'])\n",
        "df.sort_index()"
      ]
    },
    {
      "cell_type": "code",
      "execution_count": 34,
      "metadata": {
        "id": "ldEYgaQuyOyh",
        "colab": {
          "base_uri": "https://localhost:8080/"
        },
        "outputId": "b3a16b36-9e14-4bf2-efec-2fc26f08bb10"
      },
      "outputs": [
        {
          "output_type": "execute_result",
          "data": {
            "text/plain": [
              "0    13\n",
              "2     9\n",
              "1     9\n",
              "Name: cluster, dtype: int64"
            ]
          },
          "metadata": {},
          "execution_count": 34
        }
      ],
      "source": [
        "df['cluster'].value_counts()"
      ]
    },
    {
      "cell_type": "markdown",
      "metadata": {
        "id": "nZp_t_XsKoTb"
      },
      "source": [
        "Top words per cluster"
      ]
    },
    {
      "cell_type": "code",
      "execution_count": 35,
      "metadata": {
        "id": "ylv8xThYLOLF"
      },
      "outputs": [],
      "source": [
        "df_bow = pd.DataFrame({'words': bag_of_words}, index = bag_of_words)"
      ]
    },
    {
      "cell_type": "code",
      "execution_count": 37,
      "metadata": {
        "id": "OECnFT0d4io5",
        "colab": {
          "base_uri": "https://localhost:8080/"
        },
        "outputId": "04c7ea0c-4efc-4686-8c58-5660a26f2291"
      },
      "outputs": [
        {
          "output_type": "stream",
          "name": "stdout",
          "text": [
            "Top 10 words per cluster:\n",
            "Cluster 0 words: b'duga', b'polisi', b'lapor', b'laku', b'pasal', b'korban', b'orang', b'anggota', b'juta', b'polri',\n",
            "\n",
            "Cluster 1 words: b'menang', b'main', b'dunia', b'raih', b'tanding', b'poin', b'lawan', b'piala', b'piala', b'kalah',\n",
            "\n",
            "Cluster 2 words: b'persen', b'dolar', b'triliun', b'lemah', b'bunga', b'saham', b'as', b'rupiah', b'lebaran', b'dagang',\n",
            "\n"
          ]
        }
      ],
      "source": [
        "print(\"Top 10 words per cluster:\")\n",
        "\n",
        "#sort cluster centers by proximity to centroid\n",
        "order_centroids = model_km.cluster_centers_.argsort()[:, ::-1]\n",
        "\n",
        "for i in range(num_clusters):\n",
        "    print(\"Cluster %d words:\" % i, end='')\n",
        "\n",
        "    for ind in order_centroids[i, :10]: #replace 6 with n words per cluster\n",
        "        print(' %s' % df_bow.loc[bag_of_words[ind].split(' ')].values.tolist()[0][0].encode('utf-8', 'ignore'), end=',')\n",
        "    print() #add whitespace\n",
        "    print() #add whitespace\n",
        "\n",
        "    #print(\"Cluster %d titles:\" % i, end='')\n",
        "    #for title in df.loc[i]['title'].values.tolist():\n",
        "    #   print(' %s,' % title, end='')\n",
        "    #print() #add whitespace\n",
        "    #print()"
      ]
    },
    {
      "cell_type": "markdown",
      "source": [
        "<br>\n",
        "<br>"
      ],
      "metadata": {
        "id": "C0khx_Abjgfd"
      }
    },
    {
      "cell_type": "markdown",
      "metadata": {
        "id": "BU7TPrum2xKR"
      },
      "source": [
        "<br>\n",
        "\n",
        "## Cluster Visualization"
      ]
    },
    {
      "cell_type": "markdown",
      "metadata": {
        "id": "dvoke3mc4ipE"
      },
      "source": [
        "### Step 07 - Visualization"
      ]
    },
    {
      "cell_type": "code",
      "execution_count": 38,
      "metadata": {
        "id": "6BJdhfry4ipH",
        "colab": {
          "base_uri": "https://localhost:8080/"
        },
        "outputId": "368be0b5-7989-4b94-a6ec-9419b15c3db3"
      },
      "outputs": [
        {
          "output_type": "stream",
          "name": "stdout",
          "text": [
            "<class 'numpy.ndarray'>\n",
            "(31, 31)\n"
          ]
        }
      ],
      "source": [
        "similarity_distance = 1 - cosine_similarity(tfidf_features)\n",
        "print(type(similarity_distance))\n",
        "print(similarity_distance.shape)"
      ]
    },
    {
      "cell_type": "code",
      "execution_count": 39,
      "metadata": {
        "id": "9cN0J7bv4ipQ",
        "colab": {
          "base_uri": "https://localhost:8080/"
        },
        "outputId": "4d59cc6f-f476-441a-b875-13a9848b7fcb"
      },
      "outputs": [
        {
          "output_type": "stream",
          "name": "stdout",
          "text": [
            "CPU times: user 68.9 ms, sys: 0 ns, total: 68.9 ms\n",
            "Wall time: 85 ms\n",
            "(31, 2)\n"
          ]
        },
        {
          "output_type": "stream",
          "name": "stderr",
          "text": [
            "/usr/local/lib/python3.10/dist-packages/sklearn/manifold/_mds.py:299: FutureWarning: The default value of `normalized_stress` will change to `'auto'` in version 1.4. To suppress this warning, manually set the value of `normalized_stress`.\n",
            "  warnings.warn(\n"
          ]
        }
      ],
      "source": [
        "mds = MDS(n_components=2, dissimilarity=\"precomputed\", random_state=1)\n",
        "get_ipython().magic(u'time pos = mds.fit_transform(similarity_distance)  # shape (n_components, n_samples)')\n",
        "print(pos.shape)"
      ]
    },
    {
      "cell_type": "code",
      "execution_count": 40,
      "metadata": {
        "id": "bcJVsLncNLvf",
        "colab": {
          "base_uri": "https://localhost:8080/"
        },
        "outputId": "b6b28d02-44db-4fa6-c998-726e2420c0d6"
      },
      "outputs": [
        {
          "output_type": "stream",
          "name": "stdout",
          "text": [
            "[[ 0.25413122  0.51223011]\n",
            " [-0.23613322  0.52879565]\n",
            " [-0.00308587 -0.59982816]\n",
            " [-0.40128695 -0.52576641]\n",
            " [ 0.65287736  0.18976017]\n",
            " [ 0.6364058   0.2908526 ]\n",
            " [-0.32093799  0.46477204]\n",
            " [-0.69233396  0.07147765]\n",
            " [ 0.31463428 -0.65122535]\n",
            " [-0.33096694 -0.38079371]\n",
            " [ 0.53338019  0.38599006]\n",
            " [ 0.53867316 -0.09953887]\n",
            " [-0.19413949  0.48766394]\n",
            " [-0.61023662 -0.10821854]\n",
            " [-0.38036225  0.54328878]\n",
            " [-0.60275099 -0.32190826]\n",
            " [ 0.28228377 -0.44844099]\n",
            " [ 0.09639063 -0.35823282]\n",
            " [ 0.35199417  0.17958054]\n",
            " [ 0.18776819  0.02446694]\n",
            " [ 0.60569065 -0.34705637]\n",
            " [-0.14177192  0.62175305]\n",
            " [-0.40746443  0.24212272]\n",
            " [ 0.05001872  0.60615545]\n",
            " [-0.10553455 -0.69931494]\n",
            " [-0.12389097 -0.43446667]\n",
            " [-0.24220904 -0.5968999 ]\n",
            " [ 0.64576661 -0.19306028]\n",
            " [ 0.58969803  0.16045144]\n",
            " [-0.51418761  0.3148403 ]\n",
            " [-0.43241997  0.14054984]]\n"
          ]
        }
      ],
      "source": [
        "print(pos)"
      ]
    },
    {
      "cell_type": "code",
      "execution_count": 41,
      "metadata": {
        "id": "JgXDpNs5NS3I",
        "colab": {
          "base_uri": "https://localhost:8080/"
        },
        "outputId": "2aa822e1-7d9e-4f98-a000-52263f77517c"
      },
      "outputs": [
        {
          "output_type": "stream",
          "name": "stdout",
          "text": [
            "<class 'numpy.ndarray'>\n"
          ]
        },
        {
          "output_type": "execute_result",
          "data": {
            "text/plain": [
              "array([ 0.25413122, -0.23613322, -0.00308587, -0.40128695,  0.65287736,\n",
              "        0.6364058 , -0.32093799, -0.69233396,  0.31463428, -0.33096694,\n",
              "        0.53338019,  0.53867316, -0.19413949, -0.61023662, -0.38036225,\n",
              "       -0.60275099,  0.28228377,  0.09639063,  0.35199417,  0.18776819,\n",
              "        0.60569065, -0.14177192, -0.40746443,  0.05001872, -0.10553455,\n",
              "       -0.12389097, -0.24220904,  0.64576661,  0.58969803, -0.51418761,\n",
              "       -0.43241997])"
            ]
          },
          "metadata": {},
          "execution_count": 41
        }
      ],
      "source": [
        "xs, ys = pos[:, 0], pos[:, 1]\n",
        "print(type(xs))\n",
        "xs"
      ]
    },
    {
      "cell_type": "code",
      "execution_count": 49,
      "metadata": {
        "id": "oXtIwsJJ4ipZ"
      },
      "outputs": [],
      "source": [
        "#set up colors per clusters using a dict\n",
        "cluster_colors = {0: '#00ff00', 1: '#d95f02', 2: '#7570b3'}"
      ]
    },
    {
      "cell_type": "code",
      "execution_count": 43,
      "metadata": {
        "id": "BkJZjEib4ipl"
      },
      "outputs": [],
      "source": [
        "#set up cluster names using a dict\n",
        "cluster_names = {0: 'Ekonomi',\n",
        "                 1: 'Kriminal',\n",
        "                 2: 'Olahraga'}"
      ]
    },
    {
      "cell_type": "code",
      "execution_count": 44,
      "metadata": {
        "id": "zLbbVwCk4ipu"
      },
      "outputs": [],
      "source": [
        "matplotlib inline"
      ]
    },
    {
      "cell_type": "code",
      "execution_count": 45,
      "metadata": {
        "id": "zB77ozHY4ip6"
      },
      "outputs": [],
      "source": [
        "#some ipython magic to show the matplotlib plots inline\n",
        "get_ipython().magic(u'matplotlib inline')"
      ]
    },
    {
      "cell_type": "code",
      "execution_count": 46,
      "metadata": {
        "id": "LTVfx-_q4iqL",
        "colab": {
          "base_uri": "https://localhost:8080/"
        },
        "outputId": "34725658-3cd1-4523-aca2-2eaaf13ed03d"
      },
      "outputs": [
        {
          "output_type": "stream",
          "name": "stdout",
          "text": [
            "          x         y  label  \\\n",
            "1 -0.236133  0.528796      2   \n",
            "2 -0.003086 -0.599828      0   \n",
            "3 -0.401287 -0.525766      0   \n",
            "4  0.652877  0.189760      1   \n",
            "5  0.636406  0.290853      1   \n",
            "6 -0.320938  0.464772      2   \n",
            "7 -0.692334  0.071478      0   \n",
            "8  0.314634 -0.651225      0   \n",
            "9 -0.330967 -0.380794      0   \n",
            "\n",
            "                                                           title  \n",
            "1  Mata Uang dan Bursa Saham Asia Ciut Jelang Pengumuman The Fed  \n",
            "2        Polisi Tindaklanjuti Kasus Dugaan Pemukulan Herman Hery  \n",
            "3  Terduga Teroris di Bandung Barat Dibekuk di Rumah Makan Sunda  \n",
            "4       Lloris: Kemenangan Atas Peru Bakal Beri Kepercayaan Diri  \n",
            "5                     Klasemen Sementara Grup A Piala Dunia 2018  \n",
            "6         Kebijakan Suku Bunga ECB Lemahkan Euro dan Bursa Eropa  \n",
            "7    2019, Bantuan Program Keluarga Harapan Naik jadi Rp3,5 Juta  \n",
            "8     Habiburokhman Lapor Balik ke Bareskrim soal Mudik 'Neraka'  \n",
            "9  Novel Ungkit Lagi Dugaan Oknum Jenderal dalam Teror Air Keras  \n"
          ]
        }
      ],
      "source": [
        "#create data frame that has the result of the MDS plus the cluster numbers and titles\n",
        "df = pd.DataFrame(dict(x=xs, y=ys, label=clusters, title=article_titles))\n",
        "\n",
        "print(df[1:10])"
      ]
    },
    {
      "cell_type": "code",
      "execution_count": 47,
      "metadata": {
        "id": "WDYD4rP44iqZ",
        "colab": {
          "base_uri": "https://localhost:8080/"
        },
        "outputId": "521f21f4-9ec0-4423-c5f4-0220e852e1c3"
      },
      "outputs": [
        {
          "output_type": "stream",
          "name": "stdout",
          "text": [
            "{0: [0, 2, 3, 7, 8, 9, 13, 15, 16, 17, 24, 25, 26], 1: [4, 5, 10, 11, 18, 19, 20, 27, 28], 2: [1, 6, 12, 14, 21, 22, 23, 29, 30]}\n"
          ]
        }
      ],
      "source": [
        "# group by cluster\n",
        "# this generate {name:group(which is a dataframe)}\n",
        "groups = df.groupby('label')\n",
        "print(groups.groups)"
      ]
    },
    {
      "cell_type": "code",
      "execution_count": 50,
      "metadata": {
        "id": "_Uk8BI2J4iqo",
        "colab": {
          "base_uri": "https://localhost:8080/",
          "height": 629
        },
        "outputId": "40ef0c3d-cb09-4817-aa52-5d915967f386"
      },
      "outputs": [
        {
          "output_type": "display_data",
          "data": {
            "text/plain": [
              "<Figure size 1700x900 with 1 Axes>"
            ],
            "image/png": "[encoded data removed]"
          },
          "metadata": {}
        }
      ],
      "source": [
        "# set up plot\n",
        "fig, ax = plt.subplots(figsize=(17, 9)) # set size\n",
        "# ax.margins(0.05) # Optional, just adds 5% padding to the autoscaling\n",
        "\n",
        "#iterate through groups to layer the plot\n",
        "#note that I use the cluster_name and cluster_color dicts with the 'name' lookup to return the appropriate color/label\n",
        "# ms: marker size\n",
        "for name, group in groups:\n",
        "    #print(\"*******\")\n",
        "    #print(\"group name \" + str(name))\n",
        "    #print(group)\n",
        "    ax.plot(group.x, group.y, marker='o', linestyle='', ms=20,\n",
        "            label=cluster_names[name], color=cluster_colors[name],\n",
        "            mec='none')\n",
        "    ax.set_aspect('auto')\n",
        "    ax.tick_params(        axis= 'x',          # changes apply to the x-axis\n",
        "        which='both',      # both major and minor ticks are affected\n",
        "        bottom='off',      # ticks along the bottom edge are off\n",
        "        top='off',         # ticks along the top edge are off\n",
        "        labelbottom='off')\n",
        "    ax.tick_params(        axis= 'y',         # changes apply to the y-axis\n",
        "        which='both',      # both major and minor ticks are affected\n",
        "        left='off',      # ticks along the bottom edge are off\n",
        "        top='off',         # ticks along the top edge are off\n",
        "        labelleft='off')\n",
        "\n",
        "ax.legend(numpoints=1)  #show legend with only 1 point\n",
        "\n",
        "#add label in x,y position with the label as the film title\n",
        "for i in range(len(df)):\n",
        "    ax.text(df.loc[i]['x'], df.loc[i]['y'], df.loc[i]['title'], size=10)\n",
        "\n",
        "plt.show()"
      ]
    },
    {
      "cell_type": "code",
      "execution_count": null,
      "metadata": {
        "id": "efm7P64p4iqz"
      },
      "outputs": [],
      "source": []
    },
    {
      "cell_type": "code",
      "execution_count": null,
      "metadata": {
        "id": "bGS4xMJR4iq7"
      },
      "outputs": [],
      "source": [
        "article_similarities = cosine_similarity(tfidf_features[0], tfidf_features).flatten()"
      ]
    },
    {
      "cell_type": "code",
      "execution_count": null,
      "metadata": {
        "id": "PKJwhCV5QOg-"
      },
      "outputs": [],
      "source": [
        "article_similarities"
      ]
    },
    {
      "cell_type": "code",
      "execution_count": null,
      "metadata": {
        "id": "wNHB-177UGKe"
      },
      "outputs": [],
      "source": []
    },
    {
      "cell_type": "markdown",
      "metadata": {
        "id": "a4Jx_TtCUysD"
      },
      "source": [
        "Simple example cosine similarities"
      ]
    },
    {
      "cell_type": "code",
      "execution_count": 51,
      "metadata": {
        "id": "VdJN7fzISbtv"
      },
      "outputs": [],
      "source": [
        "search_terms = 'tomatoes is a fruit'\n",
        "documents = ['cars drive on the road', 'tomatoes are actually fruit']\n",
        "\n",
        "vectorizer = TfidfVectorizer(use_idf=True)\n",
        "doc_vectors = vectorizer.fit_transform(documents)\n"
      ]
    },
    {
      "cell_type": "code",
      "execution_count": 52,
      "metadata": {
        "id": "La3m2JpqW3sw",
        "colab": {
          "base_uri": "https://localhost:8080/"
        },
        "outputId": "9d3cb324-fb10-4a98-bad7-e9c8c40d5a38"
      },
      "outputs": [
        {
          "output_type": "execute_result",
          "data": {
            "text/plain": [
              "[0.0, 0.7071067811865476]"
            ]
          },
          "metadata": {},
          "execution_count": 52
        }
      ],
      "source": [
        "search_vector = vectorizer.transform([search_terms])\n",
        "\n",
        "cosine_similarities = cosine_similarity(search_vector, doc_vectors).flatten()\n",
        "document_scores = [item.item() for item in cosine_similarities]\n",
        "\n",
        "document_scores"
      ]
    },
    {
      "cell_type": "code",
      "execution_count": null,
      "metadata": {
        "id": "p3Nxj-C3W3kc"
      },
      "outputs": [],
      "source": []
    },
    {
      "cell_type": "markdown",
      "source": [
        "<br>\n",
        "<br>"
      ],
      "metadata": {
        "id": "jNZJOdylj0MS"
      }
    },
    {
      "cell_type": "markdown",
      "source": [
        "## Revision History"
      ],
      "metadata": {
        "id": "h9iacFBWj1A3"
      }
    },
    {
      "cell_type": "markdown",
      "metadata": {
        "id": "hQPwPTt8W1yQ"
      },
      "source": [
        "Release: 1.2108.0101\n",
        "*   Cleanup the code\n",
        "*   Add cossine simimilarities\n",
        "\n",
        "Release: 1.2402.0601\n",
        "*   Tidy up the code\n"
      ]
    },
    {
      "cell_type": "code",
      "execution_count": null,
      "metadata": {
        "id": "p4iZnKUkXQ91"
      },
      "outputs": [],
      "source": []
    }
  ],
  "metadata": {
    "colab": {
      "provenance": [],
      "collapsed_sections": [
        "8QWNHbRedyuM",
        "h9iacFBWj1A3"
      ]
    },
    "kernelspec": {
      "display_name": "Python 3",
      "language": "python",
      "name": "python3"
    },
    "language_info": {
      "codemirror_mode": {
        "name": "ipython",
        "version": 3
      },
      "file_extension": ".py",
      "mimetype": "text/x-python",
      "name": "python",
      "nbconvert_exporter": "python",
      "pygments_lexer": "ipython3",
      "version": "3.5.6"
    }
  },
  "nbformat": 4,
  "nbformat_minor": 0
}