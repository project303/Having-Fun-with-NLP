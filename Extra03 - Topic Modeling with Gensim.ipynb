{
  "nbformat": 4,
  "nbformat_minor": 0,
  "metadata": {
    "colab": {
      "provenance": [],
      "collapsed_sections": [
        "fMS9K4N7ahpS",
        "2n2vi3qEcpVC"
      ]
    },
    "kernelspec": {
      "name": "python3",
      "display_name": "Python 3"
    },
    "language_info": {
      "name": "python"
    }
  },
  "cells": [
    {
      "cell_type": "markdown",
      "source": [
        "# Topic Modeling with Gensim\n",
        "\n",
        "*Notebook version: 1.2402.0701*\n",
        "\n",
        "We’re going to use the gensim implementations because they offer more functionality out of the box"
      ],
      "metadata": {
        "id": "EKD97tPrdytR"
      }
    },
    {
      "cell_type": "markdown",
      "source": [
        "## Library"
      ],
      "metadata": {
        "id": "pLwZeINieF7r"
      }
    },
    {
      "cell_type": "code",
      "execution_count": 1,
      "metadata": {
        "colab": {
          "base_uri": "https://localhost:8080/"
        },
        "id": "xa6NCL0xP1Sf",
        "outputId": "f30073db-85f7-4ce3-c9ed-7040a62e9368"
      },
      "outputs": [
        {
          "output_type": "stream",
          "name": "stdout",
          "text": [
            "Collecting sastrawi\n",
            "  Downloading Sastrawi-1.0.1-py2.py3-none-any.whl (209 kB)\n",
            "\u001b[2K     \u001b[90m━━━━━━━━━━━━━━━━━━━━━━━━━━━━━━━━━━━━━━━━\u001b[0m \u001b[32m209.7/209.7 kB\u001b[0m \u001b[31m2.3 MB/s\u001b[0m eta \u001b[36m0:00:00\u001b[0m\n",
            "\u001b[?25hInstalling collected packages: sastrawi\n",
            "Successfully installed sastrawi-1.0.1\n"
          ]
        }
      ],
      "source": [
        "!pip install sastrawi"
      ]
    },
    {
      "cell_type": "code",
      "source": [
        "import nltk\n",
        "from bs4 import BeautifulSoup\n",
        "from Sastrawi.Stemmer.StemmerFactory import StemmerFactory\n",
        "import re\n",
        "\n",
        "from gensim import models, corpora\n",
        "from gensim.parsing.preprocessing import preprocess_string\n",
        "\n",
        "from nltk import word_tokenize\n",
        "from nltk.corpus import stopwords\n",
        "\n",
        "nltk.download('stopwords')\n",
        "nltk.download('punkt')"
      ],
      "metadata": {
        "colab": {
          "base_uri": "https://localhost:8080/"
        },
        "id": "NlW34vxmQGDh",
        "outputId": "6fecbf78-7ab8-499b-eab5-738c9ad8ffad"
      },
      "execution_count": 2,
      "outputs": [
        {
          "output_type": "stream",
          "name": "stderr",
          "text": [
            "[nltk_data] Downloading package stopwords to /root/nltk_data...\n",
            "[nltk_data]   Unzipping corpora/stopwords.zip.\n",
            "[nltk_data] Downloading package punkt to /root/nltk_data...\n",
            "[nltk_data]   Unzipping tokenizers/punkt.zip.\n"
          ]
        },
        {
          "output_type": "execute_result",
          "data": {
            "text/plain": [
              "True"
            ]
          },
          "metadata": {},
          "execution_count": 2
        }
      ]
    },
    {
      "cell_type": "markdown",
      "source": [
        "<br>\n",
        "<br>"
      ],
      "metadata": {
        "id": "jiOvWtosgCRu"
      }
    },
    {
      "cell_type": "markdown",
      "source": [
        "## Helper Function"
      ],
      "metadata": {
        "id": "zo-7tpzaey9c"
      }
    },
    {
      "cell_type": "code",
      "source": [
        "def tokenize_clean(text):\n",
        "  return preprocess_string(text)"
      ],
      "metadata": {
        "id": "xMHWiPWhSAn6"
      },
      "execution_count": 3,
      "outputs": []
    },
    {
      "cell_type": "code",
      "source": [
        "stopwords = nltk.corpus.stopwords.words('indonesian')\n",
        "def remove_stopwords(tokenized_text):\n",
        "\n",
        "    cleaned_token = []\n",
        "    for token in tokenized_text:\n",
        "        if token not in stopwords:\n",
        "            cleaned_token.append(token)\n",
        "\n",
        "    return cleaned_token"
      ],
      "metadata": {
        "id": "8KCCQnP8S3GG"
      },
      "execution_count": 4,
      "outputs": []
    },
    {
      "cell_type": "code",
      "source": [
        "def stemming_text(tokenized_text):\n",
        "\n",
        "    #stem using Sastrawi StemmerFactory\n",
        "    factory = StemmerFactory()\n",
        "    stemmer = factory.create_stemmer()\n",
        "\n",
        "    stems = []\n",
        "    for token in tokenized_text:\n",
        "        stems.append(stemmer.stem(token))\n",
        "\n",
        "    return stems"
      ],
      "metadata": {
        "id": "spe5ilAbTMKs"
      },
      "execution_count": 5,
      "outputs": []
    },
    {
      "cell_type": "code",
      "source": [
        "def text_preprocessing(text):\n",
        "\n",
        "    prep01 = tokenize_clean(text)\n",
        "    prep02 = remove_stopwords(prep01)\n",
        "    prep03 = stemming_text(prep02)\n",
        "\n",
        "    return prep03"
      ],
      "metadata": {
        "id": "5pf3ijLmTOB0"
      },
      "execution_count": 6,
      "outputs": []
    },
    {
      "cell_type": "markdown",
      "source": [
        "<br>\n",
        "<br>"
      ],
      "metadata": {
        "id": "BF943Gr3gBFc"
      }
    },
    {
      "cell_type": "markdown",
      "source": [
        "## Read Dataset"
      ],
      "metadata": {
        "id": "fn0smxjDe_9Y"
      }
    },
    {
      "cell_type": "code",
      "source": [
        "!mkdir -p dataset\n",
        "!wget https://raw.githubusercontent.com/project303/dataset/master/Berita.txt -P dataset\n",
        "!wget https://raw.githubusercontent.com/project303/dataset/master/Judul-Berita.txt -P dataset"
      ],
      "metadata": {
        "colab": {
          "base_uri": "https://localhost:8080/"
        },
        "id": "4t6hG804QViy",
        "outputId": "88f25dce-152f-441a-8b8e-be8c0b1c21d6"
      },
      "execution_count": 7,
      "outputs": [
        {
          "output_type": "stream",
          "name": "stdout",
          "text": [
            "--2024-02-06 16:57:30--  https://raw.githubusercontent.com/project303/dataset/master/Berita.txt\n",
            "Resolving raw.githubusercontent.com (raw.githubusercontent.com)... 185.199.108.133, 185.199.109.133, 185.199.110.133, ...\n",
            "Connecting to raw.githubusercontent.com (raw.githubusercontent.com)|185.199.108.133|:443... connected.\n",
            "HTTP request sent, awaiting response... 200 OK\n",
            "Length: 76212 (74K) [text/plain]\n",
            "Saving to: ‘dataset/Berita.txt’\n",
            "\n",
            "Berita.txt          100%[===================>]  74.43K  --.-KB/s    in 0.01s   \n",
            "\n",
            "2024-02-06 16:57:30 (5.82 MB/s) - ‘dataset/Berita.txt’ saved [76212/76212]\n",
            "\n",
            "--2024-02-06 16:57:30--  https://raw.githubusercontent.com/project303/dataset/master/Judul-Berita.txt\n",
            "Resolving raw.githubusercontent.com (raw.githubusercontent.com)... 185.199.109.133, 185.199.108.133, 185.199.110.133, ...\n",
            "Connecting to raw.githubusercontent.com (raw.githubusercontent.com)|185.199.109.133|:443... connected.\n",
            "HTTP request sent, awaiting response... 200 OK\n",
            "Length: 1751 (1.7K) [text/plain]\n",
            "Saving to: ‘dataset/Judul-Berita.txt’\n",
            "\n",
            "Judul-Berita.txt    100%[===================>]   1.71K  --.-KB/s    in 0s      \n",
            "\n",
            "2024-02-06 16:57:30 (25.7 MB/s) - ‘dataset/Judul-Berita.txt’ saved [1751/1751]\n",
            "\n"
          ]
        }
      ]
    },
    {
      "cell_type": "code",
      "source": [
        "# read article title\n",
        "article_titles = open('dataset/Judul-Berita.txt').read().split('\\n')\n",
        "len(article_titles)"
      ],
      "metadata": {
        "colab": {
          "base_uri": "https://localhost:8080/"
        },
        "id": "wTTgRko1ZNRW",
        "outputId": "63b853ab-cf2d-4bf2-ba06-e429458ebab5"
      },
      "execution_count": 25,
      "outputs": [
        {
          "output_type": "execute_result",
          "data": {
            "text/plain": [
              "31"
            ]
          },
          "metadata": {},
          "execution_count": 25
        }
      ]
    },
    {
      "cell_type": "code",
      "source": [
        "# read article content\n",
        "article = open('dataset/Berita.txt', encoding=\"utf8\").read().split('BERHENTI DISINI')\n",
        "len(article)"
      ],
      "metadata": {
        "colab": {
          "base_uri": "https://localhost:8080/"
        },
        "id": "4bkN_7l2QbZn",
        "outputId": "d050d904-248c-4495-ac8b-ac038eed0595"
      },
      "execution_count": 8,
      "outputs": [
        {
          "output_type": "execute_result",
          "data": {
            "text/plain": [
              "31"
            ]
          },
          "metadata": {},
          "execution_count": 8
        }
      ]
    },
    {
      "cell_type": "code",
      "source": [
        "article[0]"
      ],
      "metadata": {
        "colab": {
          "base_uri": "https://localhost:8080/",
          "height": 122
        },
        "id": "Asr6bNjDQfsw",
        "outputId": "e039869c-0195-43c5-dcc6-41cdb34835f7"
      },
      "execution_count": 9,
      "outputs": [
        {
          "output_type": "execute_result",
          "data": {
            "text/plain": [
              "'<html lang=\"en\">\\n\\n    <head>\\n    <title>Nasabah Bank Mandiri Mengaku Uangnya Raib Rp49 Juta</title>\\n<meta charset=\"utf-8\">\\n<meta http-equiv=\"X-UA-Compatible\" content=\"IE=edge\">\\n<meta name=\"robots\" content=\"index, follow\" />\\n\\n<body>\\n<p>Jakarta, CNN Indonesia -- Agung Rahman, seorang nasabah Bank Mandiri di Karawang mengaku tiba-tiba kehilangan uang di rekening banknya. Akibat kejadian tersebut dia mengalami kerugian hampir Rp49 juta.</p>\\n\\n<p>Agung mengatakan sebelum kejadian tersebut saldo tabungan yang telah dihimpunnya selama setahun tersebut mencapai Rp49.667.000. Pada 10 Juni lalu, dia terakhir kali mengecek tabungan tersebut.</p>\\n\\n<p>Namun, sontak ia kaget. Pasalnya, sisa saldo di tabungannya tinggal Rp832.324.</p>\\n\\n<p>\"Jadi, tiba- tiba hilang,\" katanya seperti dikutip dari Antara, Selasa (12/6).</p>\\n\\n<p>Agung kaget karena saldo tersebut berkurang banyak tanpa ia melakukan transaksi sama sekali. Ia mengklaim sudah berupaya mengecek ke Bank Mandiri.\\n\\nDari hasil pengecekan tersebut Bank Mandiri menyatakan bahwa berkurangnya saldo tabungan Agung terjadi akibat transaksi di rekeningnya.\\n\\n\"Tapi ini janggal, karena saya merasa tidak pernah melakukan transaksi selama ini,\" katanya.\\n\\nAtas kejadian dan kejanggalan tersebut Agung memutuskan untuk melapor ke Polres Karawang. Kini kasus tersebut ditangani pihak kepolisian setempat.</p>\\n\\nSementara ketika dikonfirmasi, Sekretaris Perusahaan Bank Mandiri Rohan Hafas mengaku masih harus mengecek kasus tersebut. \\n\\n\"Kami masih telusuri dan nasabah tidak perlu khawatir. Kalau nasabah tidak melakukan transaksi, dana akan kami kembalikan,\" tegas Rohan kepada CNNIndonesia.com.\\n\\nNamun, dalam penelusurannya, sambung Rohan, manajemen belum bisa mengidentifikasi nasabah terkait karena kurangnya data dan nomor rekening yang bersangkutan.\\n\\n\"Tapi, kalau terbukti nasabahnya tidak melakukan transaksi tersebut, akan segera kami ganti,\" tandasnya. (Antara/bir) \\n</body>\\n\\n'"
            ],
            "application/vnd.google.colaboratory.intrinsic+json": {
              "type": "string"
            }
          },
          "metadata": {},
          "execution_count": 9
        }
      ]
    },
    {
      "cell_type": "markdown",
      "source": [
        "## Preprocessing"
      ],
      "metadata": {
        "id": "IZftfrgwfNOE"
      }
    },
    {
      "cell_type": "code",
      "source": [
        "# remove HTML tag\n",
        "article_clean = []\n",
        "for text in article:\n",
        "    text = BeautifulSoup(text, 'html.parser').getText()\n",
        "    article_clean.append(text)\n",
        "article = article_clean"
      ],
      "metadata": {
        "id": "yRQKqOomQnbG"
      },
      "execution_count": 10,
      "outputs": []
    },
    {
      "cell_type": "code",
      "source": [
        "article[0]"
      ],
      "metadata": {
        "colab": {
          "base_uri": "https://localhost:8080/",
          "height": 122
        },
        "id": "JFAUKRfaRMkb",
        "outputId": "14318f9e-ed8c-42ce-831f-40f33e923d92"
      },
      "execution_count": 11,
      "outputs": [
        {
          "output_type": "execute_result",
          "data": {
            "text/plain": [
              "'\\n\\nNasabah Bank Mandiri Mengaku Uangnya Raib Rp49 Juta\\n\\n\\n\\n\\nJakarta, CNN Indonesia -- Agung Rahman, seorang nasabah Bank Mandiri di Karawang mengaku tiba-tiba kehilangan uang di rekening banknya. Akibat kejadian tersebut dia mengalami kerugian hampir Rp49 juta.\\nAgung mengatakan sebelum kejadian tersebut saldo tabungan yang telah dihimpunnya selama setahun tersebut mencapai Rp49.667.000. Pada 10 Juni lalu, dia terakhir kali mengecek tabungan tersebut.\\nNamun, sontak ia kaget. Pasalnya, sisa saldo di tabungannya tinggal Rp832.324.\\n\"Jadi, tiba- tiba hilang,\" katanya seperti dikutip dari Antara, Selasa (12/6).\\nAgung kaget karena saldo tersebut berkurang banyak tanpa ia melakukan transaksi sama sekali. Ia mengklaim sudah berupaya mengecek ke Bank Mandiri.\\n\\nDari hasil pengecekan tersebut Bank Mandiri menyatakan bahwa berkurangnya saldo tabungan Agung terjadi akibat transaksi di rekeningnya.\\n\\n\"Tapi ini janggal, karena saya merasa tidak pernah melakukan transaksi selama ini,\" katanya.\\n\\nAtas kejadian dan kejanggalan tersebut Agung memutuskan untuk melapor ke Polres Karawang. Kini kasus tersebut ditangani pihak kepolisian setempat.\\n\\nSementara ketika dikonfirmasi, Sekretaris Perusahaan Bank Mandiri Rohan Hafas mengaku masih harus mengecek kasus tersebut. \\n\\n\"Kami masih telusuri dan nasabah tidak perlu khawatir. Kalau nasabah tidak melakukan transaksi, dana akan kami kembalikan,\" tegas Rohan kepada CNNIndonesia.com.\\n\\nNamun, dalam penelusurannya, sambung Rohan, manajemen belum bisa mengidentifikasi nasabah terkait karena kurangnya data dan nomor rekening yang bersangkutan.\\n\\n\"Tapi, kalau terbukti nasabahnya tidak melakukan transaksi tersebut, akan segera kami ganti,\" tandasnya. (Antara/bir) \\n\\n'"
            ],
            "application/vnd.google.colaboratory.intrinsic+json": {
              "type": "string"
            }
          },
          "metadata": {},
          "execution_count": 11
        }
      ]
    },
    {
      "cell_type": "code",
      "source": [
        "print(article[0])"
      ],
      "metadata": {
        "colab": {
          "base_uri": "https://localhost:8080/"
        },
        "id": "aY-0D1VzQsrs",
        "outputId": "3068c11e-b5a1-4545-e369-6b0f21d63f69"
      },
      "execution_count": 12,
      "outputs": [
        {
          "output_type": "stream",
          "name": "stdout",
          "text": [
            "\n",
            "\n",
            "Nasabah Bank Mandiri Mengaku Uangnya Raib Rp49 Juta\n",
            "\n",
            "\n",
            "\n",
            "\n",
            "Jakarta, CNN Indonesia -- Agung Rahman, seorang nasabah Bank Mandiri di Karawang mengaku tiba-tiba kehilangan uang di rekening banknya. Akibat kejadian tersebut dia mengalami kerugian hampir Rp49 juta.\n",
            "Agung mengatakan sebelum kejadian tersebut saldo tabungan yang telah dihimpunnya selama setahun tersebut mencapai Rp49.667.000. Pada 10 Juni lalu, dia terakhir kali mengecek tabungan tersebut.\n",
            "Namun, sontak ia kaget. Pasalnya, sisa saldo di tabungannya tinggal Rp832.324.\n",
            "\"Jadi, tiba- tiba hilang,\" katanya seperti dikutip dari Antara, Selasa (12/6).\n",
            "Agung kaget karena saldo tersebut berkurang banyak tanpa ia melakukan transaksi sama sekali. Ia mengklaim sudah berupaya mengecek ke Bank Mandiri.\n",
            "\n",
            "Dari hasil pengecekan tersebut Bank Mandiri menyatakan bahwa berkurangnya saldo tabungan Agung terjadi akibat transaksi di rekeningnya.\n",
            "\n",
            "\"Tapi ini janggal, karena saya merasa tidak pernah melakukan transaksi selama ini,\" katanya.\n",
            "\n",
            "Atas kejadian dan kejanggalan tersebut Agung memutuskan untuk melapor ke Polres Karawang. Kini kasus tersebut ditangani pihak kepolisian setempat.\n",
            "\n",
            "Sementara ketika dikonfirmasi, Sekretaris Perusahaan Bank Mandiri Rohan Hafas mengaku masih harus mengecek kasus tersebut. \n",
            "\n",
            "\"Kami masih telusuri dan nasabah tidak perlu khawatir. Kalau nasabah tidak melakukan transaksi, dana akan kami kembalikan,\" tegas Rohan kepada CNNIndonesia.com.\n",
            "\n",
            "Namun, dalam penelusurannya, sambung Rohan, manajemen belum bisa mengidentifikasi nasabah terkait karena kurangnya data dan nomor rekening yang bersangkutan.\n",
            "\n",
            "\"Tapi, kalau terbukti nasabahnya tidak melakukan transaksi tersebut, akan segera kami ganti,\" tandasnya. (Antara/bir) \n",
            "\n",
            "\n"
          ]
        }
      ]
    },
    {
      "cell_type": "code",
      "source": [
        "# proses ini memerlukan waktu sekitar 3 menit\n",
        "tokenized_data = []\n",
        "for text in article:\n",
        "    tokenized_data.append(text_preprocessing(text))"
      ],
      "metadata": {
        "id": "lRFmaXS9RnOu"
      },
      "execution_count": 13,
      "outputs": []
    },
    {
      "cell_type": "code",
      "source": [
        "len(tokenized_data)"
      ],
      "metadata": {
        "colab": {
          "base_uri": "https://localhost:8080/"
        },
        "id": "xhtnyUk4Rs5D",
        "outputId": "989d4e1e-db68-46e3-aaee-232e9b386eaf"
      },
      "execution_count": 14,
      "outputs": [
        {
          "output_type": "execute_result",
          "data": {
            "text/plain": [
              "31"
            ]
          },
          "metadata": {},
          "execution_count": 14
        }
      ]
    },
    {
      "cell_type": "code",
      "source": [
        "print(tokenized_data[0])"
      ],
      "metadata": {
        "colab": {
          "base_uri": "https://localhost:8080/"
        },
        "id": "T4gdofb_Rwzr",
        "outputId": "badabd35-3d42-480e-81fe-c92d56fbc66b"
      },
      "execution_count": 15,
      "outputs": [
        {
          "output_type": "stream",
          "name": "stdout",
          "text": [
            "['nasabah', 'bank', 'mandiri', 'aku', 'uang', 'raib', 'juta', 'jakarta', 'cnn', 'indonesia', 'agung', 'rahman', 'nasabah', 'bank', 'mandiri', 'karawang', 'aku', 'hilang', 'uang', 'reken', 'bank', 'akibat', 'jadi', 'alami', 'rugi', 'juta', 'agung', 'jadi', 'saldo', 'tabung', 'himpun', 'tahun', 'capai', 'juni', 'kali', 'ecek', 'tabung', 'sontak', 'kaget', 'pasal', 'sisa', 'saldo', 'tabung', 'tinggal', 'hilang', 'kutip', 'selasa', 'agung', 'kaget', 'saldo', 'kurang', 'transaksi', 'klaim', 'upaya', 'ecek', 'bank', 'mandiri', 'hasil', 'kece', 'bank', 'mandiri', 'kurang', 'saldo', 'tabung', 'agung', 'akibat', 'transaksi', 'rekening', 'janggal', 'transaksi', 'ata', 'jadi', 'janggal', 'agung', 'putus', 'lapor', 'polr', 'karawang', 'kasu', 'tangan', 'polisi', 'konfirmasi', 'sekretari', 'usaha', 'bank', 'mandiri', 'roh', 'hafa', 'aku', 'haru', 'ecek', 'kasu', 'telusur', 'nasabah', 'khawatir', 'nasabah', 'transaksi', 'dana', 'kembali', 'tega', 'roh', 'cnnindonesia', 'com', 'telusur', 'sambung', 'roh', 'manajemen', 'identifikasi', 'nasabah', 'kait', 'kurang', 'data', 'nomor', 'reken', 'sangkut', 'bukti', 'nasabah', 'transaksi', 'ganti', 'bir']\n"
          ]
        }
      ]
    },
    {
      "cell_type": "code",
      "source": [
        "len(tokenized_data[0])"
      ],
      "metadata": {
        "colab": {
          "base_uri": "https://localhost:8080/"
        },
        "id": "wZ0Ldru5R-OX",
        "outputId": "62d72b37-4b47-4c42-e4ce-303b9e5c2f56"
      },
      "execution_count": 16,
      "outputs": [
        {
          "output_type": "execute_result",
          "data": {
            "text/plain": [
              "120"
            ]
          },
          "metadata": {},
          "execution_count": 16
        }
      ]
    },
    {
      "cell_type": "markdown",
      "source": [
        "<br>\n",
        "<br>"
      ],
      "metadata": {
        "id": "CIY2zagDf_ZX"
      }
    },
    {
      "cell_type": "markdown",
      "source": [
        "## Create The Model"
      ],
      "metadata": {
        "id": "-PyJN4S6fXXx"
      }
    },
    {
      "cell_type": "code",
      "source": [
        "# Build a Dictionary - association word to numeric id\n",
        "dictionary = corpora.Dictionary(tokenized_data)\n",
        "\n",
        "# Transform the collection of texts to a numerical form\n",
        "corpus = [dictionary.doc2bow(text) for text in tokenized_data]"
      ],
      "metadata": {
        "id": "fWkjcMENX68U"
      },
      "execution_count": 17,
      "outputs": []
    },
    {
      "cell_type": "code",
      "source": [
        "NUM_TOPICS = 3\n",
        "\n",
        "# Build the LDA model\n",
        "lda_model = models.LdaModel(corpus=corpus, num_topics=NUM_TOPICS, id2word=dictionary, alpha = 'auto', eval_every=5)#, per_word_topics=True)\n",
        "\n",
        "# Build the LSI model\n",
        "lsi_model = models.LsiModel(corpus=corpus, num_topics=NUM_TOPICS, id2word=dictionary)"
      ],
      "metadata": {
        "colab": {
          "base_uri": "https://localhost:8080/"
        },
        "id": "-0-_HUgAYCQS",
        "outputId": "e498495e-4605-4cf8-dbc8-57cbb9d120a3"
      },
      "execution_count": 20,
      "outputs": [
        {
          "output_type": "stream",
          "name": "stderr",
          "text": [
            "WARNING:gensim.models.ldamodel:too few updates, training might not converge; consider increasing the number of passes or iterations to improve accuracy\n"
          ]
        }
      ]
    },
    {
      "cell_type": "code",
      "source": [
        "print(\"LDA Model:\")\n",
        "\n",
        "for idx in range(NUM_TOPICS):\n",
        "    # Print the first 10 most representative topics\n",
        "    print(\"Topic #%s:\" % idx, lda_model.print_topic(idx, 10))\n",
        "\n",
        "print(\"=\" * 20)\n",
        "\n",
        "print(\"LSI Model:\")\n",
        "\n",
        "for idx in range(NUM_TOPICS):\n",
        "    # Print the first 10 most representative topics\n",
        "    print(\"Topic #%s:\" % idx, lsi_model.print_topic(idx, 10))\n",
        "\n",
        "print(\"=\" * 20)"
      ],
      "metadata": {
        "colab": {
          "base_uri": "https://localhost:8080/"
        },
        "id": "Pow8aM2gYOvw",
        "outputId": "75b6ff9b-d46e-440e-8524-703b859711f1"
      },
      "execution_count": 21,
      "outputs": [
        {
          "output_type": "stream",
          "name": "stdout",
          "text": [
            "LDA Model:\n",
            "Topic #0: 0.007*\"main\" + 0.007*\"persen\" + 0.007*\"balap\" + 0.006*\"indonesia\" + 0.006*\"diskon\" + 0.006*\"jakarta\" + 0.006*\"lawan\" + 0.006*\"dunia\" + 0.006*\"tanding\" + 0.005*\"vettel\"\n",
            "Topic #1: 0.029*\"persen\" + 0.007*\"indonesia\" + 0.007*\"lemah\" + 0.006*\"dolar\" + 0.006*\"jakarta\" + 0.006*\"mu\" + 0.005*\"uang\" + 0.005*\"belanja\" + 0.005*\"bunga\" + 0.005*\"dunia\"\n",
            "Topic #2: 0.007*\"persen\" + 0.006*\"jakarta\" + 0.006*\"indonesia\" + 0.005*\"duga\" + 0.005*\"tabung\" + 0.005*\"polri\" + 0.005*\"cnn\" + 0.005*\"uang\" + 0.004*\"polisi\" + 0.004*\"kasu\"\n",
            "====================\n",
            "LSI Model:\n",
            "Topic #0: -0.744*\"persen\" + -0.218*\"lemah\" + -0.172*\"dolar\" + -0.164*\"mu\" + -0.135*\"indek\" + -0.129*\"bunga\" + -0.116*\"kuat\" + -0.112*\"uang\" + -0.104*\"dagang\" + -0.101*\"indonesia\"\n",
            "Topic #1: 0.401*\"novel\" + 0.324*\"oknum\" + 0.315*\"duga\" + 0.282*\"jender\" + 0.178*\"polisi\" + 0.171*\"kpk\" + 0.147*\"teror\" + 0.145*\"kera\" + 0.143*\"kasu\" + 0.137*\"air\"\n",
            "Topic #2: -0.442*\"main\" + -0.262*\"dunia\" + -0.251*\"argentina\" + -0.250*\"tanding\" + -0.238*\"lawan\" + -0.202*\"piala\" + -0.197*\"kroasia\" + -0.195*\"timna\" + -0.161*\"messi\" + 0.156*\"novel\"\n",
            "====================\n"
          ]
        }
      ]
    },
    {
      "cell_type": "code",
      "source": [],
      "metadata": {
        "id": "NFQqoZ-EYRQ7"
      },
      "execution_count": null,
      "outputs": []
    },
    {
      "cell_type": "markdown",
      "source": [
        "<br>\n",
        "<br>"
      ],
      "metadata": {
        "id": "F6WuayWQf9xJ"
      }
    },
    {
      "cell_type": "markdown",
      "source": [
        "## Test The Model"
      ],
      "metadata": {
        "id": "poLi6xrefdOq"
      }
    },
    {
      "cell_type": "code",
      "source": [
        "print(\"article[0]\")\n",
        "print(\"LDA Model:\")\n",
        "print(lda_model[corpus[0]])\n",
        "\n",
        "print(\"\")\n",
        "print(\"LSA Model:\")\n",
        "print(lsi_model[corpus[0]])"
      ],
      "metadata": {
        "colab": {
          "base_uri": "https://localhost:8080/"
        },
        "id": "pshlWvocYWXB",
        "outputId": "09387bfc-ecff-4017-8645-b0958297d936"
      },
      "execution_count": 22,
      "outputs": [
        {
          "output_type": "stream",
          "name": "stdout",
          "text": [
            "article[0]\n",
            "LDA Model:\n",
            "[(2, 0.98689944)]\n",
            "\n",
            "LSA Model:\n",
            "[(0, -1.6138115051806685), (1, 1.8434785272885046), (2, -0.2963407290001005)]\n"
          ]
        }
      ]
    },
    {
      "cell_type": "code",
      "source": [
        "print(tokenized_data[0])"
      ],
      "metadata": {
        "colab": {
          "base_uri": "https://localhost:8080/"
        },
        "id": "69ktXWTuYrTm",
        "outputId": "98d01037-ad29-4e08-ec39-e2f2ce2d8ddc"
      },
      "execution_count": 24,
      "outputs": [
        {
          "output_type": "stream",
          "name": "stdout",
          "text": [
            "['nasabah', 'bank', 'mandiri', 'aku', 'uang', 'raib', 'juta', 'jakarta', 'cnn', 'indonesia', 'agung', 'rahman', 'nasabah', 'bank', 'mandiri', 'karawang', 'aku', 'hilang', 'uang', 'reken', 'bank', 'akibat', 'jadi', 'alami', 'rugi', 'juta', 'agung', 'jadi', 'saldo', 'tabung', 'himpun', 'tahun', 'capai', 'juni', 'kali', 'ecek', 'tabung', 'sontak', 'kaget', 'pasal', 'sisa', 'saldo', 'tabung', 'tinggal', 'hilang', 'kutip', 'selasa', 'agung', 'kaget', 'saldo', 'kurang', 'transaksi', 'klaim', 'upaya', 'ecek', 'bank', 'mandiri', 'hasil', 'kece', 'bank', 'mandiri', 'kurang', 'saldo', 'tabung', 'agung', 'akibat', 'transaksi', 'rekening', 'janggal', 'transaksi', 'ata', 'jadi', 'janggal', 'agung', 'putus', 'lapor', 'polr', 'karawang', 'kasu', 'tangan', 'polisi', 'konfirmasi', 'sekretari', 'usaha', 'bank', 'mandiri', 'roh', 'hafa', 'aku', 'haru', 'ecek', 'kasu', 'telusur', 'nasabah', 'khawatir', 'nasabah', 'transaksi', 'dana', 'kembali', 'tega', 'roh', 'cnnindonesia', 'com', 'telusur', 'sambung', 'roh', 'manajemen', 'identifikasi', 'nasabah', 'kait', 'kurang', 'data', 'nomor', 'reken', 'sangkut', 'bukti', 'nasabah', 'transaksi', 'ganti', 'bir']\n"
          ]
        }
      ]
    },
    {
      "cell_type": "code",
      "source": [
        "article_titles[0]"
      ],
      "metadata": {
        "colab": {
          "base_uri": "https://localhost:8080/",
          "height": 35
        },
        "id": "u4vP1NzIZQ-t",
        "outputId": "cf44e814-1c15-4e9e-c45d-4cc3e27c78b2"
      },
      "execution_count": 26,
      "outputs": [
        {
          "output_type": "execute_result",
          "data": {
            "text/plain": [
              "'Nasabah Bank Mandiri Mengaku Uangnya Raib Rp49 Juta'"
            ],
            "application/vnd.google.colaboratory.intrinsic+json": {
              "type": "string"
            }
          },
          "metadata": {},
          "execution_count": 26
        }
      ]
    },
    {
      "cell_type": "code",
      "source": [
        "text = \"Pertandingan berjalan dengan seru. Tim lawan berhasil dikalahkan dengan skor 1-0.\"\n",
        "bow = dictionary.doc2bow(text_preprocessing(text))\n",
        "\n",
        "print(lda_model[bow])\n",
        "print(lsi_model[bow])\n",
        "print(bow)"
      ],
      "metadata": {
        "colab": {
          "base_uri": "https://localhost:8080/"
        },
        "id": "tSJQyKo_ZRzA",
        "outputId": "c391965b-b4a1-4c02-cf67-4a36701c7e74"
      },
      "execution_count": 28,
      "outputs": [
        {
          "output_type": "stream",
          "name": "stdout",
          "text": [
            "[(0, 0.83011204), (1, 0.09617264), (2, 0.073715255)]\n",
            "[(0, -0.12598201478273724), (1, 0.2771017671407879), (2, -0.7973742999991417)]\n",
            "[(18, 1), (112, 1), (354, 1), (401, 1), (411, 1), (448, 1), (838, 1)]\n"
          ]
        }
      ]
    },
    {
      "cell_type": "code",
      "source": [
        "len(dictionary)"
      ],
      "metadata": {
        "colab": {
          "base_uri": "https://localhost:8080/"
        },
        "id": "K-_lHXsCaeS4",
        "outputId": "4d465ef4-34a5-49f6-ef27-cc862493da80"
      },
      "execution_count": 31,
      "outputs": [
        {
          "output_type": "execute_result",
          "data": {
            "text/plain": [
              "1740"
            ]
          },
          "metadata": {},
          "execution_count": 31
        }
      ]
    },
    {
      "cell_type": "code",
      "source": [],
      "metadata": {
        "id": "0BV-KyEaag1U"
      },
      "execution_count": null,
      "outputs": []
    },
    {
      "cell_type": "code",
      "source": [
        "from gensim import similarities\n",
        "\n",
        "lda_index = similarities.MatrixSimilarity(lda_model[corpus])\n",
        "\n",
        "# Let's perform some queries\n",
        "similarities = lda_index[lda_model[bow]]\n",
        "# Sort the similarities\n",
        "similarities = sorted(enumerate(similarities), key=lambda item: -item[1])\n",
        "\n",
        "# Top most similar documents:\n",
        "print(similarities[:10])\n",
        "\n",
        "# Let's see what's the most similar document\n",
        "document_id, similarity = similarities[0]\n",
        "print(article[document_id][:1000])"
      ],
      "metadata": {
        "colab": {
          "base_uri": "https://localhost:8080/"
        },
        "id": "lwDkDmPSc9dX",
        "outputId": "9454059e-9112-4753-bfb3-5412b6b8210b"
      },
      "execution_count": 37,
      "outputs": [
        {
          "output_type": "stream",
          "name": "stderr",
          "text": [
            "WARNING:gensim.similarities.docsim:scanning corpus to determine the number of features (consider setting `num_features` explicitly)\n"
          ]
        },
        {
          "output_type": "stream",
          "name": "stdout",
          "text": [
            "[(7, 0.9908834), (4, 0.98951226), (9, 0.98951226), (10, 0.98951226), (13, 0.98951226), (15, 0.98951226), (20, 0.98951226), (22, 0.98951226), (27, 0.98951226), (28, 0.98951226)]\n",
            "\n",
            "\n",
            "\n",
            "Jakarta, CNN Indonesia -- Menteri Sosial Idrus Marham menyatakan bahwa pemerintah akan menaikkan bantuan Program Keluarga Harapan (PKH) pada 2019 mendatang. Jika tahun ini bantuan hanya sebesar Rp1,89 juta per keluarga per tahun, pada tahun depan bantuan akan dinaikkan menjadi Rp2 juta per keluarga per tahun.\n",
            "\n",
            "Bahkan, kenaikan bisa maksimal sampai dengan Rp3,5 juta per keluarga per tahun.\n",
            "\n",
            "\"Tidak hanya dalam bentuk PKH saja, akan ada bantuan sosial dan subsidi juga dari kementerian lain untuk masyarakat agar pengentasan kemiskinan bisa cepat dilakukan,\" katanya dalam pernyataan yang dikeluarkan Minggu (25/6).\n",
            "\n",
            "Menteri Perdagangan Enggartiasto Lukita mengatakan selain bantuan PKH untuk membantu keluarga miskin keluar dari kemiskinan, pemerintah juga akan memberikan bantuan tenda atau gerobak.\n",
            "\n",
            "Dengan bantuan tersebut, dia berharap keluarga penerima manfaat bisa membuka usaha untuk memperbaiki tingkat pendapatan mereka.\n",
            "\n",
            "Berdasarkan data Badan Pusat Statistik (PS), angka kemiskinan di\n"
          ]
        }
      ]
    },
    {
      "cell_type": "markdown",
      "source": [
        "<br>\n",
        "<br>"
      ],
      "metadata": {
        "id": "TbIt-VAxf79c"
      }
    },
    {
      "cell_type": "markdown",
      "source": [
        "## Visualization"
      ],
      "metadata": {
        "id": "WyhHd4VFfi0l"
      }
    },
    {
      "cell_type": "code",
      "source": [
        "# Install pyLDAVis (specific version for Google Collab)\n",
        "!pip install pyLDAvis==2.1.2"
      ],
      "metadata": {
        "colab": {
          "base_uri": "https://localhost:8080/"
        },
        "id": "8sctNJ6jdY75",
        "outputId": "88d522bf-5767-4fb8-f1ed-0e467abfac3e"
      },
      "execution_count": 38,
      "outputs": [
        {
          "output_type": "stream",
          "name": "stdout",
          "text": [
            "Collecting pyLDAvis==2.1.2\n",
            "  Downloading pyLDAvis-2.1.2.tar.gz (1.6 MB)\n",
            "\u001b[2K     \u001b[90m━━━━━━━━━━━━━━━━━━━━━━━━━━━━━━━━━━━━━━━━\u001b[0m \u001b[32m1.6/1.6 MB\u001b[0m \u001b[31m8.5 MB/s\u001b[0m eta \u001b[36m0:00:00\u001b[0m\n",
            "\u001b[?25h  Preparing metadata (setup.py) ... \u001b[?25l\u001b[?25hdone\n",
            "Requirement already satisfied: wheel>=0.23.0 in /usr/local/lib/python3.10/dist-packages (from pyLDAvis==2.1.2) (0.42.0)\n",
            "Requirement already satisfied: numpy>=1.9.2 in /usr/local/lib/python3.10/dist-packages (from pyLDAvis==2.1.2) (1.23.5)\n",
            "Requirement already satisfied: scipy>=0.18.0 in /usr/local/lib/python3.10/dist-packages (from pyLDAvis==2.1.2) (1.11.4)\n",
            "Requirement already satisfied: pandas>=0.17.0 in /usr/local/lib/python3.10/dist-packages (from pyLDAvis==2.1.2) (1.5.3)\n",
            "Requirement already satisfied: joblib>=0.8.4 in /usr/local/lib/python3.10/dist-packages (from pyLDAvis==2.1.2) (1.3.2)\n",
            "Requirement already satisfied: jinja2>=2.7.2 in /usr/local/lib/python3.10/dist-packages (from pyLDAvis==2.1.2) (3.1.3)\n",
            "Requirement already satisfied: numexpr in /usr/local/lib/python3.10/dist-packages (from pyLDAvis==2.1.2) (2.9.0)\n",
            "Requirement already satisfied: pytest in /usr/local/lib/python3.10/dist-packages (from pyLDAvis==2.1.2) (7.4.4)\n",
            "Requirement already satisfied: future in /usr/local/lib/python3.10/dist-packages (from pyLDAvis==2.1.2) (0.18.3)\n",
            "Collecting funcy (from pyLDAvis==2.1.2)\n",
            "  Downloading funcy-2.0-py2.py3-none-any.whl (30 kB)\n",
            "Requirement already satisfied: MarkupSafe>=2.0 in /usr/local/lib/python3.10/dist-packages (from jinja2>=2.7.2->pyLDAvis==2.1.2) (2.1.4)\n",
            "Requirement already satisfied: python-dateutil>=2.8.1 in /usr/local/lib/python3.10/dist-packages (from pandas>=0.17.0->pyLDAvis==2.1.2) (2.8.2)\n",
            "Requirement already satisfied: pytz>=2020.1 in /usr/local/lib/python3.10/dist-packages (from pandas>=0.17.0->pyLDAvis==2.1.2) (2023.4)\n",
            "Requirement already satisfied: iniconfig in /usr/local/lib/python3.10/dist-packages (from pytest->pyLDAvis==2.1.2) (2.0.0)\n",
            "Requirement already satisfied: packaging in /usr/local/lib/python3.10/dist-packages (from pytest->pyLDAvis==2.1.2) (23.2)\n",
            "Requirement already satisfied: pluggy<2.0,>=0.12 in /usr/local/lib/python3.10/dist-packages (from pytest->pyLDAvis==2.1.2) (1.4.0)\n",
            "Requirement already satisfied: exceptiongroup>=1.0.0rc8 in /usr/local/lib/python3.10/dist-packages (from pytest->pyLDAvis==2.1.2) (1.2.0)\n",
            "Requirement already satisfied: tomli>=1.0.0 in /usr/local/lib/python3.10/dist-packages (from pytest->pyLDAvis==2.1.2) (2.0.1)\n",
            "Requirement already satisfied: six>=1.5 in /usr/local/lib/python3.10/dist-packages (from python-dateutil>=2.8.1->pandas>=0.17.0->pyLDAvis==2.1.2) (1.16.0)\n",
            "Building wheels for collected packages: pyLDAvis\n",
            "  Building wheel for pyLDAvis (setup.py) ... \u001b[?25l\u001b[?25hdone\n",
            "  Created wheel for pyLDAvis: filename=pyLDAvis-2.1.2-py2.py3-none-any.whl size=97718 sha256=91dfadf108a240cfcade986c17b10e497781cc5387b58cf2816aa3f5eea3d681\n",
            "  Stored in directory: /root/.cache/pip/wheels/d9/93/d6/16c95da19c32f037fd75135ea152d0df37254c25cd1a8b4b6c\n",
            "Successfully built pyLDAvis\n",
            "Installing collected packages: funcy, pyLDAvis\n",
            "Successfully installed funcy-2.0 pyLDAvis-2.1.2\n"
          ]
        }
      ]
    },
    {
      "cell_type": "code",
      "source": [
        "import pyLDAvis.gensim\n",
        "\n",
        "pyLDAvis.enable_notebook()\n",
        "panel = pyLDAvis.gensim.prepare(lda_model, corpus, dictionary)\n",
        "panel"
      ],
      "metadata": {
        "colab": {
          "base_uri": "https://localhost:8080/",
          "height": 916
        },
        "id": "2bvsdXTSdF-J",
        "outputId": "3e275435-d2c3-4c90-8a0b-72d37fcc1112"
      },
      "execution_count": 39,
      "outputs": [
        {
          "output_type": "stream",
          "name": "stderr",
          "text": [
            "/usr/local/lib/python3.10/dist-packages/pyLDAvis/_prepare.py:232: FutureWarning: In a future version of pandas all arguments of DataFrame.drop except for the argument 'labels' will be keyword-only.\n",
            "  head(R).drop('saliency', 1)\n"
          ]
        },
        {
          "output_type": "execute_result",
          "data": {
            "text/plain": [
              "PreparedData(topic_coordinates=              x         y  topics  cluster       Freq\n",
              "topic                                                \n",
              "0     -0.037846 -0.014488       1        1  39.208080\n",
              "1      0.037966 -0.014351       2        1  34.498084\n",
              "2     -0.000120  0.028839       3        1  26.293836, topic_info=         Term       Freq      Total Category  logprob  loglift\n",
              "152    persen  87.000000  87.000000  Default  30.0000  30.0000\n",
              "1285    balap  18.000000  18.000000  Default  29.0000  29.0000\n",
              "62     tabung  11.000000  11.000000  Default  28.0000  28.0000\n",
              "1329   vettel  14.000000  14.000000  Default  27.0000  27.0000\n",
              "1670  belanja  14.000000  14.000000  Default  26.0000  26.0000\n",
              "...       ...        ...        ...      ...      ...      ...\n",
              "688      aman   4.376853  14.079410   Topic3  -5.8694   0.1675\n",
              "108     indek   4.409658  16.338559   Topic3  -5.8619   0.0261\n",
              "18      hasil   4.478894  20.325813   Topic3  -5.8463  -0.1767\n",
              "427     piala   4.246732  17.812618   Topic3  -5.8995  -0.0979\n",
              "91      dolar   4.278281  21.327817   Topic3  -5.8921  -0.2706\n",
              "\n",
              "[215 rows x 6 columns], token_table=      Topic      Freq  Term\n",
              "term                       \n",
              "72        1  0.204114   acu\n",
              "72        2  0.714399   acu\n",
              "72        3  0.102057   acu\n",
              "1463      1  0.320070   aji\n",
              "1463      2  0.320070   aji\n",
              "...     ...       ...   ...\n",
              "1214      2  0.120550  voni\n",
              "1214      3  0.482200  voni\n",
              "1260      1  0.131347  wood\n",
              "1260      2  0.656736  wood\n",
              "1260      3  0.262694  wood\n",
              "\n",
              "[438 rows x 3 columns], R=30, lambda_step=0.01, plot_opts={'xlab': 'PC1', 'ylab': 'PC2'}, topic_order=[1, 2, 3])"
            ],
            "text/html": [
              "\n",
              "<link rel=\"stylesheet\" type=\"text/css\" href=\"https://cdn.rawgit.com/bmabey/pyLDAvis/files/ldavis.v1.0.0.css\">\n",
              "\n",
              "\n",
              "<div id=\"ldavis_el8701378738593341447446930800\"></div>\n",
              "<script type=\"text/javascript\">\n",
              "\n",
              "var ldavis_el8701378738593341447446930800_data = {\"mdsDat\": {\"x\": [-0.03784593978854763, 0.03796624587512092, -0.00012030608657329204], \"y\": [-0.014488127706525173, -0.014350834368874193, 0.028838962075399363], \"topics\": [1, 2, 3], \"cluster\": [1, 1, 1], \"Freq\": [39.2080797518064, 34.49808398745179, 26.293836260741806]}, \"tinfo\": {\"Term\": [\"persen\", \"balap\", \"tabung\", \"vettel\", \"belanja\", \"polri\", \"bunga\", \"mu\", \"anggota\", \"tni\", \"pagu\", \"tusuk\", \"hamilton\", \"rupiah\", \"tanding\", \"lemah\", \"fela\", \"rumah\", \"golf\", \"dagang\", \"dolar\", \"serap\", \"indek\", \"suku\", \"tim\", \"korban\", \"nasabah\", \"triliun\", \"acu\", \"euro\", \"balap\", \"vettel\", \"hamilton\", \"urut\", \"ferrari\", \"finish\", \"start\", \"bantu\", \"sebastian\", \"podium\", \"tanding\", \"ricciardo\", \"miskin\", \"daniel\", \"llori\", \"malam\", \"botta\", \"merced\", \"bola\", \"mobil\", \"red\", \"lewi\", \"percaya\", \"bull\", \"prix\", \"pkh\", \"latih\", \"pole\", \"sirkuit\", \"peru\", \"tim\", \"raih\", \"pranci\", \"lawan\", \"guess\", \"rita\", \"diskon\", \"timna\", \"sulit\", \"main\", \"argentina\", \"posisi\", \"tawar\", \"keluarga\", \"kroasia\", \"usaha\", \"haru\", \"kerja\", \"rekan\", \"novel\", \"poin\", \"piala\", \"dunia\", \"jender\", \"juta\", \"indonesia\", \"jakarta\", \"hasil\", \"aman\", \"kpk\", \"cnn\", \"persen\", \"duga\", \"oknum\", \"pagu\", \"belanja\", \"bunga\", \"rupiah\", \"apbn\", \"serap\", \"anggar\", \"mu\", \"obligasi\", \"realisasi\", \"suku\", \"tkdd\", \"modal\", \"persen\", \"fed\", \"golf\", \"trofi\", \"dagang\", \"acu\", \"thailand\", \"anal\", \"pasar\", \"darmin\", \"wood\", \"sentimen\", \"spieth\", \"euro\", \"ecb\", \"china\", \"alokasi\", \"lemah\", \"triliun\", \"turnamen\", \"dolar\", \"mei\", \"indek\", \"menteri\", \"kuat\", \"pekan\", \"korban\", \"tingkat\", \"putus\", \"uang\", \"indonesia\", \"naik\", \"capai\", \"jakarta\", \"lapor\", \"laku\", \"duga\", \"catat\", \"dunia\", \"cnn\", \"polisi\", \"main\", \"baik\", \"tabung\", \"tni\", \"fela\", \"setyo\", \"anggota\", \"polri\", \"btn\", \"cijantung\", \"bimo\", \"ecek\", \"saldo\", \"bidik\", \"brigadir\", \"tusuk\", \"divisi\", \"mabe\", \"janggal\", \"mall\", \"aji\", \"depok\", \"persero\", \"feri\", \"soebroto\", \"as\", \"bekuk\", \"uruguai\", \"lengkap\", \"transaksi\", \"kristomei\", \"populasi\", \"tangkap\", \"nasabah\", \"akibat\", \"makan\", \"rspad\", \"jaya\", \"nikola\", \"rumah\", \"teror\", \"kawasan\", \"pasal\", \"jadi\", \"mandiri\", \"orang\", \"keroyok\", \"kasu\", \"voni\", \"aku\", \"polisi\", \"duga\", \"jakarta\", \"cnn\", \"uang\", \"laku\", \"indonesia\", \"dunia\", \"lapor\", \"persen\", \"oknum\", \"rusia\", \"aman\", \"indek\", \"hasil\", \"piala\", \"dolar\"], \"Freq\": [87.0, 18.0, 11.0, 14.0, 14.0, 13.0, 14.0, 15.0, 11.0, 10.0, 8.0, 12.0, 9.0, 10.0, 17.0, 21.0, 7.0, 14.0, 13.0, 13.0, 21.0, 8.0, 16.0, 9.0, 16.0, 11.0, 10.0, 14.0, 9.0, 8.0, 16.28243815443841, 11.907201594779597, 8.143961611005878, 3.5308392953382888, 3.4466556660441623, 2.751067219822443, 3.9902677698563807, 7.215953916635971, 2.6603040378649356, 4.644787068502136, 12.894851598550677, 1.9473229889382218, 3.873423618791039, 1.9353135098770784, 4.4972050743147705, 3.2265191820029466, 2.569453436970525, 2.544154396630625, 5.718050068431053, 3.159724389674994, 1.9089488999416602, 1.882031802325011, 3.1139574829205037, 1.8793253120384759, 1.8698473508993885, 3.0757112945531655, 4.303930681205291, 1.8548349641102706, 1.8499647878900354, 6.794434865842131, 11.393003945875355, 10.09885185210382, 4.864411412063769, 12.983242096069947, 4.158127998610593, 7.892798128897495, 13.961331426938562, 10.592864065005005, 5.16586203241792, 16.853991233354424, 7.8041967500042775, 11.254523742417046, 6.004739530571678, 6.398034906868841, 6.308726645002754, 7.443696117169145, 8.193308928434595, 8.655515711258156, 6.273475563904405, 10.073692413081622, 10.307497453115738, 9.4388577071758, 12.934638243076927, 8.38891108609781, 6.505095399497277, 14.31084578574634, 13.10136686731559, 9.219630380078382, 7.550963725432706, 6.978571424722415, 9.98087986226175, 16.714904207983334, 9.668204112446489, 8.069344572203793, 7.0776136213422, 10.850869340696521, 10.770477580290637, 8.099153670973164, 3.5472244206050267, 6.040090360608874, 3.5161282306866046, 11.493372937457131, 3.9554559005012546, 3.9994612065623367, 6.86572140805619, 2.439240981642195, 2.913414389950721, 59.63114682014396, 4.261757785076452, 8.964348692122352, 1.8814449246883218, 8.894340078538557, 6.588858793019641, 2.7947030619787827, 1.8712121810802524, 5.074481373064819, 2.2965600437369442, 4.971808636765001, 4.105471923870058, 1.8167969845886096, 5.3636559881008825, 3.5751944483614095, 2.6948336711865237, 1.7964956273943784, 13.308087233952323, 9.173567017899336, 4.457360064104522, 12.551949334785682, 6.76620725758532, 9.291691406499494, 9.0602735189995, 7.445130915703148, 6.30334024226393, 6.479156984404542, 6.90972008738243, 5.729182895318007, 10.98746811936169, 14.580467657569, 7.540271894516046, 6.915387839025742, 12.50960355246449, 8.72759438972118, 8.43472584334852, 9.699224239208021, 7.099048741867286, 9.888523546724288, 9.057414556253082, 8.179804820714319, 8.35907693173719, 7.126936408776338, 7.986838867505683, 6.310699540233449, 4.561566680956289, 2.803310487007501, 6.807749823847209, 7.974789146168617, 2.38872124474561, 1.827849106991941, 1.8146811787301975, 1.7567804638550972, 2.137746293575276, 1.326882303173534, 1.2618069533214809, 6.796186420604825, 1.247170149597945, 2.391651960652246, 1.232604417584092, 0.8365011254342242, 1.6646828923644743, 3.3144670619128767, 1.7102530263797273, 1.63661191204546, 0.8242700269294276, 3.840566553971563, 1.5919786979796788, 3.5017835877985624, 1.232386873213845, 3.6153442744582085, 2.8685079575383745, 0.8300992600112832, 3.47161130203261, 5.22271035835429, 2.327504331112117, 2.6313560931312248, 2.049969304801201, 3.040577978231673, 3.4810122492961204, 6.277815345626456, 6.232619510589862, 2.6120969225025643, 5.691197030077607, 3.7690052792632898, 2.9529344743945654, 5.988129582350499, 3.936353180118838, 6.921043179862821, 3.70280613055001, 4.671384377829346, 6.9353585374273345, 8.235190839664606, 9.725899386363395, 7.973938450273025, 7.521985872228681, 6.2593554611541515, 9.255209852410015, 6.761194607074146, 5.63451463582991, 11.071821511944842, 5.4960157160138365, 4.342023644355751, 4.37685275057137, 4.409657936526481, 4.478894047940821, 4.246732355555656, 4.278280618482674], \"Total\": [87.0, 18.0, 11.0, 14.0, 14.0, 13.0, 14.0, 15.0, 11.0, 10.0, 8.0, 12.0, 9.0, 10.0, 17.0, 21.0, 7.0, 14.0, 13.0, 13.0, 21.0, 8.0, 16.0, 9.0, 16.0, 11.0, 10.0, 14.0, 9.0, 8.0, 18.772766640503487, 14.232082967718448, 9.755419583637597, 4.395614243706252, 4.375816411744411, 3.495119966491464, 5.178708876216477, 9.39334110081543, 3.478359867499344, 6.093945335267603, 17.081688966096337, 2.5957174752151264, 5.165497975857709, 2.593322749530108, 6.047584144871941, 4.340138600340891, 3.457074281686107, 3.446644115825858, 7.749875185702308, 4.288538919377112, 2.5917672353050114, 2.580641328620364, 4.272512165884387, 2.5846682344119585, 2.5831583922482584, 4.252539456186941, 5.961707064164049, 2.5753148055227886, 2.5745247105598845, 9.4601402427546, 16.235236901026216, 14.362462705965692, 6.879089206888213, 19.14689835553183, 5.87595561336685, 11.72365204393343, 21.948398056322237, 16.679899365240956, 7.607153308366117, 28.890197926860775, 12.240157804630856, 18.740729680461474, 9.091441272176665, 9.97764273834035, 9.828753117917795, 12.277305838207479, 13.986755944945036, 15.107073110809502, 9.981284448828735, 19.111037392027733, 19.787812399535834, 17.812618281706577, 29.58435639687536, 15.906927745059972, 10.79488899683545, 38.14652329572536, 35.336869806143476, 20.32581307640621, 14.079409831653244, 12.171294424132803, 27.012232868787855, 87.41787254007214, 27.602619191319114, 19.548398721874776, 8.69930497123973, 14.23599871203933, 14.236692025875513, 10.919969965782675, 4.786880967069713, 8.250001964435368, 4.803310802106581, 15.78608471279021, 5.433534754092666, 5.5010622288342885, 9.630319415463894, 3.453426996247085, 4.148722757020178, 87.41787254007214, 6.2611374566440325, 13.173670530527748, 2.778261849697874, 13.208748935620733, 9.79844086015029, 4.15670401619923, 2.7835996427279017, 7.666775511697008, 3.5036382694321606, 7.61341289992603, 6.32298000630417, 2.8108092865000156, 8.310023480478769, 5.545559000616007, 4.221735713862147, 2.825697601634245, 21.12300149054566, 14.80390621117091, 7.069715300009996, 21.3278172500734, 11.476907647209918, 16.338559449611736, 15.938381584783482, 12.974152848939026, 10.750908706077192, 11.295945358571466, 12.257649196372803, 9.895358254328094, 25.26783029433851, 38.14652329572536, 14.769395339763774, 13.148506258766494, 35.336869806143476, 20.115560804633308, 19.232796655798087, 27.602619191319114, 14.808889076860396, 29.58435639687536, 27.012232868787855, 21.099807830441968, 28.890197926860775, 15.760169747803305, 11.926468837474587, 10.190335107371487, 7.394573533863706, 4.615507174825222, 11.487721236749582, 13.506707888416194, 4.066079669512328, 3.1200247429874124, 3.098772335426215, 3.0872569782836, 3.830410580015558, 2.413671252902843, 2.296270099205701, 12.542074688426812, 2.3154864168706197, 4.4797592575738046, 2.3102382000980186, 1.5694158014553876, 3.124320744860992, 6.2363500500938205, 3.224383021997349, 3.095439094465722, 1.5631531833572003, 7.29516800688854, 3.032234285771146, 6.68149669089394, 2.3585323509318785, 6.926110337719258, 5.523787058894628, 1.5990271344450568, 6.775788441361538, 10.341612535856793, 4.562110551134623, 5.191947275697046, 4.01062742072661, 6.15749295638431, 7.197069778650381, 14.043672404293824, 14.10176582083939, 5.2508903853907665, 12.998848865089728, 8.162695252623873, 6.15071996280242, 14.40142056222863, 8.820081292227531, 18.945439980092168, 8.295310661898505, 11.682331104239289, 21.099807830441968, 27.602619191319114, 35.336869806143476, 27.012232868787855, 25.26783029433851, 19.232796655798087, 38.14652329572536, 29.58435639687536, 20.115560804633308, 87.41787254007214, 19.548398721874776, 13.35534527730433, 14.079409831653244, 16.338559449611736, 20.32581307640621, 17.812618281706577, 21.3278172500734], \"Category\": [\"Default\", \"Default\", \"Default\", \"Default\", \"Default\", \"Default\", \"Default\", \"Default\", \"Default\", \"Default\", \"Default\", \"Default\", \"Default\", \"Default\", \"Default\", \"Default\", \"Default\", \"Default\", \"Default\", \"Default\", \"Default\", \"Default\", \"Default\", \"Default\", \"Default\", \"Default\", \"Default\", \"Default\", \"Default\", \"Default\", \"Topic1\", \"Topic1\", \"Topic1\", \"Topic1\", \"Topic1\", \"Topic1\", \"Topic1\", \"Topic1\", \"Topic1\", \"Topic1\", \"Topic1\", \"Topic1\", \"Topic1\", \"Topic1\", \"Topic1\", \"Topic1\", \"Topic1\", \"Topic1\", \"Topic1\", \"Topic1\", \"Topic1\", \"Topic1\", \"Topic1\", \"Topic1\", \"Topic1\", \"Topic1\", \"Topic1\", \"Topic1\", \"Topic1\", \"Topic1\", \"Topic1\", \"Topic1\", \"Topic1\", \"Topic1\", \"Topic1\", \"Topic1\", \"Topic1\", \"Topic1\", \"Topic1\", \"Topic1\", \"Topic1\", \"Topic1\", \"Topic1\", \"Topic1\", \"Topic1\", \"Topic1\", \"Topic1\", \"Topic1\", \"Topic1\", \"Topic1\", \"Topic1\", \"Topic1\", \"Topic1\", \"Topic1\", \"Topic1\", \"Topic1\", \"Topic1\", \"Topic1\", \"Topic1\", \"Topic1\", \"Topic1\", \"Topic1\", \"Topic1\", \"Topic1\", \"Topic2\", \"Topic2\", \"Topic2\", \"Topic2\", \"Topic2\", \"Topic2\", \"Topic2\", \"Topic2\", \"Topic2\", \"Topic2\", \"Topic2\", \"Topic2\", \"Topic2\", \"Topic2\", \"Topic2\", \"Topic2\", \"Topic2\", \"Topic2\", \"Topic2\", \"Topic2\", \"Topic2\", \"Topic2\", \"Topic2\", \"Topic2\", \"Topic2\", \"Topic2\", \"Topic2\", \"Topic2\", \"Topic2\", \"Topic2\", \"Topic2\", \"Topic2\", \"Topic2\", \"Topic2\", \"Topic2\", \"Topic2\", \"Topic2\", \"Topic2\", \"Topic2\", \"Topic2\", \"Topic2\", \"Topic2\", \"Topic2\", \"Topic2\", \"Topic2\", \"Topic2\", \"Topic2\", \"Topic2\", \"Topic2\", \"Topic2\", \"Topic2\", \"Topic2\", \"Topic2\", \"Topic2\", \"Topic2\", \"Topic2\", \"Topic3\", \"Topic3\", \"Topic3\", \"Topic3\", \"Topic3\", \"Topic3\", \"Topic3\", \"Topic3\", \"Topic3\", \"Topic3\", \"Topic3\", \"Topic3\", \"Topic3\", \"Topic3\", \"Topic3\", \"Topic3\", \"Topic3\", \"Topic3\", \"Topic3\", \"Topic3\", \"Topic3\", \"Topic3\", \"Topic3\", \"Topic3\", \"Topic3\", \"Topic3\", \"Topic3\", \"Topic3\", \"Topic3\", \"Topic3\", \"Topic3\", \"Topic3\", \"Topic3\", \"Topic3\", \"Topic3\", \"Topic3\", \"Topic3\", \"Topic3\", \"Topic3\", \"Topic3\", \"Topic3\", \"Topic3\", \"Topic3\", \"Topic3\", \"Topic3\", \"Topic3\", \"Topic3\", \"Topic3\", \"Topic3\", \"Topic3\", \"Topic3\", \"Topic3\", \"Topic3\", \"Topic3\", \"Topic3\", \"Topic3\", \"Topic3\", \"Topic3\", \"Topic3\", \"Topic3\", \"Topic3\", \"Topic3\", \"Topic3\", \"Topic3\", \"Topic3\"], \"logprob\": [30.0, 29.0, 28.0, 27.0, 26.0, 25.0, 24.0, 23.0, 22.0, 21.0, 20.0, 19.0, 18.0, 17.0, 16.0, 15.0, 14.0, 13.0, 12.0, 11.0, 10.0, 9.0, 8.0, 7.0, 6.0, 5.0, 4.0, 3.0, 2.0, 1.0, -4.955100059509277, -5.268099784851074, -5.6479997634887695, -6.483699798583984, -6.507800102233887, -6.7332000732421875, -6.361400127410889, -5.768899917602539, -6.7667999267578125, -6.209499835968018, -5.188399791717529, -7.078800201416016, -6.39109992980957, -7.085000038146973, -6.241799831390381, -6.573800086975098, -6.801499843597412, -6.811399936676025, -6.0015997886657715, -6.594699859619141, -7.098700046539307, -7.1128997802734375, -6.609300136566162, -7.114299774169922, -7.1194000244140625, -6.621699810028076, -6.285699844360352, -7.127399921417236, -7.130099773406982, -5.829100131988525, -5.31220006942749, -5.432799816131592, -6.163300037384033, -5.181600093841553, -6.320199966430664, -5.679299831390381, -5.10890007019043, -5.3850998878479, -6.1031999588012695, -4.920599937438965, -5.6905999183654785, -5.32450008392334, -5.952700138092041, -5.889200210571289, -5.903299808502197, -5.7378997802734375, -5.641900062561035, -5.586999893188477, -5.908899784088135, -5.435299873352051, -5.412399768829346, -5.500400066375732, -5.185299873352051, -5.618299961090088, -5.872600078582764, -5.084199905395508, -5.172500133514404, -5.523900032043457, -5.723599910736084, -5.8024001121521, -5.4446001052856445, -4.928899765014648, -5.476399898529053, -5.657199859619141, -5.660299777984619, -5.232999801635742, -5.2403998374938965, -5.5254998207092285, -6.351099967956543, -5.81879997253418, -6.359899997711182, -5.17549991607666, -6.242199897766113, -6.231100082397461, -5.690700054168701, -6.725599765777588, -6.547900199890137, -3.529099941253662, -6.167600154876709, -5.423999786376953, -6.985199928283691, -5.43179988861084, -5.731900215148926, -6.5894999504089355, -6.990699768066406, -5.993000030517578, -6.785799980163574, -6.013500213623047, -6.204899787902832, -7.020199775695801, -5.937600135803223, -6.343200206756592, -6.625899791717529, -7.031400203704834, -5.028900146484375, -5.400899887084961, -6.122700214385986, -5.087399959564209, -5.7052998542785645, -5.3881001472473145, -5.413400173187256, -5.6097002029418945, -5.776199817657471, -5.748700141906738, -5.684299945831299, -5.871699810028076, -5.2204999923706055, -4.937600135803223, -5.5970001220703125, -5.683499813079834, -5.090799808502197, -5.450799942016602, -5.484899997711182, -5.345200061798096, -5.657299995422363, -5.325900077819824, -5.413700103759766, -5.515600204467773, -5.493899822235107, -5.65339994430542, -5.267899990081787, -5.503399848937988, -5.828000068664551, -6.314899921417236, -5.427599906921387, -5.269400119781494, -6.474899768829346, -6.742499828338623, -6.749800205230713, -6.782199859619141, -6.585899829864502, -7.062900066375732, -7.113100051879883, -5.429299831390381, -7.124800205230713, -6.473700046539307, -7.136600017547607, -7.524199962615967, -6.835999965667725, -6.14739990234375, -6.809000015258789, -6.853099822998047, -7.538899898529053, -6.000100135803223, -6.88070011138916, -6.092400074005127, -7.13670015335083, -6.060500144958496, -6.291900157928467, -7.531899929046631, -6.101099967956543, -5.692699909210205, -6.500899791717529, -6.378200054168701, -6.627900123596191, -6.23360013961792, -6.098400115966797, -5.508699893951416, -5.515900135040283, -6.385499954223633, -5.606800079345703, -6.018899917602539, -6.262899875640869, -5.5559000968933105, -5.975399971008301, -5.411099910736084, -6.036600112915039, -5.804200172424316, -5.40910005569458, -5.237299919128418, -5.070899963378906, -5.269499778747559, -5.327899932861328, -5.511600017547607, -5.120500087738037, -5.434500217437744, -5.616799831390381, -4.941299915313721, -5.64169979095459, -5.877299785614014, -5.8694000244140625, -5.8618998527526855, -5.84630012512207, -5.899499893188477, -5.892099857330322], \"loglift\": [30.0, 29.0, 28.0, 27.0, 26.0, 25.0, 24.0, 23.0, 22.0, 21.0, 20.0, 19.0, 18.0, 17.0, 16.0, 15.0, 14.0, 13.0, 12.0, 11.0, 10.0, 9.0, 8.0, 7.0, 6.0, 5.0, 4.0, 3.0, 2.0, 1.0, 0.794, 0.7579, 0.7557, 0.7172, 0.6976, 0.6969, 0.6756, 0.6726, 0.6682, 0.6647, 0.6551, 0.6489, 0.6484, 0.6436, 0.6401, 0.6398, 0.6396, 0.6327, 0.6322, 0.6308, 0.6305, 0.6206, 0.62, 0.6176, 0.6131, 0.6123, 0.6105, 0.6081, 0.6058, 0.6053, 0.5821, 0.5841, 0.5897, 0.5478, 0.5905, 0.5406, 0.4839, 0.4823, 0.5493, 0.3974, 0.4862, 0.4264, 0.5215, 0.4919, 0.4929, 0.4359, 0.4015, 0.3793, 0.4719, 0.2959, 0.2841, 0.3012, 0.109, 0.2964, 0.4298, -0.0441, -0.0559, 0.1457, 0.3132, 0.3801, -0.0593, -0.7181, -0.1128, 0.0515, 0.858, 0.7927, 0.7853, 0.7654, 0.7646, 0.7525, 0.7523, 0.7469, 0.7468, 0.7455, 0.7259, 0.7166, 0.7108, 0.6817, 0.6796, 0.6793, 0.6745, 0.6688, 0.6674, 0.6673, 0.6671, 0.6516, 0.6419, 0.6381, 0.6324, 0.6279, 0.6264, 0.6253, 0.6154, 0.6113, 0.6023, 0.5857, 0.603, 0.5341, 0.5359, 0.4999, 0.4994, 0.5089, 0.5304, 0.5084, 0.491, 0.5178, 0.2315, 0.1025, 0.392, 0.4217, 0.0258, 0.2293, 0.24, 0.0184, 0.329, -0.0316, -0.0284, 0.1167, -0.1759, 0.2707, 0.9349, 0.8566, 0.8528, 0.8372, 0.8126, 0.8089, 0.8039, 0.8011, 0.8007, 0.772, 0.7526, 0.7375, 0.7371, 0.7231, 0.7171, 0.7083, 0.7076, 0.7066, 0.7063, 0.7037, 0.7017, 0.6985, 0.6959, 0.6942, 0.6915, 0.6898, 0.6867, 0.6857, 0.6806, 0.6802, 0.6671, 0.6527, 0.6628, 0.6562, 0.6647, 0.6302, 0.6095, 0.5307, 0.5193, 0.6376, 0.5099, 0.5631, 0.6021, 0.4583, 0.5291, 0.3288, 0.5292, 0.4192, 0.2232, 0.1263, 0.0457, 0.1157, 0.1241, 0.2133, -0.0804, -0.1402, 0.0633, -0.7305, 0.067, 0.2123, 0.1675, 0.0261, -0.1767, -0.0979, -0.2706]}, \"token.table\": {\"Topic\": [1, 2, 3, 1, 2, 3, 1, 2, 3, 1, 2, 3, 1, 2, 1, 2, 3, 1, 2, 1, 2, 1, 2, 3, 1, 2, 1, 2, 3, 1, 2, 3, 1, 2, 3, 1, 2, 3, 1, 2, 3, 1, 2, 3, 1, 2, 3, 1, 3, 1, 2, 3, 1, 2, 3, 1, 3, 2, 3, 1, 3, 1, 1, 2, 3, 1, 2, 3, 1, 2, 3, 1, 2, 3, 1, 2, 3, 1, 2, 3, 1, 2, 3, 1, 1, 2, 1, 2, 3, 1, 2, 3, 2, 3, 1, 2, 3, 1, 2, 3, 1, 2, 3, 1, 2, 3, 1, 2, 3, 1, 2, 3, 1, 2, 3, 1, 2, 3, 1, 2, 3, 1, 3, 1, 1, 2, 3, 1, 2, 3, 1, 2, 3, 1, 2, 3, 1, 2, 3, 1, 2, 3, 1, 2, 3, 1, 2, 3, 1, 2, 3, 2, 3, 1, 2, 3, 1, 2, 3, 1, 2, 3, 1, 2, 3, 1, 2, 3, 1, 2, 3, 1, 2, 3, 1, 2, 3, 1, 2, 3, 1, 2, 3, 1, 2, 3, 1, 2, 3, 1, 2, 3, 1, 2, 3, 1, 2, 3, 1, 2, 3, 1, 2, 3, 1, 2, 3, 1, 2, 3, 1, 1, 2, 3, 1, 2, 3, 1, 2, 3, 1, 2, 3, 1, 3, 3, 1, 2, 3, 1, 2, 3, 1, 2, 3, 1, 3, 1, 2, 3, 1, 2, 3, 1, 2, 1, 2, 3, 1, 2, 3, 1, 2, 3, 1, 2, 3, 1, 2, 3, 1, 2, 3, 1, 2, 3, 1, 2, 3, 1, 2, 1, 2, 3, 1, 2, 3, 1, 2, 3, 1, 2, 3, 1, 2, 3, 1, 3, 1, 2, 3, 1, 2, 3, 1, 2, 3, 1, 2, 3, 1, 2, 3, 1, 1, 2, 3, 1, 2, 3, 3, 1, 2, 3, 1, 2, 3, 1, 1, 2, 3, 1, 2, 3, 1, 2, 1, 1, 2, 3, 1, 1, 2, 3, 1, 2, 3, 1, 2, 3, 1, 2, 3, 1, 2, 3, 1, 2, 3, 1, 3, 1, 2, 3, 1, 2, 1, 2, 3, 1, 3, 1, 2, 1, 2, 3, 1, 2, 3, 1, 2, 3, 1, 2, 3, 1, 2, 3, 1, 2, 3, 1, 2, 3, 1, 2, 3, 1, 2, 3, 1, 2, 3, 1, 2, 3, 1, 2, 3, 1, 2, 1, 2, 3, 1, 2, 3, 1, 2, 3, 1, 2, 1, 2, 3, 1, 2, 3, 1, 2, 3, 1, 2, 3, 1, 3, 1, 2, 3, 1, 2, 3, 1, 2, 3, 1, 2, 3], \"Freq\": [0.20411410637113583, 0.7143993722989754, 0.10205705318556792, 0.3200695708482684, 0.3200695708482684, 0.6401391416965369, 0.21919679253526514, 0.21919679253526514, 0.4383935850705303, 0.3423974174596437, 0.25679806309473274, 0.4279967718245546, 0.353894910560015, 0.70778982112003, 0.5682056347286978, 0.14205140868217445, 0.2841028173643489, 0.359247064358727, 0.718494128717454, 0.20818973437268135, 0.8327589374907254, 0.17409893213650912, 0.26114839820476365, 0.6093462624777819, 0.20890429632139976, 0.835617185285599, 0.6535863448568723, 0.24509487932132712, 0.08169829310710904, 0.27415406994211494, 0.13707703497105747, 0.5483081398842299, 0.38070655938438075, 0.44415765261511087, 0.19035327969219037, 0.8522984547988223, 0.05326865342492639, 0.10653730684985278, 0.7452087521225365, 0.10645839316036236, 0.10645839316036236, 0.32978982023009606, 0.32978982023009606, 0.6595796404601921, 0.1404889140871169, 0.7726890274791429, 0.07024445704355844, 0.41430662887389197, 0.41430662887389197, 0.32270844442738217, 0.32270844442738217, 0.6454168888547643, 0.7742060170297141, 0.12903433617161902, 0.12903433617161902, 0.8677858083329412, 0.2892619361109804, 0.4354888392031532, 0.4354888392031532, 0.2459371387870363, 0.4918742775740726, 0.773793701401303, 0.1404820724059321, 0.7726513982326265, 0.1404820724059321, 0.30421706627953143, 0.53237986598918, 0.15210853313976572, 0.337635049735955, 0.47268906963033697, 0.20258102984157297, 0.2368693986969581, 0.7106081960908743, 0.2368693986969581, 0.3205102787237846, 0.3205102787237846, 0.6410205574475693, 0.3702026429497733, 0.33318237865479594, 0.2961621143598186, 0.22712219110393878, 0.6813665733118164, 0.1514147940692925, 0.7712113736565902, 0.2854175925421865, 0.570835185084373, 0.16035020355936497, 0.16035020355936497, 0.4810506106780949, 0.6378597638002697, 0.27336847020011557, 0.09112282340003852, 0.4318746992916936, 0.4318746992916936, 0.18754849373937849, 0.6095326046529801, 0.18754849373937849, 0.3622844604234134, 0.3622844604234134, 0.2898275683387307, 0.43942142345787294, 0.3380164795829792, 0.23661153570808544, 0.18032447222884454, 0.7212978889153782, 0.18032447222884454, 0.32391213528196894, 0.32391213528196894, 0.6478242705639379, 0.1203366034222549, 0.6016830171112745, 0.2406732068445098, 0.15971538828601275, 0.638861553144051, 0.15971538828601275, 0.27046860658575245, 0.13523430329287622, 0.6761715164643811, 0.32305594440151686, 0.32305594440151686, 0.6461118888030337, 0.6855863495434114, 0.22852878318113712, 0.858339636053041, 0.15181797627057236, 0.6831808932175756, 0.15181797627057236, 0.6807403362443116, 0.1701850840610779, 0.1701850840610779, 0.8200569879555056, 0.1025071234944382, 0.1025071234944382, 0.5719696569733373, 0.21448862136500152, 0.21448862136500152, 0.44278671491114996, 0.34438966715311664, 0.19679409551606664, 0.18361471886502767, 0.550844156595083, 0.24481962515337022, 0.36700592322574305, 0.39322063202758184, 0.2359323792165491, 0.12250855496271934, 0.367525664888158, 0.49003421985087736, 0.3678877068432329, 0.3678877068432329, 0.2829905437255638, 0.4328557981413224, 0.4328557981413224, 0.16240375865361958, 0.32480751730723917, 0.4872112759608587, 0.502925525797052, 0.3143284536231574, 0.18859707217389446, 0.648455023673895, 0.18527286390682712, 0.18527286390682712, 0.2639157499247307, 0.369482049894623, 0.369482049894623, 0.19044389172210474, 0.3808877834442095, 0.5713316751663142, 0.601344441502625, 0.20044814716754167, 0.20044814716754167, 0.595747431285036, 0.33097079515835337, 0.13238831806334136, 0.11337763982756306, 0.45351055931025225, 0.45351055931025225, 0.08852734040902481, 0.5311640424541488, 0.2655820212270744, 0.5751237096130591, 0.2464815898341682, 0.16432105988944545, 0.3620704380302854, 0.1810352190151427, 0.5431056570454281, 0.6104538315304728, 0.20348461051015762, 0.10174230525507881, 0.3083052933453843, 0.5395342633544226, 0.15415264667269216, 0.2599725921031176, 0.41595614736498815, 0.3119671105237411, 0.2982765461163774, 0.44741481917456605, 0.2982765461163774, 0.6709487663431314, 0.16773719158578285, 0.16773719158578285, 0.6789611433981474, 0.2089111210455838, 0.1044555605227919, 0.18936702730387725, 0.6154428387376011, 0.14202527047790794, 0.4239924882119554, 0.4239924882119554, 0.4239924882119554, 0.7750011510004063, 0.6614211401079565, 0.16535528502698912, 0.16535528502698912, 0.2232262812581564, 0.4464525625163128, 0.4464525625163128, 0.5884348747986313, 0.276910529317003, 0.1384552646585015, 0.192605962059918, 0.385211924119836, 0.577817886179754, 0.6912221650627398, 0.2304073883542466, 0.6371797703786699, 0.16258259293996136, 0.3251651858799227, 0.48774777881988407, 0.2613944532985165, 0.6099203910298718, 0.08713148443283884, 0.3137081373916625, 0.5646746473049925, 0.125483254956665, 0.870411884483514, 0.290137294827838, 0.7743687092115872, 0.1935921773028968, 0.1935921773028968, 0.6995389470397377, 0.23317964901324592, 0.23317964901324592, 0.24103803955274428, 0.7231141186582328, 0.19004078937758, 0.6968162277177934, 0.06334692979252668, 0.40624547328935984, 0.5416606310524797, 0.13541515776311994, 0.29009015659775467, 0.19339343773183645, 0.48348359432959115, 0.2778908724676902, 0.1389454362338451, 0.41683630870153526, 0.5232578323650579, 0.3139546994190347, 0.15697734970951735, 0.18404225706788319, 0.7361690282715327, 0.18404225706788319, 0.4092406807237849, 0.30693051054283865, 0.2557754254523656, 0.20831278324502647, 0.34718797207504415, 0.41662556649005295, 0.11495171203975976, 0.8046619842783183, 0.23078966692634836, 0.30771955590179784, 0.4615793338526967, 0.13043293082917648, 0.6521646541458824, 0.13043293082917648, 0.279046179445667, 0.558092358891334, 0.09301539314855567, 0.7021630093776494, 0.23405433645921647, 0.23405433645921647, 0.19446824208867863, 0.686358501489454, 0.12583239193973322, 0.31013685197379204, 0.6202737039475841, 0.7399467471278991, 0.10570667816112844, 0.21141335632225688, 0.5052598027794112, 0.224559912346405, 0.224559912346405, 0.7054608266209865, 0.23515360887366218, 0.23515360887366218, 0.8204865198024353, 0.16409730396048705, 0.16409730396048705, 0.5053615729768376, 0.30321694378610253, 0.15160847189305127, 0.7766040857261333, 0.2843627794251016, 0.37915037256680206, 0.3317565759959518, 0.2221118591431818, 0.1480745727621212, 0.5922982910484847, 0.6253802568191256, 0.5869568681452287, 0.26679857642964944, 0.16007914585778965, 0.7268404071564254, 0.14536808143128507, 0.14536808143128507, 0.7742459796510175, 0.10105748314494967, 0.606344898869698, 0.303172449434849, 0.6962594232426679, 0.13925188464853358, 0.13925188464853358, 0.18178307359593468, 0.7271322943837387, 0.7716742355393773, 0.6011250386421035, 0.20037501288070117, 0.20037501288070117, 0.7704998787798526, 0.6823812213140285, 0.1705953053285071, 0.1705953053285071, 0.24933754624826973, 0.24933754624826973, 0.49867509249653946, 0.14241289190059034, 0.42723867570177104, 0.42723867570177104, 0.18315068688530523, 0.7326027475412209, 0.09157534344265261, 0.22462916066259322, 0.44925832132518645, 0.29950554755012426, 0.2610686189144607, 0.2610686189144607, 0.5221372378289214, 0.8624754523046962, 0.2874918174348987, 0.15815327567111945, 0.6326131026844778, 0.15815327567111945, 0.2424241846998009, 0.7272725540994027, 0.21666091333459309, 0.21666091333459309, 0.6499827400037793, 0.7768424174748193, 0.6397325678934995, 0.35576942370401354, 0.7115388474080271, 0.7723932925386545, 0.19309832313466363, 0.19309832313466363, 0.20767743142439266, 0.7268710099853742, 0.10383871571219633, 0.6572760922934406, 0.13145521845868813, 0.13145521845868813, 0.16769422930245104, 0.16769422930245104, 0.6707769172098041, 0.7610488650040604, 0.17562666115478318, 0.11708444076985546, 0.14758430087570124, 0.29516860175140247, 0.44275290262710376, 0.6599613659016119, 0.21998712196720396, 0.10999356098360198, 0.28365241990395673, 0.28365241990395673, 0.42547862985593515, 0.24057522404839668, 0.72172567214519, 0.24057522404839668, 0.6775386196738958, 0.12318883994070833, 0.18478325991106248, 0.6594764008542383, 0.17985720023297408, 0.17985720023297408, 0.2447451344004639, 0.5710719802677491, 0.1631634229336426, 0.2895674357925394, 0.5791348715850788, 0.1962643994458278, 0.1962643994458278, 0.5887931983374833, 0.1443811824010439, 0.2887623648020878, 0.5775247296041756, 0.20264921684901138, 0.6079476505470341, 0.20264921684901138, 0.359937275209947, 0.719874550419894, 0.28289682329883525, 0.5657936465976705, 0.14144841164941763, 0.23919487600948885, 0.23919487600948885, 0.5581213773554741, 0.2770320964823171, 0.43533615161506967, 0.3166081102655052, 0.1496670650698484, 0.2993341301396968, 0.5986682602793936, 0.9099979612012811, 0.22749949030032027, 0.5701576626213638, 0.2443532839805845, 0.16290218932038966, 0.8431654050372449, 0.07026378375310374, 0.14052756750620748, 0.48220014451930615, 0.12055003612982654, 0.48220014451930615, 0.13134713868069808, 0.6567356934034904, 0.26269427736139617], \"Term\": [\"acu\", \"acu\", \"acu\", \"aji\", \"aji\", \"aji\", \"akibat\", \"akibat\", \"akibat\", \"aku\", \"aku\", \"aku\", \"alokasi\", \"alokasi\", \"aman\", \"aman\", \"aman\", \"anal\", \"anal\", \"anggar\", \"anggar\", \"anggota\", \"anggota\", \"anggota\", \"apbn\", \"apbn\", \"argentina\", \"argentina\", \"argentina\", \"as\", \"as\", \"as\", \"baik\", \"baik\", \"baik\", \"balap\", \"balap\", \"balap\", \"bantu\", \"bantu\", \"bantu\", \"bekuk\", \"bekuk\", \"bekuk\", \"belanja\", \"belanja\", \"belanja\", \"bidik\", \"bidik\", \"bimo\", \"bimo\", \"bimo\", \"bola\", \"bola\", \"bola\", \"botta\", \"botta\", \"brigadir\", \"brigadir\", \"btn\", \"btn\", \"bull\", \"bunga\", \"bunga\", \"bunga\", \"capai\", \"capai\", \"capai\", \"catat\", \"catat\", \"catat\", \"china\", \"china\", \"china\", \"cijantung\", \"cijantung\", \"cijantung\", \"cnn\", \"cnn\", \"cnn\", \"dagang\", \"dagang\", \"dagang\", \"daniel\", \"darmin\", \"darmin\", \"depok\", \"depok\", \"depok\", \"diskon\", \"diskon\", \"diskon\", \"divisi\", \"divisi\", \"dolar\", \"dolar\", \"dolar\", \"duga\", \"duga\", \"duga\", \"dunia\", \"dunia\", \"dunia\", \"ecb\", \"ecb\", \"ecb\", \"ecek\", \"ecek\", \"ecek\", \"euro\", \"euro\", \"euro\", \"fed\", \"fed\", \"fed\", \"fela\", \"fela\", \"fela\", \"feri\", \"feri\", \"feri\", \"ferrari\", \"ferrari\", \"finish\", \"golf\", \"golf\", \"golf\", \"guess\", \"guess\", \"guess\", \"hamilton\", \"hamilton\", \"hamilton\", \"haru\", \"haru\", \"haru\", \"hasil\", \"hasil\", \"hasil\", \"indek\", \"indek\", \"indek\", \"indonesia\", \"indonesia\", \"indonesia\", \"jadi\", \"jadi\", \"jadi\", \"jakarta\", \"jakarta\", \"jakarta\", \"janggal\", \"janggal\", \"jaya\", \"jaya\", \"jaya\", \"jender\", \"jender\", \"jender\", \"juta\", \"juta\", \"juta\", \"kasu\", \"kasu\", \"kasu\", \"kawasan\", \"kawasan\", \"kawasan\", \"keluarga\", \"keluarga\", \"keluarga\", \"kerja\", \"kerja\", \"kerja\", \"keroyok\", \"keroyok\", \"keroyok\", \"korban\", \"korban\", \"korban\", \"kpk\", \"kpk\", \"kpk\", \"kristomei\", \"kristomei\", \"kristomei\", \"kroasia\", \"kroasia\", \"kroasia\", \"kuat\", \"kuat\", \"kuat\", \"laku\", \"laku\", \"laku\", \"lapor\", \"lapor\", \"lapor\", \"latih\", \"latih\", \"latih\", \"lawan\", \"lawan\", \"lawan\", \"lemah\", \"lemah\", \"lemah\", \"lengkap\", \"lengkap\", \"lengkap\", \"lewi\", \"llori\", \"llori\", \"llori\", \"mabe\", \"mabe\", \"mabe\", \"main\", \"main\", \"main\", \"makan\", \"makan\", \"makan\", \"malam\", \"malam\", \"mall\", \"mandiri\", \"mandiri\", \"mandiri\", \"mei\", \"mei\", \"mei\", \"menteri\", \"menteri\", \"menteri\", \"merced\", \"merced\", \"miskin\", \"miskin\", \"miskin\", \"mobil\", \"mobil\", \"mobil\", \"modal\", \"modal\", \"mu\", \"mu\", \"mu\", \"naik\", \"naik\", \"naik\", \"nasabah\", \"nasabah\", \"nasabah\", \"nikola\", \"nikola\", \"nikola\", \"novel\", \"novel\", \"novel\", \"obligasi\", \"obligasi\", \"obligasi\", \"oknum\", \"oknum\", \"oknum\", \"orang\", \"orang\", \"orang\", \"pagu\", \"pagu\", \"pasal\", \"pasal\", \"pasal\", \"pasar\", \"pasar\", \"pasar\", \"pekan\", \"pekan\", \"pekan\", \"percaya\", \"percaya\", \"percaya\", \"persen\", \"persen\", \"persen\", \"persero\", \"persero\", \"peru\", \"peru\", \"peru\", \"piala\", \"piala\", \"piala\", \"pkh\", \"pkh\", \"pkh\", \"podium\", \"podium\", \"podium\", \"poin\", \"poin\", \"poin\", \"pole\", \"polisi\", \"polisi\", \"polisi\", \"polri\", \"polri\", \"polri\", \"populasi\", \"posisi\", \"posisi\", \"posisi\", \"pranci\", \"pranci\", \"pranci\", \"prix\", \"putus\", \"putus\", \"putus\", \"raih\", \"raih\", \"raih\", \"realisasi\", \"realisasi\", \"red\", \"rekan\", \"rekan\", \"rekan\", \"ricciardo\", \"rita\", \"rita\", \"rita\", \"rspad\", \"rspad\", \"rspad\", \"rumah\", \"rumah\", \"rumah\", \"rupiah\", \"rupiah\", \"rupiah\", \"rusia\", \"rusia\", \"rusia\", \"saldo\", \"saldo\", \"saldo\", \"sebastian\", \"sebastian\", \"sentimen\", \"sentimen\", \"sentimen\", \"serap\", \"serap\", \"setyo\", \"setyo\", \"setyo\", \"sirkuit\", \"soebroto\", \"spieth\", \"spieth\", \"start\", \"start\", \"start\", \"suku\", \"suku\", \"suku\", \"sulit\", \"sulit\", \"sulit\", \"tabung\", \"tabung\", \"tabung\", \"tanding\", \"tanding\", \"tanding\", \"tangkap\", \"tangkap\", \"tangkap\", \"tawar\", \"tawar\", \"tawar\", \"teror\", \"teror\", \"teror\", \"thailand\", \"thailand\", \"thailand\", \"tim\", \"tim\", \"tim\", \"timna\", \"timna\", \"timna\", \"tingkat\", \"tingkat\", \"tingkat\", \"tkdd\", \"tkdd\", \"tni\", \"tni\", \"tni\", \"transaksi\", \"transaksi\", \"transaksi\", \"triliun\", \"triliun\", \"triliun\", \"trofi\", \"trofi\", \"turnamen\", \"turnamen\", \"turnamen\", \"tusuk\", \"tusuk\", \"tusuk\", \"uang\", \"uang\", \"uang\", \"uruguai\", \"uruguai\", \"uruguai\", \"urut\", \"urut\", \"usaha\", \"usaha\", \"usaha\", \"vettel\", \"vettel\", \"vettel\", \"voni\", \"voni\", \"voni\", \"wood\", \"wood\", \"wood\"]}, \"R\": 30, \"lambda.step\": 0.01, \"plot.opts\": {\"xlab\": \"PC1\", \"ylab\": \"PC2\"}, \"topic.order\": [1, 2, 3]};\n",
              "\n",
              "function LDAvis_load_lib(url, callback){\n",
              "  var s = document.createElement('script');\n",
              "  s.src = url;\n",
              "  s.async = true;\n",
              "  s.onreadystatechange = s.onload = callback;\n",
              "  s.onerror = function(){console.warn(\"failed to load library \" + url);};\n",
              "  document.getElementsByTagName(\"head\")[0].appendChild(s);\n",
              "}\n",
              "\n",
              "if(typeof(LDAvis) !== \"undefined\"){\n",
              "   // already loaded: just create the visualization\n",
              "   !function(LDAvis){\n",
              "       new LDAvis(\"#\" + \"ldavis_el8701378738593341447446930800\", ldavis_el8701378738593341447446930800_data);\n",
              "   }(LDAvis);\n",
              "}else if(typeof define === \"function\" && define.amd){\n",
              "   // require.js is available: use it to load d3/LDAvis\n",
              "   require.config({paths: {d3: \"https://cdnjs.cloudflare.com/ajax/libs/d3/3.5.5/d3.min\"}});\n",
              "   require([\"d3\"], function(d3){\n",
              "      window.d3 = d3;\n",
              "      LDAvis_load_lib(\"https://cdn.rawgit.com/bmabey/pyLDAvis/files/ldavis.v1.0.0.js\", function(){\n",
              "        new LDAvis(\"#\" + \"ldavis_el8701378738593341447446930800\", ldavis_el8701378738593341447446930800_data);\n",
              "      });\n",
              "    });\n",
              "}else{\n",
              "    // require.js not available: dynamically load d3 & LDAvis\n",
              "    LDAvis_load_lib(\"https://cdnjs.cloudflare.com/ajax/libs/d3/3.5.5/d3.min.js\", function(){\n",
              "         LDAvis_load_lib(\"https://cdn.rawgit.com/bmabey/pyLDAvis/files/ldavis.v1.0.0.js\", function(){\n",
              "                 new LDAvis(\"#\" + \"ldavis_el8701378738593341447446930800\", ldavis_el8701378738593341447446930800_data);\n",
              "            })\n",
              "         });\n",
              "}\n",
              "</script>"
            ]
          },
          "metadata": {},
          "execution_count": 39
        }
      ]
    },
    {
      "cell_type": "markdown",
      "source": [
        "<br>\n",
        "<br>"
      ],
      "metadata": {
        "id": "vzjJGbEiah0U"
      }
    },
    {
      "cell_type": "markdown",
      "source": [
        "## How Dictionary and doc2bow Work"
      ],
      "metadata": {
        "id": "fMS9K4N7ahpS"
      }
    },
    {
      "cell_type": "code",
      "source": [
        "texts = [['durian', 'belimbing', 'cempedak' ], ['apel', 'belimbing']]\n",
        "\n",
        "dct = corpora.Dictionary(texts)  # initialize a Dictionary"
      ],
      "metadata": {
        "id": "hj70fA0oal5j"
      },
      "execution_count": 32,
      "outputs": []
    },
    {
      "cell_type": "code",
      "source": [
        "len(dct)"
      ],
      "metadata": {
        "colab": {
          "base_uri": "https://localhost:8080/"
        },
        "id": "kBJJIXytcJvn",
        "outputId": "9ced7746-f48a-4b46-ca30-2d88bf421740"
      },
      "execution_count": 33,
      "outputs": [
        {
          "output_type": "execute_result",
          "data": {
            "text/plain": [
              "4"
            ]
          },
          "metadata": {},
          "execution_count": 33
        }
      ]
    },
    {
      "cell_type": "code",
      "source": [
        "dct.keys()"
      ],
      "metadata": {
        "colab": {
          "base_uri": "https://localhost:8080/"
        },
        "id": "DiRiygbXcL7R",
        "outputId": "24e8e81e-fd1a-40ad-deb6-ecd4059650c5"
      },
      "execution_count": 34,
      "outputs": [
        {
          "output_type": "execute_result",
          "data": {
            "text/plain": [
              "[0, 1, 2, 3]"
            ]
          },
          "metadata": {},
          "execution_count": 34
        }
      ]
    },
    {
      "cell_type": "code",
      "source": [
        "dct[1]"
      ],
      "metadata": {
        "colab": {
          "base_uri": "https://localhost:8080/",
          "height": 35
        },
        "id": "XGy6FnUCcVC_",
        "outputId": "185fbcc4-ebf6-4334-eaec-94f55b5f5558"
      },
      "execution_count": 35,
      "outputs": [
        {
          "output_type": "execute_result",
          "data": {
            "text/plain": [
              "'cempedak'"
            ],
            "application/vnd.google.colaboratory.intrinsic+json": {
              "type": "string"
            }
          },
          "metadata": {},
          "execution_count": 35
        }
      ]
    },
    {
      "cell_type": "code",
      "source": [
        "dct.doc2bow([\"belimbing\", \"apel\", \"non_existent_word\"])"
      ],
      "metadata": {
        "colab": {
          "base_uri": "https://localhost:8080/"
        },
        "id": "WVNE0ZFEcHfw",
        "outputId": "3d9c13a1-d8c7-461d-9632-7c2f1c580c7f"
      },
      "execution_count": 36,
      "outputs": [
        {
          "output_type": "execute_result",
          "data": {
            "text/plain": [
              "[(0, 1), (3, 1)]"
            ]
          },
          "metadata": {},
          "execution_count": 36
        }
      ]
    },
    {
      "cell_type": "markdown",
      "source": [
        "<br>\n",
        "<br>"
      ],
      "metadata": {
        "id": "kDK5VuSLgK3O"
      }
    },
    {
      "cell_type": "markdown",
      "source": [
        "## Revision History\n"
      ],
      "metadata": {
        "id": "2n2vi3qEcpVC"
      }
    },
    {
      "cell_type": "markdown",
      "source": [
        "Release: 1.2102.0601\n",
        "*   First release\n",
        "\n",
        "Release: 1.2402.0701\n",
        "*   Change preprocessing process\n",
        "*   Add how Dictionary dan doc2bow works"
      ],
      "metadata": {
        "id": "htqCRtcVgOrR"
      }
    }
  ]
}