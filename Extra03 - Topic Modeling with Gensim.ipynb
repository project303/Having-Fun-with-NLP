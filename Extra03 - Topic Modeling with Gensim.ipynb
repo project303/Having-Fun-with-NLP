{
  "nbformat": 4,
  "nbformat_minor": 0,
  "metadata": {
    "colab": {
      "provenance": [],
      "collapsed_sections": [
        "fMS9K4N7ahpS",
        "2n2vi3qEcpVC"
      ]
    },
    "kernelspec": {
      "name": "python3",
      "display_name": "Python 3"
    },
    "language_info": {
      "name": "python"
    }
  },
  "cells": [
    {
      "cell_type": "markdown",
      "source": [
        "# Topic Modeling with Gensim\n",
        "\n",
        "*Notebook version: 1.2402.0701*\n",
        "\n",
        "We’re going to use the gensim implementations because they offer more functionality out of the box"
      ],
      "metadata": {
        "id": "EKD97tPrdytR"
      }
    },
    {
      "cell_type": "markdown",
      "source": [
        "## Library"
      ],
      "metadata": {
        "id": "pLwZeINieF7r"
      }
    },
    {
      "cell_type": "code",
      "execution_count": 1,
      "metadata": {
        "id": "xa6NCL0xP1Sf",
        "outputId": "20cb4c79-be67-4d5b-ecc0-27bd1c313dcb",
        "colab": {
          "base_uri": "https://localhost:8080/"
        }
      },
      "outputs": [
        {
          "output_type": "stream",
          "name": "stdout",
          "text": [
            "Collecting sastrawi\n",
            "  Downloading Sastrawi-1.0.1-py2.py3-none-any.whl (209 kB)\n",
            "\u001b[2K     \u001b[90m━━━━━━━━━━━━━━━━━━━━━━━━━━━━━━━━━━━━━━━━\u001b[0m \u001b[32m209.7/209.7 kB\u001b[0m \u001b[31m1.5 MB/s\u001b[0m eta \u001b[36m0:00:00\u001b[0m\n",
            "\u001b[?25hInstalling collected packages: sastrawi\n",
            "Successfully installed sastrawi-1.0.1\n"
          ]
        }
      ],
      "source": [
        "!pip install sastrawi"
      ]
    },
    {
      "cell_type": "code",
      "source": [
        "import nltk\n",
        "from bs4 import BeautifulSoup\n",
        "from Sastrawi.Stemmer.StemmerFactory import StemmerFactory\n",
        "import re\n",
        "\n",
        "from gensim import models, corpora\n",
        "from gensim.parsing.preprocessing import preprocess_string\n",
        "\n",
        "from nltk import word_tokenize\n",
        "from nltk.corpus import stopwords\n",
        "\n",
        "nltk.download('stopwords')\n",
        "nltk.download('punkt')"
      ],
      "metadata": {
        "id": "NlW34vxmQGDh",
        "outputId": "fb84cff2-7a8c-44f5-a391-18b476fc64c9",
        "colab": {
          "base_uri": "https://localhost:8080/"
        }
      },
      "execution_count": 2,
      "outputs": [
        {
          "output_type": "stream",
          "name": "stderr",
          "text": [
            "[nltk_data] Downloading package stopwords to /root/nltk_data...\n",
            "[nltk_data]   Unzipping corpora/stopwords.zip.\n",
            "[nltk_data] Downloading package punkt to /root/nltk_data...\n",
            "[nltk_data]   Unzipping tokenizers/punkt.zip.\n"
          ]
        },
        {
          "output_type": "execute_result",
          "data": {
            "text/plain": [
              "True"
            ]
          },
          "metadata": {},
          "execution_count": 2
        }
      ]
    },
    {
      "cell_type": "markdown",
      "source": [
        "<br>\n",
        "<br>"
      ],
      "metadata": {
        "id": "jiOvWtosgCRu"
      }
    },
    {
      "cell_type": "markdown",
      "source": [
        "## Helper Function"
      ],
      "metadata": {
        "id": "zo-7tpzaey9c"
      }
    },
    {
      "cell_type": "code",
      "source": [
        "def tokenize_clean(text):\n",
        "  return preprocess_string(text)"
      ],
      "metadata": {
        "id": "xMHWiPWhSAn6"
      },
      "execution_count": 3,
      "outputs": []
    },
    {
      "cell_type": "code",
      "source": [
        "stopwords = nltk.corpus.stopwords.words('indonesian')\n",
        "def remove_stopwords(tokenized_text):\n",
        "\n",
        "    cleaned_token = []\n",
        "    for token in tokenized_text:\n",
        "        if token not in stopwords:\n",
        "            cleaned_token.append(token)\n",
        "\n",
        "    return cleaned_token"
      ],
      "metadata": {
        "id": "8KCCQnP8S3GG"
      },
      "execution_count": 4,
      "outputs": []
    },
    {
      "cell_type": "code",
      "source": [
        "def stemming_text(tokenized_text):\n",
        "\n",
        "    #stem using Sastrawi StemmerFactory\n",
        "    factory = StemmerFactory()\n",
        "    stemmer = factory.create_stemmer()\n",
        "\n",
        "    stems = []\n",
        "    for token in tokenized_text:\n",
        "        stems.append(stemmer.stem(token))\n",
        "\n",
        "    return stems"
      ],
      "metadata": {
        "id": "spe5ilAbTMKs"
      },
      "execution_count": 5,
      "outputs": []
    },
    {
      "cell_type": "code",
      "source": [
        "def text_preprocessing(text):\n",
        "\n",
        "    prep01 = tokenize_clean(text)\n",
        "    prep02 = remove_stopwords(prep01)\n",
        "    prep03 = stemming_text(prep02)\n",
        "\n",
        "    return prep03"
      ],
      "metadata": {
        "id": "5pf3ijLmTOB0"
      },
      "execution_count": 6,
      "outputs": []
    },
    {
      "cell_type": "markdown",
      "source": [
        "<br>\n",
        "<br>"
      ],
      "metadata": {
        "id": "BF943Gr3gBFc"
      }
    },
    {
      "cell_type": "markdown",
      "source": [
        "## Read Dataset"
      ],
      "metadata": {
        "id": "fn0smxjDe_9Y"
      }
    },
    {
      "cell_type": "code",
      "source": [
        "!mkdir -p dataset\n",
        "!wget https://raw.githubusercontent.com/project303/dataset/master/Berita.txt -P dataset\n",
        "!wget https://raw.githubusercontent.com/project303/dataset/master/Judul-Berita.txt -P dataset"
      ],
      "metadata": {
        "id": "4t6hG804QViy",
        "outputId": "3f827446-e262-4ba1-a8e4-4592992f4b68",
        "colab": {
          "base_uri": "https://localhost:8080/"
        }
      },
      "execution_count": 7,
      "outputs": [
        {
          "output_type": "stream",
          "name": "stdout",
          "text": [
            "--2024-07-07 19:27:27--  https://raw.githubusercontent.com/project303/dataset/master/Berita.txt\n",
            "Resolving raw.githubusercontent.com (raw.githubusercontent.com)... 185.199.108.133, 185.199.109.133, 185.199.110.133, ...\n",
            "Connecting to raw.githubusercontent.com (raw.githubusercontent.com)|185.199.108.133|:443... connected.\n",
            "HTTP request sent, awaiting response... 200 OK\n",
            "Length: 76212 (74K) [text/plain]\n",
            "Saving to: ‘dataset/Berita.txt’\n",
            "\n",
            "\rBerita.txt            0%[                    ]       0  --.-KB/s               \rBerita.txt          100%[===================>]  74.43K  --.-KB/s    in 0.003s  \n",
            "\n",
            "2024-07-07 19:27:27 (27.7 MB/s) - ‘dataset/Berita.txt’ saved [76212/76212]\n",
            "\n",
            "--2024-07-07 19:27:27--  https://raw.githubusercontent.com/project303/dataset/master/Judul-Berita.txt\n",
            "Resolving raw.githubusercontent.com (raw.githubusercontent.com)... 185.199.108.133, 185.199.109.133, 185.199.110.133, ...\n",
            "Connecting to raw.githubusercontent.com (raw.githubusercontent.com)|185.199.108.133|:443... connected.\n",
            "HTTP request sent, awaiting response... 200 OK\n",
            "Length: 1751 (1.7K) [text/plain]\n",
            "Saving to: ‘dataset/Judul-Berita.txt’\n",
            "\n",
            "Judul-Berita.txt    100%[===================>]   1.71K  --.-KB/s    in 0s      \n",
            "\n",
            "2024-07-07 19:27:27 (22.3 MB/s) - ‘dataset/Judul-Berita.txt’ saved [1751/1751]\n",
            "\n"
          ]
        }
      ]
    },
    {
      "cell_type": "code",
      "source": [
        "# read article title\n",
        "article_titles = open('dataset/Judul-Berita.txt').read().split('\\n')\n",
        "len(article_titles)"
      ],
      "metadata": {
        "id": "wTTgRko1ZNRW",
        "outputId": "f8f1cd56-e679-421d-a0f5-6130a86f053e",
        "colab": {
          "base_uri": "https://localhost:8080/"
        }
      },
      "execution_count": 8,
      "outputs": [
        {
          "output_type": "execute_result",
          "data": {
            "text/plain": [
              "31"
            ]
          },
          "metadata": {},
          "execution_count": 8
        }
      ]
    },
    {
      "cell_type": "code",
      "source": [
        "# read article content\n",
        "article = open('dataset/Berita.txt', encoding=\"utf8\").read().split('BERHENTI DISINI')\n",
        "len(article)"
      ],
      "metadata": {
        "id": "4bkN_7l2QbZn",
        "outputId": "8dd46e73-be47-4c8a-86c5-56e70cd1b048",
        "colab": {
          "base_uri": "https://localhost:8080/"
        }
      },
      "execution_count": 9,
      "outputs": [
        {
          "output_type": "execute_result",
          "data": {
            "text/plain": [
              "31"
            ]
          },
          "metadata": {},
          "execution_count": 9
        }
      ]
    },
    {
      "cell_type": "code",
      "source": [
        "article[0]"
      ],
      "metadata": {
        "id": "Asr6bNjDQfsw"
      },
      "execution_count": null,
      "outputs": []
    },
    {
      "cell_type": "markdown",
      "source": [
        "## Preprocessing"
      ],
      "metadata": {
        "id": "IZftfrgwfNOE"
      }
    },
    {
      "cell_type": "code",
      "source": [
        "# remove HTML tag\n",
        "article_clean = []\n",
        "for text in article:\n",
        "    text = BeautifulSoup(text, 'html.parser').getText()\n",
        "    article_clean.append(text)\n",
        "article = article_clean"
      ],
      "metadata": {
        "id": "yRQKqOomQnbG"
      },
      "execution_count": 10,
      "outputs": []
    },
    {
      "cell_type": "code",
      "source": [
        "article[0]"
      ],
      "metadata": {
        "id": "JFAUKRfaRMkb"
      },
      "execution_count": null,
      "outputs": []
    },
    {
      "cell_type": "code",
      "source": [
        "print(article[0])"
      ],
      "metadata": {
        "id": "aY-0D1VzQsrs"
      },
      "execution_count": null,
      "outputs": []
    },
    {
      "cell_type": "code",
      "source": [
        "# proses ini memerlukan waktu sekitar 3 menit\n",
        "tokenized_data = []\n",
        "for text in article:\n",
        "    tokenized_data.append(text_preprocessing(text))"
      ],
      "metadata": {
        "id": "lRFmaXS9RnOu"
      },
      "execution_count": 11,
      "outputs": []
    },
    {
      "cell_type": "code",
      "source": [
        "len(tokenized_data)"
      ],
      "metadata": {
        "id": "xhtnyUk4Rs5D",
        "outputId": "c505870a-d039-481b-a1f2-850c28669df6",
        "colab": {
          "base_uri": "https://localhost:8080/"
        }
      },
      "execution_count": 12,
      "outputs": [
        {
          "output_type": "execute_result",
          "data": {
            "text/plain": [
              "31"
            ]
          },
          "metadata": {},
          "execution_count": 12
        }
      ]
    },
    {
      "cell_type": "code",
      "source": [
        "print(tokenized_data[0])"
      ],
      "metadata": {
        "id": "T4gdofb_Rwzr"
      },
      "execution_count": null,
      "outputs": []
    },
    {
      "cell_type": "code",
      "source": [
        "len(tokenized_data[0])"
      ],
      "metadata": {
        "id": "wZ0Ldru5R-OX"
      },
      "execution_count": null,
      "outputs": []
    },
    {
      "cell_type": "markdown",
      "source": [
        "<br>\n",
        "<br>"
      ],
      "metadata": {
        "id": "CIY2zagDf_ZX"
      }
    },
    {
      "cell_type": "markdown",
      "source": [
        "## Create The Model"
      ],
      "metadata": {
        "id": "-PyJN4S6fXXx"
      }
    },
    {
      "cell_type": "code",
      "source": [
        "# Build a Dictionary - association word to numeric id\n",
        "dictionary = corpora.Dictionary(tokenized_data)\n",
        "\n",
        "# Transform the collection of texts to a numerical form\n",
        "corpus = [dictionary.doc2bow(text) for text in tokenized_data]"
      ],
      "metadata": {
        "id": "fWkjcMENX68U"
      },
      "execution_count": 13,
      "outputs": []
    },
    {
      "cell_type": "code",
      "source": [
        "NUM_TOPICS = 3\n",
        "\n",
        "# Build the LDA model\n",
        "lda_model = models.LdaModel(corpus=corpus, num_topics=NUM_TOPICS, id2word=dictionary, alpha = 'auto', eval_every=5)#, per_word_topics=True)\n",
        "\n",
        "# Build the LSI model\n",
        "lsi_model = models.LsiModel(corpus=corpus, num_topics=NUM_TOPICS, id2word=dictionary)"
      ],
      "metadata": {
        "id": "-0-_HUgAYCQS",
        "outputId": "66ff6b18-e313-43da-b99c-70274237a1bc",
        "colab": {
          "base_uri": "https://localhost:8080/"
        }
      },
      "execution_count": 14,
      "outputs": [
        {
          "output_type": "stream",
          "name": "stderr",
          "text": [
            "WARNING:gensim.models.ldamodel:too few updates, training might not converge; consider increasing the number of passes or iterations to improve accuracy\n"
          ]
        }
      ]
    },
    {
      "cell_type": "code",
      "source": [
        "print(\"LDA Model:\")\n",
        "\n",
        "for idx in range(NUM_TOPICS):\n",
        "    # Print the first 10 most representative topics\n",
        "    print(\"Topic #%s:\" % idx, lda_model.print_topic(idx, 10))\n",
        "\n",
        "print(\"=\" * 20)\n",
        "\n",
        "print(\"LSI Model:\")\n",
        "\n",
        "for idx in range(NUM_TOPICS):\n",
        "    # Print the first 10 most representative topics\n",
        "    print(\"Topic #%s:\" % idx, lsi_model.print_topic(idx, 10))\n",
        "\n",
        "print(\"=\" * 20)"
      ],
      "metadata": {
        "id": "Pow8aM2gYOvw",
        "outputId": "235c4822-5573-45c7-a0b3-08feceaf193d",
        "colab": {
          "base_uri": "https://localhost:8080/"
        }
      },
      "execution_count": 15,
      "outputs": [
        {
          "output_type": "stream",
          "name": "stdout",
          "text": [
            "LDA Model:\n",
            "Topic #0: 0.020*\"persen\" + 0.009*\"main\" + 0.007*\"dunia\" + 0.006*\"jakarta\" + 0.005*\"cnn\" + 0.005*\"belanja\" + 0.005*\"indonesia\" + 0.005*\"menteri\" + 0.005*\"dolar\" + 0.005*\"balap\"\n",
            "Topic #1: 0.019*\"persen\" + 0.006*\"indonesia\" + 0.006*\"jakarta\" + 0.005*\"lapor\" + 0.005*\"lemah\" + 0.005*\"uang\" + 0.005*\"duga\" + 0.005*\"dolar\" + 0.004*\"diskon\" + 0.004*\"polisi\"\n",
            "Topic #2: 0.011*\"persen\" + 0.009*\"indonesia\" + 0.007*\"duga\" + 0.007*\"oknum\" + 0.006*\"novel\" + 0.005*\"jakarta\" + 0.005*\"cnn\" + 0.004*\"polisi\" + 0.004*\"kasu\" + 0.004*\"dunia\"\n",
            "====================\n",
            "LSI Model:\n",
            "Topic #0: -0.744*\"persen\" + -0.218*\"lemah\" + -0.172*\"dolar\" + -0.164*\"mu\" + -0.135*\"indek\" + -0.129*\"bunga\" + -0.116*\"kuat\" + -0.112*\"uang\" + -0.104*\"dagang\" + -0.101*\"indonesia\"\n",
            "Topic #1: 0.401*\"novel\" + 0.324*\"oknum\" + 0.315*\"duga\" + 0.282*\"jender\" + 0.178*\"polisi\" + 0.171*\"kpk\" + 0.147*\"teror\" + 0.145*\"kera\" + 0.143*\"kasu\" + 0.137*\"air\"\n",
            "Topic #2: -0.442*\"main\" + -0.262*\"dunia\" + -0.251*\"argentina\" + -0.250*\"tanding\" + -0.238*\"lawan\" + -0.202*\"piala\" + -0.197*\"kroasia\" + -0.195*\"timna\" + -0.161*\"messi\" + 0.156*\"novel\"\n",
            "====================\n"
          ]
        }
      ]
    },
    {
      "cell_type": "code",
      "source": [],
      "metadata": {
        "id": "NFQqoZ-EYRQ7"
      },
      "execution_count": null,
      "outputs": []
    },
    {
      "cell_type": "markdown",
      "source": [
        "<br>\n",
        "<br>"
      ],
      "metadata": {
        "id": "F6WuayWQf9xJ"
      }
    },
    {
      "cell_type": "markdown",
      "source": [
        "## Test The Model"
      ],
      "metadata": {
        "id": "poLi6xrefdOq"
      }
    },
    {
      "cell_type": "code",
      "source": [
        "print(\"article[0]\")\n",
        "print(\"LDA Model:\")\n",
        "print(lda_model[corpus[0]])\n",
        "\n",
        "print(\"\")\n",
        "print(\"LSA Model:\")\n",
        "print(lsi_model[corpus[0]])"
      ],
      "metadata": {
        "id": "pshlWvocYWXB",
        "outputId": "a230399d-f2df-4c89-a501-453d6445e19b",
        "colab": {
          "base_uri": "https://localhost:8080/"
        }
      },
      "execution_count": 16,
      "outputs": [
        {
          "output_type": "stream",
          "name": "stdout",
          "text": [
            "article[0]\n",
            "LDA Model:\n",
            "[(0, 0.075148284), (2, 0.91709095)]\n",
            "\n",
            "LSA Model:\n",
            "[(0, -1.6138115051806652), (1, 1.843478527288506), (2, -0.29634072900010583)]\n"
          ]
        }
      ]
    },
    {
      "cell_type": "code",
      "source": [
        "print(tokenized_data[0])"
      ],
      "metadata": {
        "id": "69ktXWTuYrTm"
      },
      "execution_count": null,
      "outputs": []
    },
    {
      "cell_type": "code",
      "source": [
        "article_titles[0]"
      ],
      "metadata": {
        "id": "u4vP1NzIZQ-t"
      },
      "execution_count": null,
      "outputs": []
    },
    {
      "cell_type": "code",
      "source": [
        "text = \"Pertandingan berjalan dengan seru. Tim lawan berhasil dikalahkan dengan skor 1-0.\"\n",
        "bow = dictionary.doc2bow(text_preprocessing(text))\n",
        "\n",
        "print(\"LDA Model:\")\n",
        "print(lda_model[bow])\n",
        "print(\"\")\n",
        "print(\"LSA Model:\")\n",
        "print(lsi_model[bow])\n",
        "\n",
        "#print(bow)"
      ],
      "metadata": {
        "id": "tSJQyKo_ZRzA",
        "outputId": "d0488286-2e2a-49ae-d490-d6f0ddce19a1",
        "colab": {
          "base_uri": "https://localhost:8080/"
        }
      },
      "execution_count": 17,
      "outputs": [
        {
          "output_type": "stream",
          "name": "stdout",
          "text": [
            "LDA Model:\n",
            "[(0, 0.8225948), (1, 0.07296258), (2, 0.1044426)]\n",
            "\n",
            "LSA Model:\n",
            "[(0, -0.1259820147827382), (1, 0.277101767140785), (2, -0.7973742999991429)]\n"
          ]
        }
      ]
    },
    {
      "cell_type": "code",
      "source": [
        "len(dictionary)"
      ],
      "metadata": {
        "id": "K-_lHXsCaeS4"
      },
      "execution_count": null,
      "outputs": []
    },
    {
      "cell_type": "code",
      "source": [],
      "metadata": {
        "id": "0BV-KyEaag1U"
      },
      "execution_count": null,
      "outputs": []
    },
    {
      "cell_type": "code",
      "source": [
        "from gensim import similarities\n",
        "\n",
        "lda_index = similarities.MatrixSimilarity(lda_model[corpus])\n",
        "\n",
        "# Let's perform some queries\n",
        "similarities = lda_index[lda_model[bow]]\n",
        "# Sort the similarities\n",
        "similarities = sorted(enumerate(similarities), key=lambda item: -item[1])\n",
        "\n",
        "# Top most similar documents:\n",
        "print(similarities[:10])\n",
        "\n",
        "# Let's see what's the most similar document\n",
        "document_id, similarity = similarities[0]\n",
        "print(article[document_id][:1000])"
      ],
      "metadata": {
        "id": "lwDkDmPSc9dX"
      },
      "execution_count": null,
      "outputs": []
    },
    {
      "cell_type": "markdown",
      "source": [
        "<br>\n",
        "<br>"
      ],
      "metadata": {
        "id": "TbIt-VAxf79c"
      }
    },
    {
      "cell_type": "markdown",
      "source": [
        "## Visualization"
      ],
      "metadata": {
        "id": "WyhHd4VFfi0l"
      }
    },
    {
      "cell_type": "code",
      "source": [
        "!pip install pyLDAvis"
      ],
      "metadata": {
        "id": "8sctNJ6jdY75",
        "outputId": "20b6c15e-cd9c-4424-ce89-6ef959675f74",
        "colab": {
          "base_uri": "https://localhost:8080/"
        }
      },
      "execution_count": 18,
      "outputs": [
        {
          "output_type": "stream",
          "name": "stdout",
          "text": [
            "Collecting pyLDAvis\n",
            "  Downloading pyLDAvis-3.4.1-py3-none-any.whl (2.6 MB)\n",
            "\u001b[?25l     \u001b[90m━━━━━━━━━━━━━━━━━━━━━━━━━━━━━━━━━━━━━━━━\u001b[0m \u001b[32m0.0/2.6 MB\u001b[0m \u001b[31m?\u001b[0m eta \u001b[36m-:--:--\u001b[0m\r\u001b[2K     \u001b[91m━\u001b[0m\u001b[90m╺\u001b[0m\u001b[90m━━━━━━━━━━━━━━━━━━━━━━━━━━━━━━━━━━━━━━\u001b[0m \u001b[32m0.1/2.6 MB\u001b[0m \u001b[31m1.9 MB/s\u001b[0m eta \u001b[36m0:00:02\u001b[0m\r\u001b[2K     \u001b[91m━━━━━━━━━━━━━━━━━━━\u001b[0m\u001b[91m╸\u001b[0m\u001b[90m━━━━━━━━━━━━━━━━━━━━\u001b[0m \u001b[32m1.3/2.6 MB\u001b[0m \u001b[31m18.1 MB/s\u001b[0m eta \u001b[36m0:00:01\u001b[0m\r\u001b[2K     \u001b[91m━━━━━━━━━━━━━━━━━━━━━━━━━━━━━━━━━━━━━━━\u001b[0m\u001b[91m╸\u001b[0m \u001b[32m2.6/2.6 MB\u001b[0m \u001b[31m24.5 MB/s\u001b[0m eta \u001b[36m0:00:01\u001b[0m\r\u001b[2K     \u001b[90m━━━━━━━━━━━━━━━━━━━━━━━━━━━━━━━━━━━━━━━━\u001b[0m \u001b[32m2.6/2.6 MB\u001b[0m \u001b[31m20.1 MB/s\u001b[0m eta \u001b[36m0:00:00\u001b[0m\n",
            "\u001b[?25hRequirement already satisfied: numpy>=1.24.2 in /usr/local/lib/python3.10/dist-packages (from pyLDAvis) (1.25.2)\n",
            "Requirement already satisfied: scipy in /usr/local/lib/python3.10/dist-packages (from pyLDAvis) (1.11.4)\n",
            "Requirement already satisfied: pandas>=2.0.0 in /usr/local/lib/python3.10/dist-packages (from pyLDAvis) (2.0.3)\n",
            "Requirement already satisfied: joblib>=1.2.0 in /usr/local/lib/python3.10/dist-packages (from pyLDAvis) (1.4.2)\n",
            "Requirement already satisfied: jinja2 in /usr/local/lib/python3.10/dist-packages (from pyLDAvis) (3.1.4)\n",
            "Requirement already satisfied: numexpr in /usr/local/lib/python3.10/dist-packages (from pyLDAvis) (2.10.1)\n",
            "Collecting funcy (from pyLDAvis)\n",
            "  Downloading funcy-2.0-py2.py3-none-any.whl (30 kB)\n",
            "Requirement already satisfied: scikit-learn>=1.0.0 in /usr/local/lib/python3.10/dist-packages (from pyLDAvis) (1.2.2)\n",
            "Requirement already satisfied: gensim in /usr/local/lib/python3.10/dist-packages (from pyLDAvis) (4.3.2)\n",
            "Requirement already satisfied: setuptools in /usr/local/lib/python3.10/dist-packages (from pyLDAvis) (67.7.2)\n",
            "Requirement already satisfied: python-dateutil>=2.8.2 in /usr/local/lib/python3.10/dist-packages (from pandas>=2.0.0->pyLDAvis) (2.8.2)\n",
            "Requirement already satisfied: pytz>=2020.1 in /usr/local/lib/python3.10/dist-packages (from pandas>=2.0.0->pyLDAvis) (2023.4)\n",
            "Requirement already satisfied: tzdata>=2022.1 in /usr/local/lib/python3.10/dist-packages (from pandas>=2.0.0->pyLDAvis) (2024.1)\n",
            "Requirement already satisfied: threadpoolctl>=2.0.0 in /usr/local/lib/python3.10/dist-packages (from scikit-learn>=1.0.0->pyLDAvis) (3.5.0)\n",
            "Requirement already satisfied: smart-open>=1.8.1 in /usr/local/lib/python3.10/dist-packages (from gensim->pyLDAvis) (7.0.4)\n",
            "Requirement already satisfied: MarkupSafe>=2.0 in /usr/local/lib/python3.10/dist-packages (from jinja2->pyLDAvis) (2.1.5)\n",
            "Requirement already satisfied: six>=1.5 in /usr/local/lib/python3.10/dist-packages (from python-dateutil>=2.8.2->pandas>=2.0.0->pyLDAvis) (1.16.0)\n",
            "Requirement already satisfied: wrapt in /usr/local/lib/python3.10/dist-packages (from smart-open>=1.8.1->gensim->pyLDAvis) (1.14.1)\n",
            "Installing collected packages: funcy, pyLDAvis\n",
            "Successfully installed funcy-2.0 pyLDAvis-3.4.1\n"
          ]
        }
      ]
    },
    {
      "cell_type": "code",
      "source": [
        "import pyLDAvis.gensim\n",
        "\n",
        "pyLDAvis.enable_notebook()\n",
        "panel = pyLDAvis.gensim.prepare(lda_model, corpus, dictionary)\n",
        "panel"
      ],
      "metadata": {
        "id": "2bvsdXTSdF-J",
        "outputId": "b36bcd96-3453-4e98-c89d-719f905b09bf",
        "colab": {
          "base_uri": "https://localhost:8080/",
          "height": 881
        }
      },
      "execution_count": 19,
      "outputs": [
        {
          "output_type": "execute_result",
          "data": {
            "text/plain": [
              "PreparedData(topic_coordinates=              x         y  topics  cluster       Freq\n",
              "topic                                                \n",
              "0     -0.029954  0.003180       1        1  43.179253\n",
              "1      0.009281 -0.014132       2        1  29.109015\n",
              "2      0.020672  0.010952       3        1  27.711732, topic_info=           Term       Freq      Total Category  logprob  loglift\n",
              "754       oknum  18.000000  18.000000  Default  30.0000  30.0000\n",
              "749       novel  17.000000  17.000000  Default  29.0000  29.0000\n",
              "219        duga  26.000000  26.000000  Default  28.0000  28.0000\n",
              "352       teror  13.000000  13.000000  Default  27.0000  27.0000\n",
              "22    indonesia  37.000000  37.000000  Default  26.0000  26.0000\n",
              "...         ...        ...        ...      ...      ...      ...\n",
              "1361     diskon   4.991902  20.957415   Topic3  -5.7904  -0.1514\n",
              "243        laku   4.922149  20.226102   Topic3  -5.8045  -0.1299\n",
              "411       lawan   4.651735  17.919935   Topic3  -5.8610  -0.0654\n",
              "128       lemah   4.585079  23.491945   Topic3  -5.8754  -0.3505\n",
              "40        lapor   4.431357  21.007148   Topic3  -5.9095  -0.2728\n",
              "\n",
              "[224 rows x 6 columns], token_table=      Topic      Freq   Term\n",
              "term                        \n",
              "72        1  0.629314    acu\n",
              "72        2  0.179804    acu\n",
              "72        3  0.179804    acu\n",
              "1120      1  0.132962   adil\n",
              "1120      2  0.398887   adil\n",
              "...     ...       ...    ...\n",
              "1159      2  0.439777  vicki\n",
              "1159      3  0.439777  vicki\n",
              "1214      1  0.403390   voni\n",
              "1214      2  0.134463   voni\n",
              "1214      3  0.537854   voni\n",
              "\n",
              "[413 rows x 3 columns], R=30, lambda_step=0.01, plot_opts={'xlab': 'PC1', 'ylab': 'PC2'}, topic_order=[1, 2, 3])"
            ],
            "text/html": [
              "\n",
              "<link rel=\"stylesheet\" type=\"text/css\" href=\"https://cdn.jsdelivr.net/gh/bmabey/pyLDAvis@3.4.0/pyLDAvis/js/ldavis.v1.0.0.css\">\n",
              "\n",
              "\n",
              "<div id=\"ldavis_el2301375500164894883716018299\" style=\"background-color:white;\"></div>\n",
              "<script type=\"text/javascript\">\n",
              "\n",
              "var ldavis_el2301375500164894883716018299_data = {\"mdsDat\": {\"x\": [-0.029953676240020793, 0.009281212020848395, 0.0206724642191724], \"y\": [0.003179815609241133, -0.014132054041561976, 0.010952238432320842], \"topics\": [1, 2, 3], \"cluster\": [1, 1, 1], \"Freq\": [43.17925260429908, 29.10901517658794, 27.71173221911298]}, \"tinfo\": {\"Term\": [\"oknum\", \"novel\", \"duga\", \"teror\", \"indonesia\", \"main\", \"aman\", \"belanja\", \"jender\", \"pasal\", \"balap\", \"spanyol\", \"lapor\", \"kasu\", \"serap\", \"orang\", \"indek\", \"persen\", \"mudik\", \"habiburokhman\", \"menteri\", \"pagu\", \"kera\", \"informasi\", \"kerja\", \"argentina\", \"kpk\", \"aksi\", \"air\", \"makan\", \"darmin\", \"serap\", \"basi\", \"finish\", \"belanja\", \"mickelson\", \"urut\", \"argentina\", \"main\", \"stenson\", \"realisasi\", \"sempurna\", \"angka\", \"tkdd\", \"rekor\", \"modal\", \"fomc\", \"enam\", \"menteri\", \"banding\", \"pagu\", \"balap\", \"hamilton\", \"juara\", \"kroasia\", \"rakit\", \"bagu\", \"dalic\", \"leo\", \"messi\", \"naik\", \"apbn\", \"anggar\", \"tanding\", \"klasemen\", \"menang\", \"golf\", \"baik\", \"poin\", \"persen\", \"dunia\", \"capai\", \"rupiah\", \"acu\", \"catat\", \"lawan\", \"rusia\", \"triliun\", \"vettel\", \"dolar\", \"bunga\", \"jakarta\", \"cnn\", \"piala\", \"hasil\", \"uang\", \"posisi\", \"indonesia\", \"laku\", \"lemah\", \"ayat\", \"danick\", \"undang\", \"adu\", \"tipu\", \"sanksi\", \"kiki\", \"cuci\", \"haiyani\", \"timbang\", \"mudik\", \"mahasiswa\", \"agenda\", \"masuk\", \"travel\", \"banyak\", \"anniesa\", \"tanda\", \"posko\", \"thr\", \"surachman\", \"umrah\", \"vicki\", \"kuhp\", \"persis\", \"ajar\", \"habiburokhman\", \"setor\", \"menak\", \"istirahat\", \"pasal\", \"bayar\", \"sopir\", \"euro\", \"lapor\", \"barat\", \"berita\", \"fela\", \"kerja\", \"sidi\", \"anggota\", \"persen\", \"adil\", \"lemah\", \"direktur\", \"rita\", \"diskon\", \"korban\", \"uang\", \"dolar\", \"jakarta\", \"indonesia\", \"duga\", \"kasu\", \"mu\", \"rumah\", \"polisi\", \"jender\", \"com\", \"laku\", \"indek\", \"cnn\", \"dunia\", \"orang\", \"kuat\", \"triliun\", \"novel\", \"oknum\", \"hasil\", \"bunga\", \"spanyol\", \"oknum\", \"mohammadi\", \"bek\", \"novel\", \"iran\", \"portug\", \"informasi\", \"lempar\", \"oleh\", \"aman\", \"kera\", \"salto\", \"baswedan\", \"teror\", \"makan\", \"siram\", \"aksi\", \"milad\", \"asrudin\", \"libat\", \"gedung\", \"voni\", \"time\", \"forum\", \"tempat\", \"pimpin\", \"bap\", \"bahan\", \"asuh\", \"duga\", \"air\", \"kasus\", \"jender\", \"kpk\", \"indonesia\", \"orang\", \"indek\", \"ungkap\", \"serang\", \"kasu\", \"kait\", \"tni\", \"polri\", \"polisi\", \"kuat\", \"cnn\", \"ata\", \"persen\", \"jakarta\", \"rumah\", \"dunia\", \"poin\", \"selatan\", \"saham\", \"uang\", \"hasil\", \"posisi\", \"terima\", \"diskon\", \"laku\", \"lawan\", \"lemah\", \"lapor\"], \"Freq\": [18.0, 17.0, 26.0, 13.0, 37.0, 28.0, 12.0, 17.0, 14.0, 12.0, 16.0, 5.0, 21.0, 18.0, 9.0, 14.0, 17.0, 99.0, 8.0, 6.0, 17.0, 10.0, 8.0, 5.0, 15.0, 12.0, 11.0, 8.0, 7.0, 5.0, 3.3134993548915803, 7.762239540056556, 2.536727206906104, 2.5034824679202257, 13.180635521659498, 4.311956811582408, 3.0498037133081737, 9.203901431934657, 21.650513923629756, 5.40007742777603, 4.799048461230002, 2.3677320309028973, 5.9047612875574, 2.9559353437451126, 2.326347917668925, 3.5212600151535023, 1.7353318003657874, 4.0598254976647326, 12.816253892202448, 5.800055230246741, 7.593993220846273, 11.832456314398105, 6.212954959545356, 8.514361324899948, 6.879719511445265, 2.8498559873474294, 1.67826049995504, 2.8005096424136906, 2.236342470181864, 5.628805782014834, 10.858867834897296, 3.928630112429365, 3.928263682107827, 10.584569411989072, 5.322916148055108, 10.029128583837293, 9.576850480760756, 10.61736033427924, 11.735490023814314, 49.68162423457086, 16.640903698564298, 8.948957757893554, 7.980546698893827, 7.1141247215304295, 9.57979317988295, 10.509936116394265, 8.723798914871024, 9.776115704327948, 7.770968105824082, 12.504141755951519, 9.615707498543605, 16.362970002490425, 13.325873452887183, 9.778027540459885, 10.102488111944139, 11.74592899271568, 9.267474871033967, 13.000463184061902, 9.664276549084688, 10.208113651646109, 2.9588577636347626, 3.306417459708688, 1.2232801266683488, 3.382280799376599, 1.9705125548434663, 3.699695456852798, 0.7858229522126564, 2.322695463364816, 1.1941167044494105, 1.5803056160822644, 4.224812591489439, 1.1576481232939593, 0.7681593490942901, 3.1167992498720687, 2.267729139814384, 1.1474327628544312, 0.7624230190198982, 1.1286424626332026, 1.1669965939561875, 5.040043246713497, 0.7537159788954922, 1.4849247752891772, 1.1158229381437144, 2.2285128116212096, 0.7601323811045523, 1.5073418939140983, 3.2947622754280332, 0.743348648144855, 1.539181171827791, 0.7557540485441162, 6.219169907210283, 4.15601337506092, 1.8411742375953786, 4.3329411652781324, 9.332920564744121, 2.14824632689463, 2.1578162628328377, 3.190762261707502, 6.336373964256099, 3.0390611437380697, 4.849687351818747, 31.884692473838747, 3.2870637110869407, 8.698751851354336, 3.0381007952149104, 4.324067377177673, 7.5395127327008415, 4.70194544986515, 8.67127577886433, 7.947750120127726, 10.449133513423442, 10.51707882045603, 8.05197259761511, 6.130694030211182, 5.78122022713071, 4.96366188997986, 6.361602234089278, 4.952755174458781, 4.239356210172043, 5.639675758337381, 5.207320822326186, 6.140666158273666, 5.899976737788304, 4.497595505665158, 4.40927459444979, 4.615036005350071, 4.630764633002612, 4.595511115392423, 4.656721002381527, 4.434494876355973, 3.482353866815808, 10.634318051136443, 2.547573310570034, 1.2397619685767964, 9.725829077898654, 2.847898301898023, 2.0158715523696658, 3.1859822611391517, 2.7693615725753493, 1.178894563250916, 6.587007789355817, 4.2495357761587345, 1.5429890244379707, 1.533465062702843, 6.8303637234932175, 2.646640269105855, 1.885988907996106, 4.113135511189617, 0.7466522029386533, 1.8529401628719737, 3.292282993372169, 1.8323553714235812, 3.6596290405889214, 1.453013332001671, 1.7951087562072596, 1.4392135541240036, 1.7920452863161525, 1.064702648925304, 0.7116722968889987, 0.7049040607303307, 12.230529969540212, 3.442933697468605, 2.762083882932711, 6.58472644154067, 4.926250457667355, 14.296748967067002, 5.899900427875292, 6.905314364162797, 3.030966388110749, 3.5805118983596107, 7.132735844260665, 5.717349637279651, 4.004558564174036, 4.936353786691371, 7.196241723390923, 5.030555961123708, 7.601514797809864, 4.284036599167208, 17.657390266372246, 8.906517990754974, 4.855453771144523, 7.131060574515075, 5.662904891446523, 4.392941680043534, 4.357142770128241, 6.060117583809913, 5.399655604361038, 4.871181382982149, 4.546469924184143, 4.991901944417759, 4.922149354744992, 4.651734734396765, 4.58507907438306, 4.4313572959028], \"Total\": [18.0, 17.0, 26.0, 13.0, 37.0, 28.0, 12.0, 17.0, 14.0, 12.0, 16.0, 5.0, 21.0, 18.0, 9.0, 14.0, 17.0, 99.0, 8.0, 6.0, 17.0, 10.0, 8.0, 5.0, 15.0, 12.0, 11.0, 8.0, 7.0, 5.0, 4.047652151470571, 9.789819161535132, 3.2265157247076317, 3.213125129476499, 17.094345597949825, 5.629583616228741, 4.0101158944296715, 12.168291161313437, 28.94080810894916, 7.235954634257998, 6.502480429364487, 3.2174964698762043, 8.042939056678925, 4.0443350160204785, 3.2110565932747916, 4.863254605854614, 2.3999352348421708, 5.624221814268612, 17.772019945431502, 8.080251967599, 10.583043710614009, 16.55910119646055, 8.698121401687308, 11.949492015877945, 9.664372355011025, 4.033996044618387, 2.3980138058760505, 4.010310782467681, 3.204331976040804, 8.066032822176036, 15.937140532536537, 5.672456671928706, 5.673436283612513, 15.872680300924799, 7.861037581747684, 15.670936443026276, 14.910150850079182, 16.690700989553115, 19.38443959475273, 99.22370697478185, 29.671941010867677, 14.411593621105482, 12.694534418152008, 11.123222508857175, 15.962093478677062, 17.919934793197747, 14.328168238485596, 16.708270868454584, 12.415436816988654, 23.80340588300072, 16.65137215014014, 35.71862150666884, 27.06805440897071, 17.246447193985976, 20.158864718686704, 26.477322355389923, 17.830380159122715, 37.81429097158493, 20.22610166216706, 23.491944577383506, 5.365736261721949, 6.127920593477983, 2.2834306378785003, 6.34340536011204, 3.7659728427887087, 7.110384480141642, 1.5328322004449169, 4.547875421309439, 2.3557747109220046, 3.1319980979239013, 8.374270167879633, 2.301093101458936, 1.531776743674013, 6.225429344256784, 4.540249620809735, 2.303591487729231, 1.5311078152595066, 2.2726981793728225, 2.361460284887298, 10.202932068595118, 1.5260933480882708, 3.010542696533835, 2.2738772835878063, 4.543197467601941, 1.5582345675771825, 3.0930421897923392, 6.763376406548253, 1.5268793689183704, 3.169080556589337, 1.5575026923552697, 12.89979152074753, 8.67897860590313, 3.826619869722494, 9.345107557319178, 21.007148482910864, 4.572203130727427, 4.603783351150457, 7.01617477297476, 15.161531341998328, 6.801047129335236, 11.565588354003253, 99.22370697478185, 7.520922861084186, 23.491944577383506, 6.942480058463706, 10.61709668857966, 20.957415047603448, 12.285061093305927, 26.477322355389923, 23.80340588300072, 35.71862150666884, 37.81429097158493, 26.769249997313683, 18.874374474055447, 17.854027800372123, 14.4592631093558, 21.337265732274407, 14.89813139992052, 11.562537404996373, 20.22610166216706, 17.305827891319815, 27.06805440897071, 29.671941010867677, 14.242716196157932, 13.61199464382677, 16.708270868454584, 17.52294092863325, 18.148470079351362, 20.158864718686704, 16.65137215014014, 5.834079799595907, 18.148470079351362, 4.387837249174508, 2.197257846370702, 17.52294092863325, 5.148776199759583, 3.6801404367411483, 5.8455877215473775, 5.166279637408042, 2.2108274411520594, 12.559255226508348, 8.105593779207803, 2.957643698932985, 2.9409450653994105, 13.233840059763093, 5.134369440177652, 3.683033417191018, 8.149662232147126, 1.4795692435465713, 3.6998868466256587, 6.643722358379735, 3.7045904059820094, 7.436968877380789, 2.9633241177272445, 3.699213788637312, 2.970381148650638, 3.709933277832019, 2.224228459693819, 1.4872419667010637, 1.48842255355291, 26.769249997313683, 7.414144492686681, 5.939389296812401, 14.89813139992052, 11.1922795588845, 37.81429097158493, 14.242716196157932, 17.305827891319815, 6.728069972326194, 8.2227801124683, 18.874374474055447, 15.138308539882193, 9.746237023344207, 12.81366802769988, 21.337265732274407, 13.61199464382677, 27.06805440897071, 11.362567572072582, 99.22370697478185, 35.71862150666884, 14.4592631093558, 29.671941010867677, 19.38443959475273, 12.145450317887306, 12.149881920589092, 26.477322355389923, 20.158864718686704, 17.830380159122715, 14.568592086800345, 20.957415047603448, 20.22610166216706, 17.919934793197747, 23.491944577383506, 21.007148482910864], \"Category\": [\"Default\", \"Default\", \"Default\", \"Default\", \"Default\", \"Default\", \"Default\", \"Default\", \"Default\", \"Default\", \"Default\", \"Default\", \"Default\", \"Default\", \"Default\", \"Default\", \"Default\", \"Default\", \"Default\", \"Default\", \"Default\", \"Default\", \"Default\", \"Default\", \"Default\", \"Default\", \"Default\", \"Default\", \"Default\", \"Default\", \"Topic1\", \"Topic1\", \"Topic1\", \"Topic1\", \"Topic1\", \"Topic1\", \"Topic1\", \"Topic1\", \"Topic1\", \"Topic1\", \"Topic1\", \"Topic1\", \"Topic1\", \"Topic1\", \"Topic1\", \"Topic1\", \"Topic1\", \"Topic1\", \"Topic1\", \"Topic1\", \"Topic1\", \"Topic1\", \"Topic1\", \"Topic1\", \"Topic1\", \"Topic1\", \"Topic1\", \"Topic1\", \"Topic1\", \"Topic1\", \"Topic1\", \"Topic1\", \"Topic1\", \"Topic1\", \"Topic1\", \"Topic1\", \"Topic1\", \"Topic1\", \"Topic1\", \"Topic1\", \"Topic1\", \"Topic1\", \"Topic1\", \"Topic1\", \"Topic1\", \"Topic1\", \"Topic1\", \"Topic1\", \"Topic1\", \"Topic1\", \"Topic1\", \"Topic1\", \"Topic1\", \"Topic1\", \"Topic1\", \"Topic1\", \"Topic1\", \"Topic1\", \"Topic1\", \"Topic1\", \"Topic2\", \"Topic2\", \"Topic2\", \"Topic2\", \"Topic2\", \"Topic2\", \"Topic2\", \"Topic2\", \"Topic2\", \"Topic2\", \"Topic2\", \"Topic2\", \"Topic2\", \"Topic2\", \"Topic2\", \"Topic2\", \"Topic2\", \"Topic2\", \"Topic2\", \"Topic2\", \"Topic2\", \"Topic2\", \"Topic2\", \"Topic2\", \"Topic2\", \"Topic2\", \"Topic2\", \"Topic2\", \"Topic2\", \"Topic2\", \"Topic2\", \"Topic2\", \"Topic2\", \"Topic2\", \"Topic2\", \"Topic2\", \"Topic2\", \"Topic2\", \"Topic2\", \"Topic2\", \"Topic2\", \"Topic2\", \"Topic2\", \"Topic2\", \"Topic2\", \"Topic2\", \"Topic2\", \"Topic2\", \"Topic2\", \"Topic2\", \"Topic2\", \"Topic2\", \"Topic2\", \"Topic2\", \"Topic2\", \"Topic2\", \"Topic2\", \"Topic2\", \"Topic2\", \"Topic2\", \"Topic2\", \"Topic2\", \"Topic2\", \"Topic2\", \"Topic2\", \"Topic2\", \"Topic2\", \"Topic2\", \"Topic2\", \"Topic2\", \"Topic3\", \"Topic3\", \"Topic3\", \"Topic3\", \"Topic3\", \"Topic3\", \"Topic3\", \"Topic3\", \"Topic3\", \"Topic3\", \"Topic3\", \"Topic3\", \"Topic3\", \"Topic3\", \"Topic3\", \"Topic3\", \"Topic3\", \"Topic3\", \"Topic3\", \"Topic3\", \"Topic3\", \"Topic3\", \"Topic3\", \"Topic3\", \"Topic3\", \"Topic3\", \"Topic3\", \"Topic3\", \"Topic3\", \"Topic3\", \"Topic3\", \"Topic3\", \"Topic3\", \"Topic3\", \"Topic3\", \"Topic3\", \"Topic3\", \"Topic3\", \"Topic3\", \"Topic3\", \"Topic3\", \"Topic3\", \"Topic3\", \"Topic3\", \"Topic3\", \"Topic3\", \"Topic3\", \"Topic3\", \"Topic3\", \"Topic3\", \"Topic3\", \"Topic3\", \"Topic3\", \"Topic3\", \"Topic3\", \"Topic3\", \"Topic3\", \"Topic3\", \"Topic3\", \"Topic3\", \"Topic3\", \"Topic3\", \"Topic3\", \"Topic3\"], \"logprob\": [30.0, 29.0, 28.0, 27.0, 26.0, 25.0, 24.0, 23.0, 22.0, 21.0, 20.0, 19.0, 18.0, 17.0, 16.0, 15.0, 14.0, 13.0, 12.0, 11.0, 10.0, 9.0, 8.0, 7.0, 6.0, 5.0, 4.0, 3.0, 2.0, 1.0, -6.6437, -5.7924, -6.9108, -6.924, -5.263, -6.3803, -6.7266, -5.6221, -4.7667, -6.1553, -6.2733, -6.9798, -6.066, -6.7579, -6.9974, -6.5829, -7.2905, -6.4406, -5.291, -6.0838, -5.8144, -5.3709, -6.0151, -5.7, -5.9131, -6.7944, -7.324, -6.8119, -7.0369, -6.1138, -5.4567, -6.4734, -6.4735, -5.4823, -6.1697, -5.5362, -5.5824, -5.4792, -5.3791, -3.9361, -5.0298, -5.6502, -5.7647, -5.8796, -5.5821, -5.4894, -5.6757, -5.5618, -5.7913, -5.3157, -5.5783, -5.0467, -5.252, -5.5616, -5.5289, -5.3782, -5.6152, -5.2767, -5.5733, -5.5185, -6.3626, -6.2515, -7.2459, -6.2288, -6.7691, -6.1391, -7.6884, -6.6047, -7.27, -6.9898, -6.0064, -7.301, -7.7112, -6.3106, -6.6286, -7.3099, -7.7187, -7.3264, -7.293, -5.83, -7.7301, -7.052, -7.3378, -6.6461, -7.7217, -7.0371, -6.2551, -7.744, -7.0161, -7.7274, -5.6198, -6.0228, -6.837, -5.9812, -5.2139, -6.6827, -6.6783, -6.2871, -5.6011, -6.3358, -5.8685, -3.9853, -6.2574, -5.2842, -6.3362, -5.9832, -5.4272, -5.8994, -5.2874, -5.3745, -5.1009, -5.0944, -5.3615, -5.6341, -5.6928, -5.8453, -5.5971, -5.8475, -6.003, -5.7176, -5.7973, -5.6325, -5.6724, -5.9439, -5.9637, -5.9181, -5.9147, -5.9223, -5.9091, -5.958, -6.1505, -5.0341, -6.4631, -7.1833, -5.1234, -6.3516, -6.6972, -6.2394, -6.3796, -7.2336, -5.5131, -5.9514, -6.9645, -6.9707, -5.4768, -6.4249, -6.7638, -5.984, -7.6904, -6.7814, -6.2066, -6.7926, -6.1008, -7.0246, -6.8131, -7.0341, -6.8148, -7.3355, -7.7383, -7.7479, -4.8943, -6.1619, -6.3822, -5.5135, -5.8036, -4.7382, -5.6233, -5.4659, -6.2893, -6.1227, -5.4335, -5.6547, -6.0108, -5.8016, -5.4246, -5.7827, -5.3699, -5.9433, -4.5271, -5.2114, -5.8181, -5.4337, -5.6643, -5.9182, -5.9264, -5.5965, -5.7119, -5.8149, -5.8839, -5.7904, -5.8045, -5.861, -5.8754, -5.9095], \"loglift\": [30.0, 29.0, 28.0, 27.0, 26.0, 25.0, 24.0, 23.0, 22.0, 21.0, 20.0, 19.0, 18.0, 17.0, 16.0, 15.0, 14.0, 13.0, 12.0, 11.0, 10.0, 9.0, 8.0, 7.0, 6.0, 5.0, 4.0, 3.0, 2.0, 1.0, 0.6397, 0.6077, 0.5993, 0.5902, 0.5798, 0.5732, 0.5661, 0.5606, 0.5496, 0.5472, 0.536, 0.5331, 0.5308, 0.5263, 0.5175, 0.5169, 0.5156, 0.5139, 0.5129, 0.5083, 0.5079, 0.5037, 0.5033, 0.5009, 0.4999, 0.4923, 0.4829, 0.4807, 0.4801, 0.48, 0.4561, 0.4725, 0.4722, 0.4346, 0.4499, 0.3935, 0.3971, 0.3874, 0.338, 0.1481, 0.2615, 0.3633, 0.3756, 0.3929, 0.3292, 0.3062, 0.3436, 0.3038, 0.3713, 0.196, 0.2907, 0.0592, 0.1312, 0.2723, 0.1489, 0.027, 0.1854, -0.2279, 0.1013, 0.0063, 0.6389, 0.6171, 0.61, 0.6053, 0.5864, 0.5808, 0.566, 0.5622, 0.5547, 0.5501, 0.5499, 0.5471, 0.5439, 0.5423, 0.5399, 0.5372, 0.5369, 0.5342, 0.5293, 0.5289, 0.5287, 0.5274, 0.5222, 0.5218, 0.5163, 0.5153, 0.5149, 0.5143, 0.5119, 0.511, 0.5045, 0.4978, 0.5025, 0.4655, 0.4228, 0.4788, 0.4763, 0.4462, 0.3617, 0.4286, 0.365, 0.0989, 0.4064, 0.2406, 0.4077, 0.3359, 0.2118, 0.2737, 0.1178, 0.1372, 0.005, -0.0456, 0.0328, 0.1096, 0.1065, 0.1649, 0.0239, 0.1328, 0.2308, -0.043, 0.0331, -0.2493, -0.3811, 0.0814, 0.1069, -0.0525, -0.0967, -0.1394, -0.2312, -0.089, 0.7673, 0.7488, 0.7396, 0.711, 0.6946, 0.6911, 0.6814, 0.6764, 0.6598, 0.6545, 0.638, 0.6376, 0.6326, 0.6321, 0.6219, 0.6206, 0.614, 0.5995, 0.5994, 0.5918, 0.5812, 0.5793, 0.5742, 0.5706, 0.5603, 0.5587, 0.5557, 0.5466, 0.5463, 0.5359, 0.5, 0.5162, 0.5177, 0.4668, 0.4627, 0.3107, 0.402, 0.3646, 0.4859, 0.4519, 0.3102, 0.3096, 0.3939, 0.3294, 0.1964, 0.2879, 0.0133, 0.3079, -0.4429, -0.1056, 0.1921, -0.1424, 0.0528, 0.2664, 0.2578, -0.1912, -0.034, -0.0143, 0.1188, -0.1514, -0.1299, -0.0654, -0.3505, -0.2728]}, \"token.table\": {\"Topic\": [1, 2, 3, 1, 2, 3, 1, 2, 3, 2, 1, 2, 3, 1, 2, 3, 1, 2, 3, 1, 2, 3, 1, 2, 1, 2, 3, 1, 2, 3, 2, 1, 2, 1, 2, 3, 1, 2, 3, 3, 1, 2, 3, 1, 2, 3, 1, 3, 1, 2, 3, 1, 2, 3, 1, 2, 3, 1, 2, 3, 1, 2, 3, 1, 2, 3, 1, 1, 2, 3, 1, 2, 3, 1, 3, 1, 2, 3, 1, 2, 3, 1, 2, 3, 1, 2, 3, 1, 2, 3, 1, 2, 3, 1, 2, 3, 1, 2, 3, 1, 2, 1, 2, 3, 1, 1, 2, 3, 1, 2, 3, 1, 2, 3, 1, 2, 3, 1, 2, 3, 1, 2, 3, 1, 2, 3, 1, 2, 3, 1, 1, 1, 2, 3, 1, 2, 3, 1, 2, 3, 1, 2, 3, 1, 2, 1, 2, 3, 1, 2, 3, 1, 2, 3, 1, 2, 3, 1, 2, 3, 1, 3, 2, 1, 2, 3, 1, 2, 3, 1, 2, 3, 1, 2, 3, 1, 2, 3, 1, 2, 3, 1, 2, 3, 1, 2, 3, 2, 1, 2, 3, 1, 2, 3, 1, 2, 3, 1, 2, 3, 1, 2, 3, 1, 2, 3, 1, 2, 3, 1, 2, 3, 1, 2, 3, 1, 2, 3, 1, 3, 1, 2, 1, 2, 3, 1, 2, 3, 1, 2, 3, 1, 2, 3, 1, 2, 3, 1, 2, 1, 2, 3, 1, 2, 3, 1, 2, 3, 1, 2, 3, 3, 1, 2, 1, 3, 1, 2, 3, 1, 2, 3, 1, 2, 3, 1, 2, 3, 1, 2, 3, 1, 3, 1, 2, 3, 1, 2, 1, 2, 3, 1, 2, 3, 2, 1, 2, 3, 1, 2, 3, 1, 2, 3, 1, 2, 3, 1, 2, 3, 1, 3, 1, 2, 3, 1, 2, 1, 2, 1, 2, 1, 1, 2, 3, 1, 2, 3, 1, 2, 3, 1, 2, 3, 1, 2, 3, 1, 3, 1, 2, 3, 1, 2, 3, 1, 1, 2, 3, 1, 2, 2, 1, 2, 3, 1, 2, 3, 1, 2, 3, 1, 3, 1, 2, 3, 2, 2, 3, 1, 2, 3, 1, 2, 3, 1, 2, 3, 1, 2, 3, 1, 2, 3, 1, 2, 3, 1, 2, 3, 2, 3, 1, 2, 1, 2, 3, 1, 2, 3, 1, 2, 3, 1, 2, 3, 2, 3, 2, 3, 1, 2, 3, 1, 3, 1, 2, 3, 2, 3, 1, 2, 3], \"Freq\": [0.6293140314711906, 0.17980400899176874, 0.17980400899176874, 0.13296240613958962, 0.3988872184187689, 0.3988872184187689, 0.31528806476347826, 0.4729320971452174, 0.15764403238173913, 0.6528366513787575, 0.1348773281915939, 0.2697546563831878, 0.4046319845747817, 0.32330629155341006, 0.6466125831068201, 0.32330629155341006, 0.3681134155678516, 0.12270447185595053, 0.4908178874238021, 0.3981127789685082, 0.07962255579370164, 0.5573578905559116, 0.7050400850634095, 0.17626002126585238, 0.34585356815120094, 0.4323169601890012, 0.2593901761134007, 0.7459959546774818, 0.12433265911291363, 0.12433265911291363, 0.6531218703436051, 0.7051618428034551, 0.17629046070086377, 0.7396272722840194, 0.16436161606311542, 0.08218080803155771, 0.27027853592658163, 0.27027853592658163, 0.5405570718531633, 0.6718522220810008, 0.3520331100015965, 0.26402483250119735, 0.3520331100015965, 0.18636771380915473, 0.5591031414274642, 0.18636771380915473, 0.8340235552853097, 0.6723855447800179, 0.6590496113305856, 0.1797408030901597, 0.1797408030901597, 0.7246770134217767, 0.06038975111848139, 0.24155900447392556, 0.7425511016314092, 0.24751703387713642, 0.12375851693856821, 0.4341047470121326, 0.4341047470121326, 0.4341047470121326, 0.44959410335827515, 0.44959410335827515, 0.44959410335827515, 0.21871294240614858, 0.43742588481229716, 0.21871294240614858, 0.9297955615176314, 0.34002675254465853, 0.34002675254465853, 0.6800535050893171, 0.34566279469331884, 0.4608837262577585, 0.11522093156443962, 0.4551127222741472, 0.4551127222741472, 0.7604853853872667, 0.17549662739706157, 0.05849887579902052, 0.21721265396863346, 0.4344253079372669, 0.21721265396863346, 0.6005511083310836, 0.24022044333243345, 0.1801653324993251, 0.6244972094425203, 0.2775543153077868, 0.1387771576538934, 0.6264842398873609, 0.25059369595494435, 0.12529684797747218, 0.48027094240255513, 0.22166351187810238, 0.29555134917080317, 0.3459448268051899, 0.3459448268051899, 0.2594586201038924, 0.21988289197949856, 0.4397657839589971, 0.21988289197949856, 0.7480716988607046, 0.2493572329535682, 0.16318749317089906, 0.48956247951269716, 0.3263749863417981, 0.7411704088529585, 0.2880814900666172, 0.4321222350999258, 0.2880814900666172, 0.38172646682944933, 0.38172646682944933, 0.23857904176840583, 0.5461403323498337, 0.3360863583691284, 0.12603238438842315, 0.22413777003846225, 0.29885036005128296, 0.4482755400769245, 0.5729318480976207, 0.20221124050504258, 0.23591311392254968, 0.7112095027710371, 0.17780237569275928, 0.17780237569275928, 0.32102359246260054, 0.4280314566168007, 0.21401572830840035, 0.28505561288234954, 0.42758341932352434, 0.14252780644117477, 0.9336704544988502, 0.8333558218422207, 0.2703277120861869, 0.2703277120861869, 0.5406554241723738, 0.2699353748757876, 0.2699353748757876, 0.5398707497515752, 0.670684025973278, 0.13413680519465562, 0.20120520779198342, 0.1478551451064896, 0.44356543531946874, 0.44356543531946874, 0.42448880844324005, 0.42448880844324005, 0.6898041223977499, 0.11496735373295833, 0.22993470746591665, 0.4960596809169655, 0.24802984045848275, 0.24802984045848275, 0.2889200118826953, 0.2889200118826953, 0.4044880166357734, 0.3437853696574315, 0.29089531278705744, 0.37023039809261854, 0.17106919742456475, 0.3421383948491295, 0.5132075922736943, 0.388441820425869, 0.5826627306388035, 0.6420534647601738, 0.4479456184223885, 0.2799660115139928, 0.25196941036259357, 0.2013675352612345, 0.33561255876872415, 0.4698575822762138, 0.7531700919203265, 0.16737113153785033, 0.16737113153785033, 0.330287890937577, 0.2642303127500616, 0.3963454691250924, 0.31789132976287765, 0.31789132976287765, 0.37087321805669055, 0.16836747854475342, 0.33673495708950685, 0.5051024356342603, 0.2467431818666182, 0.1233715909333091, 0.4934863637332364, 0.46169478808579123, 0.39573838978782105, 0.06595639829797018, 0.6523871299870541, 0.6360483521423883, 0.12720967042847767, 0.25441934085695533, 0.3255987063979341, 0.40699838299741764, 0.3255987063979341, 0.2680419108740526, 0.2680419108740526, 0.44673651812342097, 0.7243098406044408, 0.20694566874412595, 0.10347283437206298, 0.2938584759004483, 0.2938584759004483, 0.3673230948755603, 0.22010929684019107, 0.44021859368038213, 0.44021859368038213, 0.4944106465510854, 0.29664638793065123, 0.2472053232755427, 0.3332199039624269, 0.4284255908088346, 0.19041137369281536, 0.6138415193438932, 0.16741132345742543, 0.2790188724290424, 0.42567783041797824, 0.38311004737618043, 0.21283891520898912, 0.3871257733550431, 0.5806886600325647, 0.6241550547678122, 0.3120775273839061, 0.15051802981181156, 0.3010360596236231, 0.4515540894354347, 0.4345760714183973, 0.4345760714183973, 0.4345760714183973, 0.7601722770552871, 0.13821314128277948, 0.1036598559620846, 0.19476588345489207, 0.38953176690978414, 0.5842976503646762, 0.32126298274432796, 0.4818944741164919, 0.16063149137216398, 0.3155489367162793, 0.6310978734325586, 0.6381239587280759, 0.12762479174561517, 0.25524958349123034, 0.7314869125690913, 0.16880467213132877, 0.1125364480875525, 0.7438601022678871, 0.24795336742262905, 0.12397668371131453, 0.710532123276215, 0.17763303081905374, 0.17763303081905374, 0.6758723894550351, 0.8224944659867515, 0.20562361649668787, 0.22790270997132628, 0.6837081299139789, 0.44807816417947216, 0.3360586231346041, 0.22403908208973608, 0.23882678250233721, 0.47765356500467443, 0.3582401737535058, 0.6902116460316644, 0.18823953982681757, 0.12549302655121172, 0.17120413817625038, 0.2853402302937506, 0.5706804605875012, 0.16530319012473044, 0.2755053168745507, 0.6061116971240116, 0.4523193359129382, 0.4523193359129382, 0.28084530681577624, 0.28084530681577624, 0.42126796022366436, 0.7559261984316094, 0.2834723244118535, 0.23256189801012792, 0.46512379602025583, 0.31008253068017055, 0.5039118324082341, 0.32250357274126984, 0.18140825966696428, 0.6417519036012965, 0.5798295664910689, 0.23193182659642755, 0.23193182659642755, 0.2695466266132883, 0.2695466266132883, 0.5390932532265766, 0.6190532329471283, 0.10317553882452138, 0.30952661647356416, 0.3749308885392625, 0.28119816640444684, 0.32806452747185466, 0.3121666638587031, 0.3121666638587031, 0.39020832982337894, 0.271728760678906, 0.543457521357812, 0.50475648414009, 0.22433621517337332, 0.2804202689667167, 0.4234667872247217, 0.4234667872247217, 0.7436794599742345, 0.24789315332474482, 0.7689373392683427, 0.15378746785366856, 0.62284794487546, 0.28256312323377136, 0.3767508309783618, 0.3767508309783618, 0.34579908825123823, 0.34579908825123823, 0.34579908825123823, 0.6301924699625645, 0.23632217623596166, 0.15754811749064113, 0.6281333280150854, 0.2791703680067046, 0.1395851840033523, 0.3292213065232866, 0.24691597989246497, 0.3292213065232866, 0.33810698711300663, 0.6762139742260133, 0.4219181126391408, 0.5625574835188545, 0.14063937087971362, 0.32934143200182286, 0.24700607400136715, 0.32934143200182286, 0.6216013035989287, 0.24322673994010566, 0.24322673994010566, 0.4864534798802113, 0.8171754623857146, 0.20429386559642865, 0.6549305861067416, 0.14703618148544492, 0.44110854445633474, 0.29407236297088984, 0.271515320858175, 0.271515320858175, 0.54303064171635, 0.2613272376261716, 0.5226544752523432, 0.2613272376261716, 0.34281327453534804, 0.5142199118030221, 0.6909938291110802, 0.13819876582221605, 0.13819876582221605, 0.6552679108736663, 0.4400056325455242, 0.4400056325455242, 0.6930146510516627, 0.18900399574136256, 0.18900399574136256, 0.33665713252128343, 0.33665713252128343, 0.33665713252128343, 0.4118448758982146, 0.27456325059880976, 0.3432040632485122, 0.22669157149037697, 0.302255428653836, 0.5289470001442129, 0.3920441666285421, 0.4900552082856776, 0.19602208331427104, 0.3192849959464749, 0.6385699918929498, 0.3192849959464749, 0.33745886722879354, 0.33745886722879354, 0.33745886722879354, 0.5310712752030885, 0.26553563760154425, 0.7417783116671484, 0.24725943722238278, 0.30781110625715274, 0.30781110625715274, 0.41041480834287036, 0.22025220715103633, 0.44050441430207266, 0.44050441430207266, 0.5985059781907247, 0.29925298909536235, 0.11970119563814494, 0.45321803462339877, 0.3399135259675491, 0.22660901731169938, 0.3321660248005591, 0.3321660248005591, 0.43793754161461385, 0.43793754161461385, 0.2972620689479112, 0.1486310344739556, 0.4458931034218668, 0.7481080544747366, 0.24936935149157888, 0.6443591246868742, 0.08054489058585927, 0.3221795623434371, 0.4397774704983919, 0.4397774704983919, 0.4033901512112505, 0.1344633837370835, 0.537853534948334], \"Term\": [\"acu\", \"acu\", \"acu\", \"adil\", \"adil\", \"adil\", \"adu\", \"adu\", \"adu\", \"agenda\", \"air\", \"air\", \"air\", \"ajar\", \"ajar\", \"ajar\", \"aksi\", \"aksi\", \"aksi\", \"aman\", \"aman\", \"aman\", \"anggar\", \"anggar\", \"anggota\", \"anggota\", \"anggota\", \"angka\", \"angka\", \"angka\", \"anniesa\", \"apbn\", \"apbn\", \"argentina\", \"argentina\", \"argentina\", \"asrudin\", \"asrudin\", \"asrudin\", \"asuh\", \"ata\", \"ata\", \"ata\", \"ayat\", \"ayat\", \"ayat\", \"bagu\", \"bahan\", \"baik\", \"baik\", \"baik\", \"balap\", \"balap\", \"balap\", \"banding\", \"banding\", \"banding\", \"banyak\", \"banyak\", \"banyak\", \"bap\", \"bap\", \"bap\", \"barat\", \"barat\", \"barat\", \"basi\", \"baswedan\", \"baswedan\", \"baswedan\", \"bayar\", \"bayar\", \"bayar\", \"bek\", \"bek\", \"belanja\", \"belanja\", \"belanja\", \"berita\", \"berita\", \"berita\", \"bunga\", \"bunga\", \"bunga\", \"capai\", \"capai\", \"capai\", \"catat\", \"catat\", \"catat\", \"cnn\", \"cnn\", \"cnn\", \"com\", \"com\", \"com\", \"cuci\", \"cuci\", \"cuci\", \"dalic\", \"dalic\", \"danick\", \"danick\", \"danick\", \"darmin\", \"direktur\", \"direktur\", \"direktur\", \"diskon\", \"diskon\", \"diskon\", \"dolar\", \"dolar\", \"dolar\", \"duga\", \"duga\", \"duga\", \"dunia\", \"dunia\", \"dunia\", \"enam\", \"enam\", \"enam\", \"euro\", \"euro\", \"euro\", \"fela\", \"fela\", \"fela\", \"finish\", \"fomc\", \"forum\", \"forum\", \"forum\", \"gedung\", \"gedung\", \"gedung\", \"golf\", \"golf\", \"golf\", \"habiburokhman\", \"habiburokhman\", \"habiburokhman\", \"haiyani\", \"haiyani\", \"hamilton\", \"hamilton\", \"hamilton\", \"hasil\", \"hasil\", \"hasil\", \"indek\", \"indek\", \"indek\", \"indonesia\", \"indonesia\", \"indonesia\", \"informasi\", \"informasi\", \"informasi\", \"iran\", \"iran\", \"istirahat\", \"jakarta\", \"jakarta\", \"jakarta\", \"jender\", \"jender\", \"jender\", \"juara\", \"juara\", \"juara\", \"kait\", \"kait\", \"kait\", \"kasu\", \"kasu\", \"kasu\", \"kasus\", \"kasus\", \"kasus\", \"kera\", \"kera\", \"kera\", \"kerja\", \"kerja\", \"kerja\", \"kiki\", \"klasemen\", \"klasemen\", \"klasemen\", \"korban\", \"korban\", \"korban\", \"kpk\", \"kpk\", \"kpk\", \"kroasia\", \"kroasia\", \"kroasia\", \"kuat\", \"kuat\", \"kuat\", \"kuhp\", \"kuhp\", \"kuhp\", \"laku\", \"laku\", \"laku\", \"lapor\", \"lapor\", \"lapor\", \"lawan\", \"lawan\", \"lawan\", \"lemah\", \"lemah\", \"lemah\", \"lempar\", \"lempar\", \"leo\", \"leo\", \"libat\", \"libat\", \"libat\", \"mahasiswa\", \"mahasiswa\", \"mahasiswa\", \"main\", \"main\", \"main\", \"makan\", \"makan\", \"makan\", \"masuk\", \"masuk\", \"masuk\", \"menak\", \"menak\", \"menang\", \"menang\", \"menang\", \"menteri\", \"menteri\", \"menteri\", \"messi\", \"messi\", \"messi\", \"mickelson\", \"mickelson\", \"mickelson\", \"milad\", \"modal\", \"modal\", \"mohammadi\", \"mohammadi\", \"mu\", \"mu\", \"mu\", \"mudik\", \"mudik\", \"mudik\", \"naik\", \"naik\", \"naik\", \"novel\", \"novel\", \"novel\", \"oknum\", \"oknum\", \"oknum\", \"oleh\", \"oleh\", \"orang\", \"orang\", \"orang\", \"pagu\", \"pagu\", \"pasal\", \"pasal\", \"pasal\", \"persen\", \"persen\", \"persen\", \"persis\", \"piala\", \"piala\", \"piala\", \"pimpin\", \"pimpin\", \"pimpin\", \"poin\", \"poin\", \"poin\", \"polisi\", \"polisi\", \"polisi\", \"polri\", \"polri\", \"polri\", \"portug\", \"portug\", \"posisi\", \"posisi\", \"posisi\", \"posko\", \"posko\", \"rakit\", \"rakit\", \"realisasi\", \"realisasi\", \"rekor\", \"rita\", \"rita\", \"rita\", \"rumah\", \"rumah\", \"rumah\", \"rupiah\", \"rupiah\", \"rupiah\", \"rusia\", \"rusia\", \"rusia\", \"saham\", \"saham\", \"saham\", \"salto\", \"salto\", \"sanksi\", \"sanksi\", \"sanksi\", \"selatan\", \"selatan\", \"selatan\", \"sempurna\", \"serang\", \"serang\", \"serang\", \"serap\", \"serap\", \"setor\", \"sidi\", \"sidi\", \"sidi\", \"siram\", \"siram\", \"siram\", \"sopir\", \"sopir\", \"sopir\", \"spanyol\", \"spanyol\", \"stenson\", \"stenson\", \"stenson\", \"surachman\", \"tanda\", \"tanda\", \"tanding\", \"tanding\", \"tanding\", \"tempat\", \"tempat\", \"tempat\", \"terima\", \"terima\", \"terima\", \"teror\", \"teror\", \"teror\", \"thr\", \"thr\", \"thr\", \"timbang\", \"timbang\", \"timbang\", \"time\", \"time\", \"time\", \"tipu\", \"tipu\", \"tkdd\", \"tkdd\", \"tni\", \"tni\", \"tni\", \"travel\", \"travel\", \"travel\", \"triliun\", \"triliun\", \"triliun\", \"uang\", \"uang\", \"uang\", \"umrah\", \"umrah\", \"undang\", \"undang\", \"ungkap\", \"ungkap\", \"ungkap\", \"urut\", \"urut\", \"vettel\", \"vettel\", \"vettel\", \"vicki\", \"vicki\", \"voni\", \"voni\", \"voni\"]}, \"R\": 30, \"lambda.step\": 0.01, \"plot.opts\": {\"xlab\": \"PC1\", \"ylab\": \"PC2\"}, \"topic.order\": [1, 2, 3]};\n",
              "\n",
              "function LDAvis_load_lib(url, callback){\n",
              "  var s = document.createElement('script');\n",
              "  s.src = url;\n",
              "  s.async = true;\n",
              "  s.onreadystatechange = s.onload = callback;\n",
              "  s.onerror = function(){console.warn(\"failed to load library \" + url);};\n",
              "  document.getElementsByTagName(\"head\")[0].appendChild(s);\n",
              "}\n",
              "\n",
              "if(typeof(LDAvis) !== \"undefined\"){\n",
              "   // already loaded: just create the visualization\n",
              "   !function(LDAvis){\n",
              "       new LDAvis(\"#\" + \"ldavis_el2301375500164894883716018299\", ldavis_el2301375500164894883716018299_data);\n",
              "   }(LDAvis);\n",
              "}else if(typeof define === \"function\" && define.amd){\n",
              "   // require.js is available: use it to load d3/LDAvis\n",
              "   require.config({paths: {d3: \"https://d3js.org/d3.v5\"}});\n",
              "   require([\"d3\"], function(d3){\n",
              "      window.d3 = d3;\n",
              "      LDAvis_load_lib(\"https://cdn.jsdelivr.net/gh/bmabey/pyLDAvis@3.4.0/pyLDAvis/js/ldavis.v3.0.0.js\", function(){\n",
              "        new LDAvis(\"#\" + \"ldavis_el2301375500164894883716018299\", ldavis_el2301375500164894883716018299_data);\n",
              "      });\n",
              "    });\n",
              "}else{\n",
              "    // require.js not available: dynamically load d3 & LDAvis\n",
              "    LDAvis_load_lib(\"https://d3js.org/d3.v5.js\", function(){\n",
              "         LDAvis_load_lib(\"https://cdn.jsdelivr.net/gh/bmabey/pyLDAvis@3.4.0/pyLDAvis/js/ldavis.v3.0.0.js\", function(){\n",
              "                 new LDAvis(\"#\" + \"ldavis_el2301375500164894883716018299\", ldavis_el2301375500164894883716018299_data);\n",
              "            })\n",
              "         });\n",
              "}\n",
              "</script>"
            ]
          },
          "metadata": {},
          "execution_count": 19
        }
      ]
    },
    {
      "cell_type": "markdown",
      "source": [
        "<br>\n",
        "<br>"
      ],
      "metadata": {
        "id": "vzjJGbEiah0U"
      }
    },
    {
      "cell_type": "markdown",
      "source": [
        "## How Dictionary and doc2bow Work"
      ],
      "metadata": {
        "id": "fMS9K4N7ahpS"
      }
    },
    {
      "cell_type": "code",
      "source": [
        "texts = [['durian', 'belimbing', 'cempedak' ], ['apel', 'belimbing']]\n",
        "\n",
        "dct = corpora.Dictionary(texts)  # initialize a Dictionary"
      ],
      "metadata": {
        "id": "hj70fA0oal5j"
      },
      "execution_count": null,
      "outputs": []
    },
    {
      "cell_type": "code",
      "source": [
        "len(dct)"
      ],
      "metadata": {
        "id": "kBJJIXytcJvn"
      },
      "execution_count": null,
      "outputs": []
    },
    {
      "cell_type": "code",
      "source": [
        "dct.keys()"
      ],
      "metadata": {
        "id": "DiRiygbXcL7R"
      },
      "execution_count": null,
      "outputs": []
    },
    {
      "cell_type": "code",
      "source": [
        "dct[1]"
      ],
      "metadata": {
        "id": "XGy6FnUCcVC_"
      },
      "execution_count": null,
      "outputs": []
    },
    {
      "cell_type": "code",
      "source": [
        "dct.doc2bow([\"belimbing\", \"apel\", \"non_existent_word\"])"
      ],
      "metadata": {
        "id": "WVNE0ZFEcHfw"
      },
      "execution_count": null,
      "outputs": []
    },
    {
      "cell_type": "markdown",
      "source": [
        "<br>\n",
        "<br>"
      ],
      "metadata": {
        "id": "kDK5VuSLgK3O"
      }
    },
    {
      "cell_type": "markdown",
      "source": [
        "## Revision History\n"
      ],
      "metadata": {
        "id": "2n2vi3qEcpVC"
      }
    },
    {
      "cell_type": "markdown",
      "source": [
        "Release: 1.2102.0601\n",
        "*   First release\n",
        "\n",
        "Release: 1.2402.0701\n",
        "*   Change preprocessing process\n",
        "*   Add how Dictionary dan doc2bow works"
      ],
      "metadata": {
        "id": "htqCRtcVgOrR"
      }
    }
  ]
}