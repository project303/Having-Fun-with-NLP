{
  "nbformat": 4,
  "nbformat_minor": 0,
  "metadata": {
    "colab": {
      "provenance": []
    },
    "kernelspec": {
      "name": "python3",
      "display_name": "Python 3"
    },
    "language_info": {
      "name": "python"
    }
  },
  "cells": [
    {
      "cell_type": "markdown",
      "source": [
        "# POS Tagging Indonesia\n",
        "\n",
        "*Notebook version: 1.2402.0601*\n",
        "\n",
        "<br>\n",
        "<br>"
      ],
      "metadata": {
        "id": "92AyUI4ei7H5"
      }
    },
    {
      "cell_type": "code",
      "source": [
        "! pip install python-crfsuite"
      ],
      "metadata": {
        "id": "x-TbQvmIczo-"
      },
      "execution_count": null,
      "outputs": []
    },
    {
      "cell_type": "code",
      "source": [
        "import nltk\n",
        "import pycrfsuite\n",
        "from nltk.tag import CRFTagger\n",
        "\n",
        "nltk.download('tagsets')"
      ],
      "metadata": {
        "id": "cPt8NEPZbzeB"
      },
      "execution_count": null,
      "outputs": []
    },
    {
      "cell_type": "code",
      "source": [
        "!wget https://raw.githubusercontent.com/project303/dataset/master/all_indo_man_tag_corpus_model.crf.tagger"
      ],
      "metadata": {
        "id": "iUflqnjHb-nh"
      },
      "execution_count": null,
      "outputs": []
    },
    {
      "cell_type": "code",
      "source": [
        "ct = CRFTagger()\n",
        "ct.set_model_file('all_indo_man_tag_corpus_model.crf.tagger')"
      ],
      "metadata": {
        "id": "V47RvvZycDYM"
      },
      "execution_count": null,
      "outputs": []
    },
    {
      "cell_type": "code",
      "source": [
        "hasil = ct.tag_sents([['Saya','bekerja','di','Bandung']])\n",
        "print(hasil)"
      ],
      "metadata": {
        "id": "j4LBWS8uhBlh"
      },
      "execution_count": null,
      "outputs": []
    },
    {
      "cell_type": "code",
      "source": [
        "nltk.help.upenn_tagset(\"PRP\")"
      ],
      "metadata": {
        "id": "A1kzNTkhdviC"
      },
      "execution_count": null,
      "outputs": []
    },
    {
      "cell_type": "code",
      "source": [
        "nltk.help.upenn_tagset(\"VB\")"
      ],
      "metadata": {
        "id": "r_spHraqjIKb"
      },
      "execution_count": null,
      "outputs": []
    },
    {
      "cell_type": "markdown",
      "source": [
        "<br>\n",
        "<br>"
      ],
      "metadata": {
        "id": "LSiNqcNaiV4H"
      }
    },
    {
      "cell_type": "markdown",
      "source": [
        "## Revision History"
      ],
      "metadata": {
        "id": "NitLjEr_iTh6"
      }
    },
    {
      "cell_type": "markdown",
      "source": [
        "Release: 1.2407.0801\n",
        "- Add information for tagset\n",
        "\n",
        "Release: 1.2402.0601\n",
        "- POS Tagging Indonesia as a note"
      ],
      "metadata": {
        "id": "41e0W5JkjIsP"
      }
    }
  ]
}